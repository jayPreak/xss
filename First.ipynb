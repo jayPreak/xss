{
 "cells": [
  {
   "cell_type": "code",
   "execution_count": 1,
   "id": "b6ce47e1",
   "metadata": {
    "_cell_guid": "b1076dfc-b9ad-4769-8c92-a6c4dae69d19",
    "_uuid": "8f2839f25d086af736a60e9eeb907d3b93b6e0e5",
    "execution": {
     "iopub.execute_input": "2023-03-06T05:44:51.008380Z",
     "iopub.status.busy": "2023-03-06T05:44:51.007957Z",
     "iopub.status.idle": "2023-03-06T05:44:52.548036Z",
     "shell.execute_reply": "2023-03-06T05:44:52.546580Z"
    },
    "papermill": {
     "duration": 1.550521,
     "end_time": "2023-03-06T05:44:52.551233",
     "exception": false,
     "start_time": "2023-03-06T05:44:51.000712",
     "status": "completed"
    },
    "tags": []
   },
   "outputs": [],
   "source": [
    "import pandas as pd\n",
    "import numpy as np\n",
    "from sklearn.preprocessing import LabelEncoder\n",
    "from sklearn.model_selection import cross_val_score, RepeatedStratifiedKFold\n",
    "from sklearn.linear_model import LogisticRegression\n",
    "from sklearn.neighbors import KNeighborsClassifier\n",
    "from sklearn.tree import DecisionTreeClassifier\n",
    "from sklearn.svm import SVC\n",
    "from sklearn.naive_bayes import GaussianNB\n",
    "from sklearn.pipeline import make_pipeline\n",
    "from sklearn.feature_extraction.text import CountVectorizer, TfidfVectorizer\n",
    "from matplotlib import pyplot as plt\n",
    "%matplotlib inline"
   ]
  },
  {
   "cell_type": "markdown",
   "id": "659ca2f4",
   "metadata": {
    "papermill": {
     "duration": 0.003712,
     "end_time": "2023-03-06T05:44:52.559298",
     "exception": false,
     "start_time": "2023-03-06T05:44:52.555586",
     "status": "completed"
    },
    "tags": []
   },
   "source": []
  },
  {
   "cell_type": "code",
   "execution_count": 2,
   "id": "183f5a3b",
   "metadata": {
    "execution": {
     "iopub.execute_input": "2023-03-06T05:44:52.569470Z",
     "iopub.status.busy": "2023-03-06T05:44:52.569009Z",
     "iopub.status.idle": "2023-03-06T05:44:52.646724Z",
     "shell.execute_reply": "2023-03-06T05:44:52.645239Z"
    },
    "papermill": {
     "duration": 0.08634,
     "end_time": "2023-03-06T05:44:52.649696",
     "exception": false,
     "start_time": "2023-03-06T05:44:52.563356",
     "status": "completed"
    },
    "tags": []
   },
   "outputs": [],
   "source": [
    "df = pd.read_csv(\"/kaggle/input/cross-site-scripting-xss-dataset-for-deep-learning/XSS_dataset.csv\")"
   ]
  },
  {
   "cell_type": "markdown",
   "id": "f079045f",
   "metadata": {
    "papermill": {
     "duration": 0.00375,
     "end_time": "2023-03-06T05:44:52.657749",
     "exception": false,
     "start_time": "2023-03-06T05:44:52.653999",
     "status": "completed"
    },
    "tags": []
   },
   "source": []
  },
  {
   "cell_type": "code",
   "execution_count": 3,
   "id": "5b531252",
   "metadata": {
    "execution": {
     "iopub.execute_input": "2023-03-06T05:44:52.667716Z",
     "iopub.status.busy": "2023-03-06T05:44:52.667274Z",
     "iopub.status.idle": "2023-03-06T05:44:52.684280Z",
     "shell.execute_reply": "2023-03-06T05:44:52.682912Z"
    },
    "papermill": {
     "duration": 0.025298,
     "end_time": "2023-03-06T05:44:52.687003",
     "exception": false,
     "start_time": "2023-03-06T05:44:52.661705",
     "status": "completed"
    },
    "tags": []
   },
   "outputs": [],
   "source": [
    "df = df.dropna()"
   ]
  },
  {
   "cell_type": "code",
   "execution_count": 4,
   "id": "d9e86141",
   "metadata": {
    "execution": {
     "iopub.execute_input": "2023-03-06T05:44:52.698218Z",
     "iopub.status.busy": "2023-03-06T05:44:52.697365Z",
     "iopub.status.idle": "2023-03-06T05:44:52.706131Z",
     "shell.execute_reply": "2023-03-06T05:44:52.705219Z"
    },
    "papermill": {
     "duration": 0.017154,
     "end_time": "2023-03-06T05:44:52.708776",
     "exception": false,
     "start_time": "2023-03-06T05:44:52.691622",
     "status": "completed"
    },
    "tags": []
   },
   "outputs": [],
   "source": [
    "X = df['Sentence']\n",
    "y = df['Label']"
   ]
  },
  {
   "cell_type": "code",
   "execution_count": 5,
   "id": "05219b29",
   "metadata": {
    "execution": {
     "iopub.execute_input": "2023-03-06T05:44:52.718915Z",
     "iopub.status.busy": "2023-03-06T05:44:52.718441Z",
     "iopub.status.idle": "2023-03-06T05:44:52.950897Z",
     "shell.execute_reply": "2023-03-06T05:44:52.949149Z"
    },
    "papermill": {
     "duration": 0.241134,
     "end_time": "2023-03-06T05:44:52.954017",
     "exception": false,
     "start_time": "2023-03-06T05:44:52.712883",
     "status": "completed"
    },
    "tags": []
   },
   "outputs": [],
   "source": [
    "vectorizer = CountVectorizer() # you can also try TfidfVectorizer()\n",
    "X = vectorizer.fit_transform(X)"
   ]
  },
  {
   "cell_type": "code",
   "execution_count": 6,
   "id": "49bed9e0",
   "metadata": {
    "execution": {
     "iopub.execute_input": "2023-03-06T05:44:52.964494Z",
     "iopub.status.busy": "2023-03-06T05:44:52.963997Z",
     "iopub.status.idle": "2023-03-06T05:44:52.970918Z",
     "shell.execute_reply": "2023-03-06T05:44:52.969137Z"
    },
    "papermill": {
     "duration": 0.015668,
     "end_time": "2023-03-06T05:44:52.973846",
     "exception": false,
     "start_time": "2023-03-06T05:44:52.958178",
     "status": "completed"
    },
    "tags": []
   },
   "outputs": [],
   "source": [
    "lbl = LabelEncoder()\n",
    "y = lbl.fit_transform(y)"
   ]
  },
  {
   "cell_type": "code",
   "execution_count": 7,
   "id": "e56c9a99",
   "metadata": {
    "execution": {
     "iopub.execute_input": "2023-03-06T05:44:52.984709Z",
     "iopub.status.busy": "2023-03-06T05:44:52.983513Z",
     "iopub.status.idle": "2023-03-06T05:44:52.989794Z",
     "shell.execute_reply": "2023-03-06T05:44:52.988612Z"
    },
    "papermill": {
     "duration": 0.014792,
     "end_time": "2023-03-06T05:44:52.992748",
     "exception": false,
     "start_time": "2023-03-06T05:44:52.977956",
     "status": "completed"
    },
    "tags": []
   },
   "outputs": [],
   "source": [
    "def get_models():\n",
    "    models = dict()\n",
    "    models['lr'] = make_pipeline(LogisticRegression())\n",
    "    models['knn'] = make_pipeline(KNeighborsClassifier())\n",
    "    models['cart'] = DecisionTreeClassifier()\n",
    "    models['svm'] = make_pipeline(SVC())\n",
    "#     models['bayes'] = make_pipeline(GaussianNB())\n",
    "    return models"
   ]
  },
  {
   "cell_type": "code",
   "execution_count": 8,
   "id": "c94659f0",
   "metadata": {
    "execution": {
     "iopub.execute_input": "2023-03-06T05:44:53.003342Z",
     "iopub.status.busy": "2023-03-06T05:44:53.002896Z",
     "iopub.status.idle": "2023-03-06T05:44:53.010066Z",
     "shell.execute_reply": "2023-03-06T05:44:53.008418Z"
    },
    "papermill": {
     "duration": 0.016024,
     "end_time": "2023-03-06T05:44:53.012945",
     "exception": false,
     "start_time": "2023-03-06T05:44:52.996921",
     "status": "completed"
    },
    "tags": []
   },
   "outputs": [],
   "source": [
    "def evaluate_model(model, X, y):\n",
    "    cv = RepeatedStratifiedKFold(n_splits=10, n_repeats=3, random_state=1)\n",
    "    scores = cross_val_score(model, X, y, scoring='accuracy', cv=cv, n_jobs=-1, error_score='raise')\n",
    "    return scores"
   ]
  },
  {
   "cell_type": "code",
   "execution_count": 9,
   "id": "e1d646e8",
   "metadata": {
    "execution": {
     "iopub.execute_input": "2023-03-06T05:44:53.024310Z",
     "iopub.status.busy": "2023-03-06T05:44:53.023150Z",
     "iopub.status.idle": "2023-03-06T05:44:53.029533Z",
     "shell.execute_reply": "2023-03-06T05:44:53.027946Z"
    },
    "papermill": {
     "duration": 0.014831,
     "end_time": "2023-03-06T05:44:53.032451",
     "exception": false,
     "start_time": "2023-03-06T05:44:53.017620",
     "status": "completed"
    },
    "tags": []
   },
   "outputs": [],
   "source": [
    "models = get_models()\n",
    "results, names = list(), list()"
   ]
  },
  {
   "cell_type": "code",
   "execution_count": 10,
   "id": "12101c8e",
   "metadata": {
    "execution": {
     "iopub.execute_input": "2023-03-06T05:44:53.042425Z",
     "iopub.status.busy": "2023-03-06T05:44:53.041999Z",
     "iopub.status.idle": "2023-03-06T05:45:49.987661Z",
     "shell.execute_reply": "2023-03-06T05:45:49.986053Z"
    },
    "papermill": {
     "duration": 56.958743,
     "end_time": "2023-03-06T05:45:49.995296",
     "exception": false,
     "start_time": "2023-03-06T05:44:53.036553",
     "status": "completed"
    },
    "tags": []
   },
   "outputs": [
    {
     "name": "stdout",
     "output_type": "stream",
     "text": [
      ">lr 0.997 (0.001)\n",
      ">knn 0.994 (0.002)\n",
      ">cart 0.997 (0.001)\n",
      ">svm 0.996 (0.002)\n"
     ]
    }
   ],
   "source": [
    "for name, model in models.items():\n",
    "    scores = evaluate_model(model, X, y)\n",
    "    results.append(scores)\n",
    "    names.append(name)\n",
    "    print('>%s %.3f (%.3f)' % (name, np.mean(scores), np.std(scores)))"
   ]
  },
  {
   "cell_type": "code",
   "execution_count": 11,
   "id": "2bc34e8f",
   "metadata": {
    "execution": {
     "iopub.execute_input": "2023-03-06T05:45:50.006993Z",
     "iopub.status.busy": "2023-03-06T05:45:50.005891Z",
     "iopub.status.idle": "2023-03-06T05:45:50.281317Z",
     "shell.execute_reply": "2023-03-06T05:45:50.280128Z"
    },
    "papermill": {
     "duration": 0.284639,
     "end_time": "2023-03-06T05:45:50.284331",
     "exception": false,
     "start_time": "2023-03-06T05:45:49.999692",
     "status": "completed"
    },
    "tags": []
   },
   "outputs": [
    {
     "data": {
      "image/png": "[encoded data removed]",
      "text/plain": [
       "<Figure size 640x480 with 1 Axes>"
      ]
     },
     "metadata": {},
     "output_type": "display_data"
    }
   ],
   "source": [
    "plt.boxplot(results, labels=names, showmeans=True)\n",
    "plt.show()"
   ]
  },
  {
   "cell_type": "code",
   "execution_count": null,
   "id": "4830e09b",
   "metadata": {
    "papermill": {
     "duration": 0.004497,
     "end_time": "2023-03-06T05:45:50.293781",
     "exception": false,
     "start_time": "2023-03-06T05:45:50.289284",
     "status": "completed"
    },
    "tags": []
   },
   "outputs": [],
   "source": []
  }
 ],
 "metadata": {
  "kernelspec": {
   "display_name": "Python 3",
   "language": "python",
   "name": "python3"
  },
  "language_info": {
   "codemirror_mode": {
    "name": "ipython",
    "version": 3
   },
   "file_extension": ".py",
   "mimetype": "text/x-python",
   "name": "python",
   "nbconvert_exporter": "python",
   "pygments_lexer": "ipython3",
   "version": "3.7.12"
  },
  "papermill": {
   "default_parameters": {},
   "duration": 72.787071,
   "end_time": "2023-03-06T05:45:52.923997",
   "environment_variables": {},
   "exception": null,
   "input_path": "__notebook__.ipynb",
   "output_path": "__notebook__.ipynb",
   "parameters": {},
   "start_time": "2023-03-06T05:44:40.136926",
   "version": "2.4.0"
  }
 },
 "nbformat": 4,
 "nbformat_minor": 5
}
