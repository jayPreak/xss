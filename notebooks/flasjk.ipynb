{
 "cells": [
  {
   "cell_type": "code",
   "execution_count": 1,
   "id": "a8bfa37b",
   "metadata": {
    "_cell_guid": "b1076dfc-b9ad-4769-8c92-a6c4dae69d19",
    "_uuid": "8f2839f25d086af736a60e9eeb907d3b93b6e0e5",
    "execution": {
     "iopub.execute_input": "2023-04-17T06:13:20.103739Z",
     "iopub.status.busy": "2023-04-17T06:13:20.103077Z",
     "iopub.status.idle": "2023-04-17T06:13:21.898660Z",
     "shell.execute_reply": "2023-04-17T06:13:21.896754Z"
    },
    "papermill": {
     "duration": 1.805562,
     "end_time": "2023-04-17T06:13:21.902444",
     "exception": false,
     "start_time": "2023-04-17T06:13:20.096882",
     "status": "completed"
    },
    "tags": []
   },
   "outputs": [],
   "source": [
    "import numpy as np\n",
    "import pandas as pd\n",
    "import json\n",
    "from flask import Flask, request, jsonify\n",
    "from sklearn.feature_extraction.text import CountVectorizer\n",
    "from sklearn.linear_model import LogisticRegression\n",
    "from sklearn.metrics import accuracy_score\n"
   ]
  },
  {
   "cell_type": "code",
   "execution_count": 2,
   "id": "17f100c0",
   "metadata": {
    "execution": {
     "iopub.execute_input": "2023-04-17T06:13:21.909220Z",
     "iopub.status.busy": "2023-04-17T06:13:21.908782Z",
     "iopub.status.idle": "2023-04-17T06:13:21.918179Z",
     "shell.execute_reply": "2023-04-17T06:13:21.916580Z"
    },
    "papermill": {
     "duration": 0.016563,
     "end_time": "2023-04-17T06:13:21.921479",
     "exception": false,
     "start_time": "2023-04-17T06:13:21.904916",
     "status": "completed"
    },
    "tags": []
   },
   "outputs": [],
   "source": [
    "app = Flask(__name__)\n",
    "\n",
    "def preprocess_and_predict(input_text):\n",
    "    # Preprocess the input_text\n",
    "    input_text = input_text.replace('<[^<]+?>', '', regex=True)\n",
    "    input_vector = vectorizer.transform([input_text])\n",
    "    \n",
    "    # Make a prediction\n",
    "    prediction = model.predict(input_vector)\n",
    "\n",
    "    return prediction\n"
   ]
  },
  {
   "cell_type": "code",
   "execution_count": null,
   "id": "99a8fc60",
   "metadata": {
    "papermill": {
     "duration": 0.001819,
     "end_time": "2023-04-17T06:13:21.925696",
     "exception": false,
     "start_time": "2023-04-17T06:13:21.923877",
     "status": "completed"
    },
    "tags": []
   },
   "outputs": [],
   "source": []
  }
 ],
 "metadata": {
  "kernelspec": {
   "display_name": "Python 3",
   "language": "python",
   "name": "python3"
  },
  "language_info": {
   "codemirror_mode": {
    "name": "ipython",
    "version": 3
   },
   "file_extension": ".py",
   "mimetype": "text/x-python",
   "name": "python",
   "nbconvert_exporter": "python",
   "pygments_lexer": "ipython3",
   "version": "3.7.12"
  },
  "papermill": {
   "default_parameters": {},
   "duration": 16.070684,
   "end_time": "2023-04-17T06:13:23.055751",
   "environment_variables": {},
   "exception": null,
   "input_path": "__notebook__.ipynb",
   "output_path": "__notebook__.ipynb",
   "parameters": {},
   "start_time": "2023-04-17T06:13:06.985067",
   "version": "2.4.0"
  }
 },
 "nbformat": 4,
 "nbformat_minor": 5
}
