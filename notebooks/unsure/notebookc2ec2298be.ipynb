{
 "cells": [
  {
   "cell_type": "code",
   "execution_count": 1,
   "id": "09fb201d",
   "metadata": {
    "_cell_guid": "e0f5de8f-8dac-41d4-8918-d67de3001494",
    "_uuid": "316a2fdf-9636-43ec-9175-fa2a757b9a2f",
    "collapsed": false,
    "execution": {
     "iopub.execute_input": "2023-03-02T11:29:06.248508Z",
     "iopub.status.busy": "2023-03-02T11:29:06.248021Z",
     "iopub.status.idle": "2023-03-02T11:29:06.260633Z",
     "shell.execute_reply": "2023-03-02T11:29:06.259182Z"
    },
    "jupyter": {
     "outputs_hidden": false
    },
    "papermill": {
     "duration": 0.021808,
     "end_time": "2023-03-02T11:29:06.263520",
     "exception": false,
     "start_time": "2023-03-02T11:29:06.241712",
     "status": "completed"
    },
    "tags": []
   },
   "outputs": [
    {
     "name": "stdout",
     "output_type": "stream",
     "text": [
      "yahallo\n"
     ]
    }
   ],
   "source": [
    "print(\"yahallo\")"
   ]
  },
  {
   "cell_type": "code",
   "execution_count": 2,
   "id": "bc48f0e7",
   "metadata": {
    "_cell_guid": "8c82b4d1-1b6d-4637-adc2-353c31c307f9",
    "_uuid": "1adff7c3-6e7a-42c1-9e5a-1420c307e819",
    "collapsed": false,
    "execution": {
     "iopub.execute_input": "2023-03-02T11:29:06.274807Z",
     "iopub.status.busy": "2023-03-02T11:29:06.273735Z",
     "iopub.status.idle": "2023-03-02T11:29:16.260575Z",
     "shell.execute_reply": "2023-03-02T11:29:16.259230Z"
    },
    "jupyter": {
     "outputs_hidden": false
    },
    "papermill": {
     "duration": 9.994723,
     "end_time": "2023-03-02T11:29:16.263250",
     "exception": false,
     "start_time": "2023-03-02T11:29:06.268527",
     "status": "completed"
    },
    "tags": []
   },
   "outputs": [
    {
     "name": "stdout",
     "output_type": "stream",
     "text": [
      "Requirement already satisfied: openpyxl in /opt/conda/lib/python3.7/site-packages (3.1.1)\r\n",
      "Requirement already satisfied: et-xmlfile in /opt/conda/lib/python3.7/site-packages (from openpyxl) (1.1.0)\r\n",
      "\u001b[33mWARNING: Running pip as the 'root' user can result in broken permissions and conflicting behaviour with the system package manager. It is recommended to use a virtual environment instead: https://pip.pypa.io/warnings/venv\u001b[0m\u001b[33m\r\n",
      "\u001b[0m"
     ]
    }
   ],
   "source": [
    "!pip install openpyxl"
   ]
  },
  {
   "cell_type": "code",
   "execution_count": 3,
   "id": "4b68398d",
   "metadata": {
    "_cell_guid": "6389db80-7a6d-4017-ae66-b55cb9428697",
    "_uuid": "87d15818-dc4d-43fa-9eac-a592adfe9959",
    "collapsed": false,
    "execution": {
     "iopub.execute_input": "2023-03-02T11:29:16.273249Z",
     "iopub.status.busy": "2023-03-02T11:29:16.272811Z",
     "iopub.status.idle": "2023-03-02T11:29:16.278963Z",
     "shell.execute_reply": "2023-03-02T11:29:16.277745Z"
    },
    "jupyter": {
     "outputs_hidden": false
    },
    "papermill": {
     "duration": 0.013678,
     "end_time": "2023-03-02T11:29:16.281120",
     "exception": false,
     "start_time": "2023-03-02T11:29:16.267442",
     "status": "completed"
    },
    "tags": []
   },
   "outputs": [],
   "source": [
    "import pandas as pd\n",
    "import numpy as np"
   ]
  },
  {
   "cell_type": "code",
   "execution_count": 4,
   "id": "b663144e",
   "metadata": {
    "execution": {
     "iopub.execute_input": "2023-03-02T11:29:16.290578Z",
     "iopub.status.busy": "2023-03-02T11:29:16.290196Z",
     "iopub.status.idle": "2023-03-02T11:29:16.920781Z",
     "shell.execute_reply": "2023-03-02T11:29:16.918797Z"
    },
    "papermill": {
     "duration": 0.638214,
     "end_time": "2023-03-02T11:29:16.923310",
     "exception": false,
     "start_time": "2023-03-02T11:29:16.285096",
     "status": "completed"
    },
    "tags": []
   },
   "outputs": [
    {
     "data": {
      "text/html": [
       "<div>\n",
       "<style scoped>\n",
       "    .dataframe tbody tr th:only-of-type {\n",
       "        vertical-align: middle;\n",
       "    }\n",
       "\n",
       "    .dataframe tbody tr th {\n",
       "        vertical-align: top;\n",
       "    }\n",
       "\n",
       "    .dataframe thead th {\n",
       "        text-align: right;\n",
       "    }\n",
       "</style>\n",
       "<table border=\"1\" class=\"dataframe\">\n",
       "  <thead>\n",
       "    <tr style=\"text-align: right;\">\n",
       "      <th></th>\n",
       "      <th>App Names</th>\n",
       "      <th>Permissions</th>\n",
       "      <th>API Name</th>\n",
       "      <th>Website Name</th>\n",
       "      <th>IP</th>\n",
       "      <th>Location</th>\n",
       "      <th>Label</th>\n",
       "    </tr>\n",
       "  </thead>\n",
       "  <tbody>\n",
       "    <tr>\n",
       "      <th>0</th>\n",
       "      <td>XSSDetector</td>\n",
       "      <td>INTERNET,READ_CONTACTS,ACCESS_FINE_LOCATION,AC...</td>\n",
       "      <td>getDeviceId</td>\n",
       "      <td>http://www.5riversmarketing.com/</td>\n",
       "      <td>104.243.40.3</td>\n",
       "      <td>USA - Florida</td>\n",
       "      <td>Yes</td>\n",
       "    </tr>\n",
       "    <tr>\n",
       "      <th>1</th>\n",
       "      <td>Attackers 2</td>\n",
       "      <td>INTERNET,READ_CONTACTS,ACCESS_FINE_LOCATION,AC...</td>\n",
       "      <td>getSimSerialNumber</td>\n",
       "      <td>http://www.5riversmarketing.com/</td>\n",
       "      <td>104.243.40.3</td>\n",
       "      <td>USA - Florida</td>\n",
       "      <td>Yes</td>\n",
       "    </tr>\n",
       "    <tr>\n",
       "      <th>2</th>\n",
       "      <td>Attackers 3</td>\n",
       "      <td>INTERNET,ACCESS_FINE_LOCATION,ACCESS_COARSE_LO...</td>\n",
       "      <td>Not Sensitive</td>\n",
       "      <td>http://www.5riversmarketing.com/</td>\n",
       "      <td>104.243.40.3</td>\n",
       "      <td>USA - Florida</td>\n",
       "      <td>No</td>\n",
       "    </tr>\n",
       "    <tr>\n",
       "      <th>3</th>\n",
       "      <td>Attackers 4</td>\n",
       "      <td>INTERNET,READ_PHONE_STATE,SEND_SMS</td>\n",
       "      <td>Not Sensitive</td>\n",
       "      <td>http://demo2.5riversmarketing.com/</td>\n",
       "      <td>104.243.40.3</td>\n",
       "      <td>USA - Florida</td>\n",
       "      <td>No</td>\n",
       "    </tr>\n",
       "    <tr>\n",
       "      <th>4</th>\n",
       "      <td>Attackers 5</td>\n",
       "      <td>INTERNET,READ_CONTACTS,READ_PHONE_STATE</td>\n",
       "      <td>Not Sensitive</td>\n",
       "      <td>http://www.5riversmarketing.com/</td>\n",
       "      <td>104.243.40.3</td>\n",
       "      <td>USA - Florida</td>\n",
       "      <td>No</td>\n",
       "    </tr>\n",
       "  </tbody>\n",
       "</table>\n",
       "</div>"
      ],
      "text/plain": [
       "     App Names                                        Permissions  \\\n",
       "0  XSSDetector  INTERNET,READ_CONTACTS,ACCESS_FINE_LOCATION,AC...   \n",
       "1  Attackers 2  INTERNET,READ_CONTACTS,ACCESS_FINE_LOCATION,AC...   \n",
       "2  Attackers 3  INTERNET,ACCESS_FINE_LOCATION,ACCESS_COARSE_LO...   \n",
       "3  Attackers 4                 INTERNET,READ_PHONE_STATE,SEND_SMS   \n",
       "4  Attackers 5            INTERNET,READ_CONTACTS,READ_PHONE_STATE   \n",
       "\n",
       "             API Name                        Website Name            IP  \\\n",
       "0         getDeviceId    http://www.5riversmarketing.com/  104.243.40.3   \n",
       "1  getSimSerialNumber    http://www.5riversmarketing.com/  104.243.40.3   \n",
       "2       Not Sensitive    http://www.5riversmarketing.com/  104.243.40.3   \n",
       "3       Not Sensitive  http://demo2.5riversmarketing.com/  104.243.40.3   \n",
       "4       Not Sensitive    http://www.5riversmarketing.com/  104.243.40.3   \n",
       "\n",
       "        Location Label  \n",
       "0  USA - Florida   Yes  \n",
       "1  USA - Florida   Yes  \n",
       "2  USA - Florida    No  \n",
       "3  USA - Florida    No  \n",
       "4  USA - Florida    No  "
      ]
     },
     "execution_count": 4,
     "metadata": {},
     "output_type": "execute_result"
    }
   ],
   "source": [
    "df = pd.read_excel(\"../input/xss-attacks-dataset/XSS Attack Dataset with 461 entries.xlsx\")\n",
    "df.head()"
   ]
  },
  {
   "cell_type": "code",
   "execution_count": 5,
   "id": "097df376",
   "metadata": {
    "execution": {
     "iopub.execute_input": "2023-03-02T11:29:16.933583Z",
     "iopub.status.busy": "2023-03-02T11:29:16.932994Z",
     "iopub.status.idle": "2023-03-02T11:29:16.951829Z",
     "shell.execute_reply": "2023-03-02T11:29:16.950432Z"
    },
    "papermill": {
     "duration": 0.026548,
     "end_time": "2023-03-02T11:29:16.954005",
     "exception": false,
     "start_time": "2023-03-02T11:29:16.927457",
     "status": "completed"
    },
    "tags": []
   },
   "outputs": [
    {
     "name": "stdout",
     "output_type": "stream",
     "text": [
      "Unique values in App Names: 460\n",
      "Unique values in Permissions: 27\n",
      "Unique values in API Name: 39\n",
      "Unique values in Website Name: 446\n",
      "Unique values in IP: 447\n",
      "Unique values in Location: 163\n",
      "Unique values in Label: 2\n"
     ]
    }
   ],
   "source": [
    "print(\"Unique values in App Names:\", len(pd.unique(df['App Names'])))\n",
    "print(\"Unique values in Permissions:\", len(pd.unique(df['Permissions'])))\n",
    "print(\"Unique values in API Name:\", len(pd.unique(df['API Name'])))\n",
    "print(\"Unique values in Website Name:\", len(pd.unique(df['Website Name'])))\n",
    "print(\"Unique values in IP:\", len(pd.unique(df['IP'])))\n",
    "print(\"Unique values in Location:\", len(pd.unique(df['Location'])))\n",
    "print(\"Unique values in Label:\", len(pd.unique(df['Label'])))"
   ]
  },
  {
   "cell_type": "code",
   "execution_count": 6,
   "id": "953a1c77",
   "metadata": {
    "execution": {
     "iopub.execute_input": "2023-03-02T11:29:16.964888Z",
     "iopub.status.busy": "2023-03-02T11:29:16.964483Z",
     "iopub.status.idle": "2023-03-02T11:29:18.064262Z",
     "shell.execute_reply": "2023-03-02T11:29:18.062691Z"
    },
    "papermill": {
     "duration": 1.109596,
     "end_time": "2023-03-02T11:29:18.067732",
     "exception": false,
     "start_time": "2023-03-02T11:29:16.958136",
     "status": "completed"
    },
    "tags": []
   },
   "outputs": [
    {
     "data": {
      "text/html": [
       "<div>\n",
       "<style scoped>\n",
       "    .dataframe tbody tr th:only-of-type {\n",
       "        vertical-align: middle;\n",
       "    }\n",
       "\n",
       "    .dataframe tbody tr th {\n",
       "        vertical-align: top;\n",
       "    }\n",
       "\n",
       "    .dataframe thead th {\n",
       "        text-align: right;\n",
       "    }\n",
       "</style>\n",
       "<table border=\"1\" class=\"dataframe\">\n",
       "  <thead>\n",
       "    <tr style=\"text-align: right;\">\n",
       "      <th></th>\n",
       "      <th>App Names</th>\n",
       "      <th>Permissions</th>\n",
       "      <th>API Name</th>\n",
       "      <th>Website Name</th>\n",
       "      <th>IP</th>\n",
       "      <th>Location</th>\n",
       "      <th>Label</th>\n",
       "    </tr>\n",
       "  </thead>\n",
       "  <tbody>\n",
       "    <tr>\n",
       "      <th>0</th>\n",
       "      <td>435</td>\n",
       "      <td>12</td>\n",
       "      <td>16</td>\n",
       "      <td>3</td>\n",
       "      <td>21</td>\n",
       "      <td>148</td>\n",
       "      <td>1</td>\n",
       "    </tr>\n",
       "    <tr>\n",
       "      <th>1</th>\n",
       "      <td>48</td>\n",
       "      <td>12</td>\n",
       "      <td>27</td>\n",
       "      <td>3</td>\n",
       "      <td>21</td>\n",
       "      <td>148</td>\n",
       "      <td>1</td>\n",
       "    </tr>\n",
       "    <tr>\n",
       "      <th>2</th>\n",
       "      <td>49</td>\n",
       "      <td>9</td>\n",
       "      <td>2</td>\n",
       "      <td>3</td>\n",
       "      <td>21</td>\n",
       "      <td>148</td>\n",
       "      <td>0</td>\n",
       "    </tr>\n",
       "    <tr>\n",
       "      <th>3</th>\n",
       "      <td>50</td>\n",
       "      <td>16</td>\n",
       "      <td>2</td>\n",
       "      <td>0</td>\n",
       "      <td>21</td>\n",
       "      <td>148</td>\n",
       "      <td>0</td>\n",
       "    </tr>\n",
       "    <tr>\n",
       "      <th>4</th>\n",
       "      <td>51</td>\n",
       "      <td>13</td>\n",
       "      <td>2</td>\n",
       "      <td>3</td>\n",
       "      <td>21</td>\n",
       "      <td>148</td>\n",
       "      <td>0</td>\n",
       "    </tr>\n",
       "  </tbody>\n",
       "</table>\n",
       "</div>"
      ],
      "text/plain": [
       "   App Names  Permissions  API Name  Website Name  IP  Location  Label\n",
       "0        435           12        16             3  21       148      1\n",
       "1         48           12        27             3  21       148      1\n",
       "2         49            9         2             3  21       148      0\n",
       "3         50           16         2             0  21       148      0\n",
       "4         51           13         2             3  21       148      0"
      ]
     },
     "execution_count": 6,
     "metadata": {},
     "output_type": "execute_result"
    }
   ],
   "source": [
    "from sklearn.preprocessing import LabelEncoder\n",
    "\n",
    "for c in df.columns:\n",
    "    if df[c].dtype=='object': \n",
    "        lbl = LabelEncoder()\n",
    "        lbl.fit(list(df[c].values))\n",
    "        df[c] = lbl.transform(df[c].values)\n",
    "        \n",
    "df.head()  "
   ]
  },
  {
   "cell_type": "code",
   "execution_count": 7,
   "id": "d62b6172",
   "metadata": {
    "execution": {
     "iopub.execute_input": "2023-03-02T11:29:18.078560Z",
     "iopub.status.busy": "2023-03-02T11:29:18.078086Z",
     "iopub.status.idle": "2023-03-02T11:29:18.094529Z",
     "shell.execute_reply": "2023-03-02T11:29:18.092300Z"
    },
    "papermill": {
     "duration": 0.025141,
     "end_time": "2023-03-02T11:29:18.097479",
     "exception": false,
     "start_time": "2023-03-02T11:29:18.072338",
     "status": "completed"
    },
    "tags": []
   },
   "outputs": [
    {
     "data": {
      "text/plain": [
       "Label           1.000000\n",
       "API Name        0.777282\n",
       "App Names       0.075896\n",
       "Permissions     0.034151\n",
       "Website Name    0.029288\n",
       "Location        0.020264\n",
       "IP              0.015536\n",
       "Name: Label, dtype: float64"
      ]
     },
     "execution_count": 7,
     "metadata": {},
     "output_type": "execute_result"
    }
   ],
   "source": [
    "df.corr().abs()['Label'].sort_values(ascending = False)"
   ]
  },
  {
   "cell_type": "code",
   "execution_count": 8,
   "id": "5178c169",
   "metadata": {
    "execution": {
     "iopub.execute_input": "2023-03-02T11:29:18.108295Z",
     "iopub.status.busy": "2023-03-02T11:29:18.107898Z",
     "iopub.status.idle": "2023-03-02T11:29:19.209718Z",
     "shell.execute_reply": "2023-03-02T11:29:19.207644Z"
    },
    "papermill": {
     "duration": 1.110023,
     "end_time": "2023-03-02T11:29:19.212236",
     "exception": false,
     "start_time": "2023-03-02T11:29:18.102213",
     "status": "completed"
    },
    "tags": []
   },
   "outputs": [
    {
     "data": {
      "image/png": "[encoded data removed]",
      "text/plain": [
       "<Figure size 1500x1000 with 20 Axes>"
      ]
     },
     "metadata": {},
     "output_type": "display_data"
    }
   ],
   "source": [
    "import matplotlib.pyplot as plt\n",
    "%matplotlib inline\n",
    "df.hist(layout=(5,4), figsize=(15,10))\n",
    "\n",
    "plt.show()"
   ]
  },
  {
   "cell_type": "code",
   "execution_count": 9,
   "id": "99c66cf6",
   "metadata": {
    "execution": {
     "iopub.execute_input": "2023-03-02T11:29:19.224475Z",
     "iopub.status.busy": "2023-03-02T11:29:19.223986Z",
     "iopub.status.idle": "2023-03-02T11:29:19.682861Z",
     "shell.execute_reply": "2023-03-02T11:29:19.680746Z"
    },
    "papermill": {
     "duration": 0.468896,
     "end_time": "2023-03-02T11:29:19.686201",
     "exception": false,
     "start_time": "2023-03-02T11:29:19.217305",
     "status": "completed"
    },
    "tags": []
   },
   "outputs": [],
   "source": [
    "from numpy import mean\n",
    "from numpy import std\n",
    "from sklearn.datasets import make_classification\n",
    "from sklearn.model_selection import cross_val_score\n",
    "from sklearn.model_selection import RepeatedStratifiedKFold\n",
    "from sklearn.linear_model import LogisticRegression\n",
    "from sklearn.neighbors import KNeighborsClassifier\n",
    "from sklearn.tree import DecisionTreeClassifier\n",
    "from sklearn.svm import SVC\n",
    "from sklearn.naive_bayes import GaussianNB\n",
    "from matplotlib import pyplot\n",
    "\n",
    "from sklearn.preprocessing import StandardScaler\n",
    "from sklearn.pipeline import make_pipeline"
   ]
  },
  {
   "cell_type": "code",
   "execution_count": 10,
   "id": "aea8e363",
   "metadata": {
    "execution": {
     "iopub.execute_input": "2023-03-02T11:29:19.698457Z",
     "iopub.status.busy": "2023-03-02T11:29:19.697997Z",
     "iopub.status.idle": "2023-03-02T11:29:19.706615Z",
     "shell.execute_reply": "2023-03-02T11:29:19.705302Z"
    },
    "papermill": {
     "duration": 0.018133,
     "end_time": "2023-03-02T11:29:19.709620",
     "exception": false,
     "start_time": "2023-03-02T11:29:19.691487",
     "status": "completed"
    },
    "tags": []
   },
   "outputs": [],
   "source": [
    "def get_models():\n",
    "\tmodels = dict()\n",
    "\tmodels['lr'] = make_pipeline(StandardScaler(),LogisticRegression())\n",
    "\tmodels['knn'] = make_pipeline(StandardScaler(),KNeighborsClassifier())\n",
    "\tmodels['cart'] = DecisionTreeClassifier()\n",
    "\tmodels['svm'] = make_pipeline(StandardScaler(),SVC())\n",
    "\tmodels['bayes'] = make_pipeline(StandardScaler(), GaussianNB())\n",
    "\treturn models\n",
    "\n",
    "X = df.drop(['Label'], axis = 1)\n",
    "y = df['Label']"
   ]
  },
  {
   "cell_type": "code",
   "execution_count": 11,
   "id": "088e6bc5",
   "metadata": {
    "execution": {
     "iopub.execute_input": "2023-03-02T11:29:19.723457Z",
     "iopub.status.busy": "2023-03-02T11:29:19.722962Z",
     "iopub.status.idle": "2023-03-02T11:29:19.728357Z",
     "shell.execute_reply": "2023-03-02T11:29:19.727651Z"
    },
    "papermill": {
     "duration": 0.0151,
     "end_time": "2023-03-02T11:29:19.731030",
     "exception": false,
     "start_time": "2023-03-02T11:29:19.715930",
     "status": "completed"
    },
    "tags": []
   },
   "outputs": [],
   "source": [
    "def evaluate_model(model, X, y):\n",
    "\tcv = RepeatedStratifiedKFold(n_splits=10, n_repeats=3, random_state=1)\n",
    "\tscores = cross_val_score(model, X, y, scoring='accuracy', cv=cv, n_jobs=-1, error_score='raise')\n",
    "\treturn scores"
   ]
  },
  {
   "cell_type": "code",
   "execution_count": 12,
   "id": "0d5cf039",
   "metadata": {
    "execution": {
     "iopub.execute_input": "2023-03-02T11:29:19.743446Z",
     "iopub.status.busy": "2023-03-02T11:29:19.743022Z",
     "iopub.status.idle": "2023-03-02T11:29:21.827828Z",
     "shell.execute_reply": "2023-03-02T11:29:21.826437Z"
    },
    "papermill": {
     "duration": 2.093974,
     "end_time": "2023-03-02T11:29:21.830274",
     "exception": false,
     "start_time": "2023-03-02T11:29:19.736300",
     "status": "completed"
    },
    "tags": []
   },
   "outputs": [
    {
     "name": "stdout",
     "output_type": "stream",
     "text": [
      ">lr 0.950 (0.036)\n",
      ">knn 0.859 (0.058)\n",
      ">cart 0.999 (0.008)\n",
      ">svm 0.933 (0.040)\n",
      ">bayes 1.000 (0.000)\n"
     ]
    },
    {
     "data": {
      "image/png": "[encoded data removed]",
      "text/plain": [
       "<Figure size 640x480 with 1 Axes>"
      ]
     },
     "metadata": {},
     "output_type": "display_data"
    }
   ],
   "source": [
    "models = get_models()\n",
    "# evaluate the models and store results\n",
    "results, names = list(), list()\n",
    "for name, model in models.items():\n",
    "\tscores = evaluate_model(model, X, y)\n",
    "\tresults.append(scores)\n",
    "\tnames.append(name)\n",
    "\tprint('>%s %.3f (%.3f)' % (name, mean(scores), std(scores)))\n",
    "# plot model performance for comparison\n",
    "pyplot.boxplot(results, labels=names, showmeans=True)\n",
    "pyplot.show()"
   ]
  },
  {
   "cell_type": "code",
   "execution_count": null,
   "id": "d7cb08e5",
   "metadata": {
    "papermill": {
     "duration": 0.005246,
     "end_time": "2023-03-02T11:29:21.841219",
     "exception": false,
     "start_time": "2023-03-02T11:29:21.835973",
     "status": "completed"
    },
    "tags": []
   },
   "outputs": [],
   "source": []
  }
 ],
 "metadata": {
  "kernelspec": {
   "display_name": "Python 3",
   "language": "python",
   "name": "python3"
  },
  "language_info": {
   "codemirror_mode": {
    "name": "ipython",
    "version": 3
   },
   "file_extension": ".py",
   "mimetype": "text/x-python",
   "name": "python",
   "nbconvert_exporter": "python",
   "pygments_lexer": "ipython3",
   "version": "3.7.12"
  },
  "papermill": {
   "default_parameters": {},
   "duration": 29.50455,
   "end_time": "2023-03-02T11:29:24.468910",
   "environment_variables": {},
   "exception": null,
   "input_path": "__notebook__.ipynb",
   "output_path": "__notebook__.ipynb",
   "parameters": {},
   "start_time": "2023-03-02T11:28:54.964360",
   "version": "2.4.0"
  }
 },
 "nbformat": 4,
 "nbformat_minor": 5
}
