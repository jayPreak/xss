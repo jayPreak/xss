{
 "cells": [
  {
   "cell_type": "code",
   "execution_count": 1,
   "id": "bd2777c7",
   "metadata": {
    "_cell_guid": "b1076dfc-b9ad-4769-8c92-a6c4dae69d19",
    "_uuid": "8f2839f25d086af736a60e9eeb907d3b93b6e0e5",
    "execution": {
     "iopub.execute_input": "2023-03-06T06:01:14.174511Z",
     "iopub.status.busy": "2023-03-06T06:01:14.173587Z",
     "iopub.status.idle": "2023-03-06T06:01:15.831377Z",
     "shell.execute_reply": "2023-03-06T06:01:15.830091Z"
    },
    "papermill": {
     "duration": 1.670384,
     "end_time": "2023-03-06T06:01:15.834682",
     "exception": false,
     "start_time": "2023-03-06T06:01:14.164298",
     "status": "completed"
    },
    "tags": []
   },
   "outputs": [],
   "source": [
    "import pandas as pd\n",
    "from sklearn.preprocessing import LabelEncoder\n",
    "from sklearn.model_selection import RepeatedStratifiedKFold\n",
    "from sklearn.model_selection import cross_val_score\n",
    "from sklearn.linear_model import LogisticRegression\n",
    "from sklearn.neighbors import KNeighborsClassifier\n",
    "from sklearn.tree import DecisionTreeClassifier\n",
    "from sklearn.svm import SVC\n",
    "from sklearn.naive_bayes import GaussianNB\n",
    "from sklearn.pipeline import make_pipeline\n",
    "from sklearn.preprocessing import StandardScaler\n",
    "from scipy.sparse import csr_matrix\n",
    "from matplotlib import pyplot as plt\n",
    "import numpy as np"
   ]
  },
  {
   "cell_type": "code",
   "execution_count": 2,
   "id": "7ceecb7f",
   "metadata": {
    "execution": {
     "iopub.execute_input": "2023-03-06T06:01:15.845043Z",
     "iopub.status.busy": "2023-03-06T06:01:15.844191Z",
     "iopub.status.idle": "2023-03-06T06:01:15.921473Z",
     "shell.execute_reply": "2023-03-06T06:01:15.919740Z"
    },
    "papermill": {
     "duration": 0.087288,
     "end_time": "2023-03-06T06:01:15.926009",
     "exception": false,
     "start_time": "2023-03-06T06:01:15.838721",
     "status": "completed"
    },
    "tags": []
   },
   "outputs": [],
   "source": [
    "df = pd.read_csv(\"/kaggle/input/cross-site-scripting-xss-dataset-for-deep-learning/XSS_dataset.csv\")"
   ]
  },
  {
   "cell_type": "code",
   "execution_count": 3,
   "id": "8133121f",
   "metadata": {
    "execution": {
     "iopub.execute_input": "2023-03-06T06:01:15.936591Z",
     "iopub.status.busy": "2023-03-06T06:01:15.936073Z",
     "iopub.status.idle": "2023-03-06T06:01:15.958824Z",
     "shell.execute_reply": "2023-03-06T06:01:15.957277Z"
    },
    "papermill": {
     "duration": 0.031854,
     "end_time": "2023-03-06T06:01:15.962152",
     "exception": false,
     "start_time": "2023-03-06T06:01:15.930298",
     "status": "completed"
    },
    "tags": []
   },
   "outputs": [],
   "source": [
    "X = csr_matrix(df.drop(['Sentence'], axis=1).values)\n",
    "y = df['Label'].values"
   ]
  },
  {
   "cell_type": "code",
   "execution_count": 4,
   "id": "43fff1b5",
   "metadata": {
    "execution": {
     "iopub.execute_input": "2023-03-06T06:01:15.972097Z",
     "iopub.status.busy": "2023-03-06T06:01:15.971611Z",
     "iopub.status.idle": "2023-03-06T06:01:15.979261Z",
     "shell.execute_reply": "2023-03-06T06:01:15.977932Z"
    },
    "papermill": {
     "duration": 0.017119,
     "end_time": "2023-03-06T06:01:15.983001",
     "exception": false,
     "start_time": "2023-03-06T06:01:15.965882",
     "status": "completed"
    },
    "tags": []
   },
   "outputs": [
    {
     "name": "stdout",
     "output_type": "stream",
     "text": [
      "[[    0     0]\n",
      " [    1     1]\n",
      " [    2     0]\n",
      " ...\n",
      " [13683     1]\n",
      " [13684     0]\n",
      " [13685     0]]\n"
     ]
    }
   ],
   "source": [
    "X = X.toarray()\n",
    "print(X)"
   ]
  },
  {
   "cell_type": "code",
   "execution_count": 5,
   "id": "1484b807",
   "metadata": {
    "execution": {
     "iopub.execute_input": "2023-03-06T06:01:15.993240Z",
     "iopub.status.busy": "2023-03-06T06:01:15.992750Z",
     "iopub.status.idle": "2023-03-06T06:01:16.001616Z",
     "shell.execute_reply": "2023-03-06T06:01:16.000067Z"
    },
    "papermill": {
     "duration": 0.018939,
     "end_time": "2023-03-06T06:01:16.005878",
     "exception": false,
     "start_time": "2023-03-06T06:01:15.986939",
     "status": "completed"
    },
    "tags": []
   },
   "outputs": [
    {
     "name": "stdout",
     "output_type": "stream",
     "text": [
      "[[    0     0]\n",
      " [    1     1]\n",
      " [    2     0]\n",
      " ...\n",
      " [13683     1]\n",
      " [13684     0]\n",
      " [13685     0]]\n",
      "[[    0     0]\n",
      " [    1     1]\n",
      " [    2     0]\n",
      " ...\n",
      " [13683     1]\n",
      " [13684     0]\n",
      " [13685     0]]\n"
     ]
    }
   ],
   "source": [
    "for c in range(X.shape[1]):\n",
    "    if isinstance(X[0,c], str):\n",
    "        lbl = LabelEncoder()\n",
    "        lbl.fit(list(X[:,c]))\n",
    "        X[:,c] = lbl.transform(X[:,c])\n",
    "        \n",
    "    print(X)"
   ]
  },
  {
   "cell_type": "code",
   "execution_count": 6,
   "id": "8cf3010d",
   "metadata": {
    "execution": {
     "iopub.execute_input": "2023-03-06T06:01:16.017325Z",
     "iopub.status.busy": "2023-03-06T06:01:16.016812Z",
     "iopub.status.idle": "2023-03-06T06:01:16.024550Z",
     "shell.execute_reply": "2023-03-06T06:01:16.022965Z"
    },
    "papermill": {
     "duration": 0.016906,
     "end_time": "2023-03-06T06:01:16.027467",
     "exception": false,
     "start_time": "2023-03-06T06:01:16.010561",
     "status": "completed"
    },
    "tags": []
   },
   "outputs": [],
   "source": [
    "def get_models():\n",
    "    models = dict()\n",
    "    models['lr'] = make_pipeline(StandardScaler(), LogisticRegression())\n",
    "    models['knn'] = make_pipeline(StandardScaler(), KNeighborsClassifier())\n",
    "    models['cart'] = DecisionTreeClassifier()\n",
    "    models['svm'] = make_pipeline(StandardScaler(), SVC())\n",
    "    models['bayes'] = make_pipeline(StandardScaler(), GaussianNB())\n",
    "    return models"
   ]
  },
  {
   "cell_type": "code",
   "execution_count": 7,
   "id": "39028bba",
   "metadata": {
    "execution": {
     "iopub.execute_input": "2023-03-06T06:01:16.038633Z",
     "iopub.status.busy": "2023-03-06T06:01:16.038091Z",
     "iopub.status.idle": "2023-03-06T06:01:16.057235Z",
     "shell.execute_reply": "2023-03-06T06:01:16.056122Z"
    },
    "papermill": {
     "duration": 0.029205,
     "end_time": "2023-03-06T06:01:16.060909",
     "exception": false,
     "start_time": "2023-03-06T06:01:16.031704",
     "status": "completed"
    },
    "tags": []
   },
   "outputs": [
    {
     "name": "stdout",
     "output_type": "stream",
     "text": [
      "{'lr': Pipeline(steps=[('standardscaler', StandardScaler()),\n",
      "                ('logisticregression', LogisticRegression())]), 'knn': Pipeline(steps=[('standardscaler', StandardScaler()),\n",
      "                ('kneighborsclassifier', KNeighborsClassifier())]), 'cart': DecisionTreeClassifier(), 'svm': Pipeline(steps=[('standardscaler', StandardScaler()), ('svc', SVC())]), 'bayes': Pipeline(steps=[('standardscaler', StandardScaler()),\n",
      "                ('gaussiannb', GaussianNB())])}\n"
     ]
    }
   ],
   "source": [
    "models = get_models()\n",
    "results, names = list(), list()\n",
    "print(models)"
   ]
  },
  {
   "cell_type": "code",
   "execution_count": 8,
   "id": "700d7cae",
   "metadata": {
    "execution": {
     "iopub.execute_input": "2023-03-06T06:01:16.071074Z",
     "iopub.status.busy": "2023-03-06T06:01:16.070549Z",
     "iopub.status.idle": "2023-03-06T06:01:19.088938Z",
     "shell.execute_reply": "2023-03-06T06:01:19.086658Z"
    },
    "papermill": {
     "duration": 3.027829,
     "end_time": "2023-03-06T06:01:19.092753",
     "exception": false,
     "start_time": "2023-03-06T06:01:16.064924",
     "status": "completed"
    },
    "tags": []
   },
   "outputs": [
    {
     "name": "stdout",
     "output_type": "stream",
     "text": [
      ">lr 1.000 (0.000)\n",
      ">knn 1.000 (0.000)\n",
      ">cart 1.000 (0.000)\n",
      ">svm 1.000 (0.000)\n",
      ">bayes 1.000 (0.000)\n"
     ]
    }
   ],
   "source": [
    "for name, model in models.items():\n",
    "    cv = RepeatedStratifiedKFold(n_splits=10, n_repeats=3, random_state=1)\n",
    "    scores = cross_val_score(model, X, y, scoring='accuracy', cv=cv, n_jobs=-1, error_score='raise')\n",
    "    results.append(scores)\n",
    "    names.append(name)\n",
    "    print('>%s %.3f (%.3f)' % (name, np.mean(scores), np.std(scores)))"
   ]
  },
  {
   "cell_type": "code",
   "execution_count": 9,
   "id": "7b77cd46",
   "metadata": {
    "execution": {
     "iopub.execute_input": "2023-03-06T06:01:19.104721Z",
     "iopub.status.busy": "2023-03-06T06:01:19.103419Z",
     "iopub.status.idle": "2023-03-06T06:01:19.399017Z",
     "shell.execute_reply": "2023-03-06T06:01:19.397173Z"
    },
    "papermill": {
     "duration": 0.305717,
     "end_time": "2023-03-06T06:01:19.402904",
     "exception": false,
     "start_time": "2023-03-06T06:01:19.097187",
     "status": "completed"
    },
    "tags": []
   },
   "outputs": [
    {
     "data": {
      "image/png": "[encoded data removed]",
      "text/plain": [
       "<Figure size 640x480 with 1 Axes>"
      ]
     },
     "metadata": {},
     "output_type": "display_data"
    }
   ],
   "source": [
    "plt.boxplot(results, labels=names, showmeans=True)\n",
    "plt.show()"
   ]
  },
  {
   "cell_type": "code",
   "execution_count": null,
   "id": "12d86476",
   "metadata": {
    "papermill": {
     "duration": 0.00443,
     "end_time": "2023-03-06T06:01:19.412489",
     "exception": false,
     "start_time": "2023-03-06T06:01:19.408059",
     "status": "completed"
    },
    "tags": []
   },
   "outputs": [],
   "source": []
  }
 ],
 "metadata": {
  "kernelspec": {
   "display_name": "Python 3",
   "language": "python",
   "name": "python3"
  },
  "language_info": {
   "codemirror_mode": {
    "name": "ipython",
    "version": 3
   },
   "file_extension": ".py",
   "mimetype": "text/x-python",
   "name": "python",
   "nbconvert_exporter": "python",
   "pygments_lexer": "ipython3",
   "version": "3.7.12"
  },
  "papermill": {
   "default_parameters": {},
   "duration": 20.773482,
   "end_time": "2023-03-06T06:01:22.045296",
   "environment_variables": {},
   "exception": null,
   "input_path": "__notebook__.ipynb",
   "output_path": "__notebook__.ipynb",
   "parameters": {},
   "start_time": "2023-03-06T06:01:01.271814",
   "version": "2.4.0"
  }
 },
 "nbformat": 4,
 "nbformat_minor": 5
}
