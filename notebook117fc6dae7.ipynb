{
 "cells": [
  {
   "cell_type": "code",
   "execution_count": 1,
   "id": "f84cfc51",
   "metadata": {
    "_execution_state": "idle",
    "_uuid": "051d70d956493feee0c6d64651c6a088724dca2a",
    "execution": {
     "iopub.execute_input": "2023-03-05T08:28:53.734919Z",
     "iopub.status.busy": "2023-03-05T08:28:53.734437Z",
     "iopub.status.idle": "2023-03-05T08:28:55.039178Z",
     "shell.execute_reply": "2023-03-05T08:28:55.038114Z"
    },
    "papermill": {
     "duration": 1.313272,
     "end_time": "2023-03-05T08:28:55.042197",
     "exception": false,
     "start_time": "2023-03-05T08:28:53.728925",
     "status": "completed"
    },
    "tags": []
   },
   "outputs": [],
   "source": [
    "import pandas as pd\n",
    "import numpy as np\n",
    "from sklearn.preprocessing import LabelEncoder, StandardScaler\n",
    "from sklearn.model_selection import RepeatedStratifiedKFold, cross_val_score\n",
    "from sklearn.linear_model import LogisticRegression\n",
    "from sklearn.neighbors import KNeighborsClassifier\n",
    "from sklearn.tree import DecisionTreeClassifier\n",
    "from sklearn.svm import SVC\n",
    "from sklearn.naive_bayes import GaussianNB\n",
    "from sklearn.pipeline import make_pipeline\n",
    "from matplotlib import pyplot as plt"
   ]
  },
  {
   "cell_type": "code",
   "execution_count": 2,
   "id": "ac9164df",
   "metadata": {
    "execution": {
     "iopub.execute_input": "2023-03-05T08:28:55.050230Z",
     "iopub.status.busy": "2023-03-05T08:28:55.049130Z",
     "iopub.status.idle": "2023-03-05T08:28:55.055333Z",
     "shell.execute_reply": "2023-03-05T08:28:55.054107Z"
    },
    "papermill": {
     "duration": 0.013082,
     "end_time": "2023-03-05T08:28:55.058026",
     "exception": false,
     "start_time": "2023-03-05T08:28:55.044944",
     "status": "completed"
    },
    "tags": []
   },
   "outputs": [],
   "source": [
    "def load_dataset(file_path):\n",
    "    \"\"\"\n",
    "    Load dataset from file and split into feature matrix X and target variable y\n",
    "    \"\"\"\n",
    "    df = pd.read_csv(file_path)\n",
    "    X = df.drop('target', axis=1)\n",
    "    y = df['target']\n",
    "    return X, y"
   ]
  },
  {
   "cell_type": "code",
   "execution_count": 3,
   "id": "61e70442",
   "metadata": {
    "execution": {
     "iopub.execute_input": "2023-03-05T08:28:55.065037Z",
     "iopub.status.busy": "2023-03-05T08:28:55.064345Z",
     "iopub.status.idle": "2023-03-05T08:28:55.071893Z",
     "shell.execute_reply": "2023-03-05T08:28:55.070774Z"
    },
    "papermill": {
     "duration": 0.013606,
     "end_time": "2023-03-05T08:28:55.074221",
     "exception": false,
     "start_time": "2023-03-05T08:28:55.060615",
     "status": "completed"
    },
    "tags": []
   },
   "outputs": [],
   "source": [
    "def preprocess_data(X):\n",
    "    \"\"\"\n",
    "    Encode categorical features and scale numerical features\n",
    "    \"\"\"\n",
    "    for c in X.columns:\n",
    "        if X[c].dtype == 'object': \n",
    "            lbl = LabelEncoder()\n",
    "            lbl.fit(list(X[c].values))\n",
    "            X[c] = lbl.transform(X[c].values)\n",
    "        else:\n",
    "            scaler = StandardScaler()\n",
    "            X[c] = scaler.fit_transform(X[c].values.reshape(-1,1))\n",
    "    return X"
   ]
  },
  {
   "cell_type": "code",
   "execution_count": 4,
   "id": "3e7bf0b0",
   "metadata": {
    "execution": {
     "iopub.execute_input": "2023-03-05T08:28:55.081142Z",
     "iopub.status.busy": "2023-03-05T08:28:55.080468Z",
     "iopub.status.idle": "2023-03-05T08:28:55.086841Z",
     "shell.execute_reply": "2023-03-05T08:28:55.085706Z"
    },
    "papermill": {
     "duration": 0.01285,
     "end_time": "2023-03-05T08:28:55.089633",
     "exception": false,
     "start_time": "2023-03-05T08:28:55.076783",
     "status": "completed"
    },
    "tags": []
   },
   "outputs": [],
   "source": [
    "def get_models():\n",
    "    \"\"\"\n",
    "    Define a dictionary of machine learning models to evaluate\n",
    "    \"\"\"\n",
    "    models = dict()\n",
    "    models['Logistic Regression'] = make_pipeline(StandardScaler(), LogisticRegression())\n",
    "    models['KNN'] = make_pipeline(StandardScaler(), KNeighborsClassifier())\n",
    "    models['Decision Tree'] = DecisionTreeClassifier()\n",
    "    models['SVM'] = make_pipeline(StandardScaler(), SVC())\n",
    "    models['Naive Bayes'] = make_pipeline(StandardScaler(), GaussianNB())\n",
    "    return models"
   ]
  },
  {
   "cell_type": "code",
   "execution_count": 5,
   "id": "cc814cdd",
   "metadata": {
    "execution": {
     "iopub.execute_input": "2023-03-05T08:28:55.096626Z",
     "iopub.status.busy": "2023-03-05T08:28:55.095975Z",
     "iopub.status.idle": "2023-03-05T08:28:55.103504Z",
     "shell.execute_reply": "2023-03-05T08:28:55.102671Z"
    },
    "papermill": {
     "duration": 0.013685,
     "end_time": "2023-03-05T08:28:55.105804",
     "exception": false,
     "start_time": "2023-03-05T08:28:55.092119",
     "status": "completed"
    },
    "tags": []
   },
   "outputs": [],
   "source": [
    "def evaluate_models(X, y, models):\n",
    "    \"\"\"\n",
    "    Evaluate machine learning models using repeated stratified k-fold cross-validation\n",
    "    \"\"\"\n",
    "    results, names = list(), list()\n",
    "    for name, model in models.items():\n",
    "        cv = RepeatedStratifiedKFold(n_splits=10, n_repeats=3, random_state=1)\n",
    "        scores = cross_val_score(model, X, y, scoring='accuracy', cv=cv, n_jobs=-1, error_score='raise')\n",
    "        results.append(scores)\n",
    "        names.append(name)\n",
    "        print('>%s %.3f (%.3f)' % (name, mean(scores), std(scores)))\n",
    "    plt.boxplot(results, labels=names, showmeans=True)\n",
    "    plt.show()"
   ]
  },
  {
   "cell_type": "code",
   "execution_count": null,
   "id": "8139c04e",
   "metadata": {
    "papermill": {
     "duration": 0.002142,
     "end_time": "2023-03-05T08:28:55.110444",
     "exception": false,
     "start_time": "2023-03-05T08:28:55.108302",
     "status": "completed"
    },
    "tags": []
   },
   "outputs": [],
   "source": []
  }
 ],
 "metadata": {
  "kernelspec": {
   "display_name": "Python 3",
   "language": "python",
   "name": "python3"
  },
  "language_info": {
   "codemirror_mode": {
    "name": "ipython",
    "version": 3
   },
   "file_extension": ".py",
   "mimetype": "text/x-python",
   "name": "python",
   "nbconvert_exporter": "python",
   "pygments_lexer": "ipython3",
   "version": "3.7.12"
  },
  "papermill": {
   "default_parameters": {},
   "duration": 12.117274,
   "end_time": "2023-03-05T08:28:55.833809",
   "environment_variables": {},
   "exception": null,
   "input_path": "__notebook__.ipynb",
   "output_path": "__notebook__.ipynb",
   "parameters": {},
   "start_time": "2023-03-05T08:28:43.716535",
   "version": "2.4.0"
  }
 },
 "nbformat": 4,
 "nbformat_minor": 5
}
