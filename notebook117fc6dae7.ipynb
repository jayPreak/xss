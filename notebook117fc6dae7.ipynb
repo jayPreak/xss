{
 "cells": [
  {
   "cell_type": "code",
   "execution_count": 1,
   "id": "96ef46aa",
   "metadata": {
    "_execution_state": "idle",
    "_uuid": "051d70d956493feee0c6d64651c6a088724dca2a",
    "execution": {
     "iopub.execute_input": "2023-03-05T08:28:28.584292Z",
     "iopub.status.busy": "2023-03-05T08:28:28.583228Z",
     "iopub.status.idle": "2023-03-05T08:28:29.980218Z",
     "shell.execute_reply": "2023-03-05T08:28:29.978742Z"
    },
    "papermill": {
     "duration": 1.405412,
     "end_time": "2023-03-05T08:28:29.983682",
     "exception": false,
     "start_time": "2023-03-05T08:28:28.578270",
     "status": "completed"
    },
    "tags": []
   },
   "outputs": [],
   "source": [
    "import pandas as pd\n",
    "import numpy as np\n",
    "from sklearn.preprocessing import LabelEncoder, StandardScaler\n",
    "from sklearn.model_selection import RepeatedStratifiedKFold, cross_val_score\n",
    "from sklearn.linear_model import LogisticRegression\n",
    "from sklearn.neighbors import KNeighborsClassifier\n",
    "from sklearn.tree import DecisionTreeClassifier\n",
    "from sklearn.svm import SVC\n",
    "from sklearn.naive_bayes import GaussianNB\n",
    "from sklearn.pipeline import make_pipeline\n",
    "from matplotlib import pyplot as plt"
   ]
  },
  {
   "cell_type": "code",
   "execution_count": 2,
   "id": "6ec40b0d",
   "metadata": {
    "execution": {
     "iopub.execute_input": "2023-03-05T08:28:29.990363Z",
     "iopub.status.busy": "2023-03-05T08:28:29.989956Z",
     "iopub.status.idle": "2023-03-05T08:28:29.996922Z",
     "shell.execute_reply": "2023-03-05T08:28:29.995759Z"
    },
    "papermill": {
     "duration": 0.013213,
     "end_time": "2023-03-05T08:28:29.999572",
     "exception": false,
     "start_time": "2023-03-05T08:28:29.986359",
     "status": "completed"
    },
    "tags": []
   },
   "outputs": [],
   "source": [
    "def load_dataset(file_path):\n",
    "    \"\"\"\n",
    "    Load dataset from file and split into feature matrix X and target variable y\n",
    "    \"\"\"\n",
    "    df = pd.read_csv(file_path)\n",
    "    X = df.drop('target', axis=1)\n",
    "    y = df['target']\n",
    "    return X, y"
   ]
  },
  {
   "cell_type": "code",
   "execution_count": 3,
   "id": "66551f77",
   "metadata": {
    "execution": {
     "iopub.execute_input": "2023-03-05T08:28:30.005757Z",
     "iopub.status.busy": "2023-03-05T08:28:30.005320Z",
     "iopub.status.idle": "2023-03-05T08:28:30.013196Z",
     "shell.execute_reply": "2023-03-05T08:28:30.011953Z"
    },
    "papermill": {
     "duration": 0.01394,
     "end_time": "2023-03-05T08:28:30.015666",
     "exception": false,
     "start_time": "2023-03-05T08:28:30.001726",
     "status": "completed"
    },
    "tags": []
   },
   "outputs": [],
   "source": [
    "def preprocess_data(X):\n",
    "    \"\"\"\n",
    "    Encode categorical features and scale numerical features\n",
    "    \"\"\"\n",
    "    for c in X.columns:\n",
    "        if X[c].dtype == 'object': \n",
    "            lbl = LabelEncoder()\n",
    "            lbl.fit(list(X[c].values))\n",
    "            X[c] = lbl.transform(X[c].values)\n",
    "        else:\n",
    "            scaler = StandardScaler()\n",
    "            X[c] = scaler.fit_transform(X[c].values.reshape(-1,1))\n",
    "    return X"
   ]
  },
  {
   "cell_type": "code",
   "execution_count": null,
   "id": "63eb93cd",
   "metadata": {
    "papermill": {
     "duration": 0.001711,
     "end_time": "2023-03-05T08:28:30.019786",
     "exception": false,
     "start_time": "2023-03-05T08:28:30.018075",
     "status": "completed"
    },
    "tags": []
   },
   "outputs": [],
   "source": []
  }
 ],
 "metadata": {
  "kernelspec": {
   "display_name": "Python 3",
   "language": "python",
   "name": "python3"
  },
  "language_info": {
   "codemirror_mode": {
    "name": "ipython",
    "version": 3
   },
   "file_extension": ".py",
   "mimetype": "text/x-python",
   "name": "python",
   "nbconvert_exporter": "python",
   "pygments_lexer": "ipython3",
   "version": "3.7.12"
  },
  "papermill": {
   "default_parameters": {},
   "duration": 12.651577,
   "end_time": "2023-03-05T08:28:30.843951",
   "environment_variables": {},
   "exception": null,
   "input_path": "__notebook__.ipynb",
   "output_path": "__notebook__.ipynb",
   "parameters": {},
   "start_time": "2023-03-05T08:28:18.192374",
   "version": "2.4.0"
  }
 },
 "nbformat": 4,
 "nbformat_minor": 5
}
