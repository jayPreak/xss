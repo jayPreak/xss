{
 "cells": [
  {
   "cell_type": "code",
   "execution_count": 1,
   "id": "bd9f7c51",
   "metadata": {
    "_cell_guid": "b1076dfc-b9ad-4769-8c92-a6c4dae69d19",
    "_uuid": "8f2839f25d086af736a60e9eeb907d3b93b6e0e5",
    "execution": {
     "iopub.execute_input": "2023-03-06T05:53:53.452274Z",
     "iopub.status.busy": "2023-03-06T05:53:53.450842Z",
     "iopub.status.idle": "2023-03-06T05:53:54.911002Z",
     "shell.execute_reply": "2023-03-06T05:53:54.909377Z"
    },
    "papermill": {
     "duration": 1.471647,
     "end_time": "2023-03-06T05:53:54.914733",
     "exception": false,
     "start_time": "2023-03-06T05:53:53.443086",
     "status": "completed"
    },
    "tags": []
   },
   "outputs": [],
   "source": [
    "import pandas as pd\n",
    "from sklearn.preprocessing import LabelEncoder\n",
    "from sklearn.model_selection import RepeatedStratifiedKFold\n",
    "from sklearn.model_selection import cross_val_score\n",
    "from sklearn.linear_model import LogisticRegression\n",
    "from sklearn.neighbors import KNeighborsClassifier\n",
    "from sklearn.tree import DecisionTreeClassifier\n",
    "from sklearn.svm import SVC\n",
    "from sklearn.naive_bayes import GaussianNB\n",
    "from sklearn.pipeline import make_pipeline\n",
    "from sklearn.preprocessing import StandardScaler\n",
    "from scipy.sparse import csr_matrix\n",
    "from matplotlib import pyplot as plt\n",
    "import numpy as np"
   ]
  },
  {
   "cell_type": "code",
   "execution_count": 2,
   "id": "34b5b020",
   "metadata": {
    "execution": {
     "iopub.execute_input": "2023-03-06T05:53:54.922413Z",
     "iopub.status.busy": "2023-03-06T05:53:54.922004Z",
     "iopub.status.idle": "2023-03-06T05:53:54.993361Z",
     "shell.execute_reply": "2023-03-06T05:53:54.992212Z"
    },
    "papermill": {
     "duration": 0.078918,
     "end_time": "2023-03-06T05:53:54.996707",
     "exception": false,
     "start_time": "2023-03-06T05:53:54.917789",
     "status": "completed"
    },
    "tags": []
   },
   "outputs": [],
   "source": [
    "df = pd.read_csv(\"/kaggle/input/cross-site-scripting-xss-dataset-for-deep-learning/XSS_dataset.csv\")"
   ]
  },
  {
   "cell_type": "code",
   "execution_count": 3,
   "id": "ecea38d4",
   "metadata": {
    "execution": {
     "iopub.execute_input": "2023-03-06T05:53:55.004908Z",
     "iopub.status.busy": "2023-03-06T05:53:55.004375Z",
     "iopub.status.idle": "2023-03-06T05:53:55.026652Z",
     "shell.execute_reply": "2023-03-06T05:53:55.025266Z"
    },
    "papermill": {
     "duration": 0.030475,
     "end_time": "2023-03-06T05:53:55.029996",
     "exception": false,
     "start_time": "2023-03-06T05:53:54.999521",
     "status": "completed"
    },
    "tags": []
   },
   "outputs": [],
   "source": [
    "X = csr_matrix(df.drop(['Sentence'], axis=1).values)\n",
    "y = df['Label'].values"
   ]
  },
  {
   "cell_type": "code",
   "execution_count": 4,
   "id": "aa1d7d94",
   "metadata": {
    "execution": {
     "iopub.execute_input": "2023-03-06T05:53:55.037643Z",
     "iopub.status.busy": "2023-03-06T05:53:55.037210Z",
     "iopub.status.idle": "2023-03-06T05:53:55.042739Z",
     "shell.execute_reply": "2023-03-06T05:53:55.041426Z"
    },
    "papermill": {
     "duration": 0.013259,
     "end_time": "2023-03-06T05:53:55.046060",
     "exception": false,
     "start_time": "2023-03-06T05:53:55.032801",
     "status": "completed"
    },
    "tags": []
   },
   "outputs": [],
   "source": [
    "X = X.toarray()"
   ]
  },
  {
   "cell_type": "code",
   "execution_count": null,
   "id": "de8af7de",
   "metadata": {
    "papermill": {
     "duration": 0.002373,
     "end_time": "2023-03-06T05:53:55.051334",
     "exception": false,
     "start_time": "2023-03-06T05:53:55.048961",
     "status": "completed"
    },
    "tags": []
   },
   "outputs": [],
   "source": []
  }
 ],
 "metadata": {
  "kernelspec": {
   "display_name": "Python 3",
   "language": "python",
   "name": "python3"
  },
  "language_info": {
   "codemirror_mode": {
    "name": "ipython",
    "version": 3
   },
   "file_extension": ".py",
   "mimetype": "text/x-python",
   "name": "python",
   "nbconvert_exporter": "python",
   "pygments_lexer": "ipython3",
   "version": "3.7.12"
  },
  "papermill": {
   "default_parameters": {},
   "duration": 14.787556,
   "end_time": "2023-03-06T05:53:57.222215",
   "environment_variables": {},
   "exception": null,
   "input_path": "__notebook__.ipynb",
   "output_path": "__notebook__.ipynb",
   "parameters": {},
   "start_time": "2023-03-06T05:53:42.434659",
   "version": "2.4.0"
  }
 },
 "nbformat": 4,
 "nbformat_minor": 5
}
