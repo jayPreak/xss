{
 "cells": [
  {
   "cell_type": "code",
   "execution_count": 1,
   "id": "3106c192",
   "metadata": {
    "_cell_guid": "b1076dfc-b9ad-4769-8c92-a6c4dae69d19",
    "_uuid": "8f2839f25d086af736a60e9eeb907d3b93b6e0e5",
    "execution": {
     "iopub.execute_input": "2023-03-06T05:54:23.356807Z",
     "iopub.status.busy": "2023-03-06T05:54:23.356038Z",
     "iopub.status.idle": "2023-03-06T05:54:24.926687Z",
     "shell.execute_reply": "2023-03-06T05:54:24.924956Z"
    },
    "papermill": {
     "duration": 1.580069,
     "end_time": "2023-03-06T05:54:24.929973",
     "exception": false,
     "start_time": "2023-03-06T05:54:23.349904",
     "status": "completed"
    },
    "tags": []
   },
   "outputs": [],
   "source": [
    "import pandas as pd\n",
    "from sklearn.preprocessing import LabelEncoder\n",
    "from sklearn.model_selection import RepeatedStratifiedKFold\n",
    "from sklearn.model_selection import cross_val_score\n",
    "from sklearn.linear_model import LogisticRegression\n",
    "from sklearn.neighbors import KNeighborsClassifier\n",
    "from sklearn.tree import DecisionTreeClassifier\n",
    "from sklearn.svm import SVC\n",
    "from sklearn.naive_bayes import GaussianNB\n",
    "from sklearn.pipeline import make_pipeline\n",
    "from sklearn.preprocessing import StandardScaler\n",
    "from scipy.sparse import csr_matrix\n",
    "from matplotlib import pyplot as plt\n",
    "import numpy as np"
   ]
  },
  {
   "cell_type": "code",
   "execution_count": 2,
   "id": "a03fb9de",
   "metadata": {
    "execution": {
     "iopub.execute_input": "2023-03-06T05:54:24.938216Z",
     "iopub.status.busy": "2023-03-06T05:54:24.937690Z",
     "iopub.status.idle": "2023-03-06T05:54:25.020638Z",
     "shell.execute_reply": "2023-03-06T05:54:25.019350Z"
    },
    "papermill": {
     "duration": 0.090389,
     "end_time": "2023-03-06T05:54:25.023446",
     "exception": false,
     "start_time": "2023-03-06T05:54:24.933057",
     "status": "completed"
    },
    "tags": []
   },
   "outputs": [],
   "source": [
    "df = pd.read_csv(\"/kaggle/input/cross-site-scripting-xss-dataset-for-deep-learning/XSS_dataset.csv\")"
   ]
  },
  {
   "cell_type": "code",
   "execution_count": 3,
   "id": "e8d4eed2",
   "metadata": {
    "execution": {
     "iopub.execute_input": "2023-03-06T05:54:25.032664Z",
     "iopub.status.busy": "2023-03-06T05:54:25.032063Z",
     "iopub.status.idle": "2023-03-06T05:54:25.054377Z",
     "shell.execute_reply": "2023-03-06T05:54:25.053054Z"
    },
    "papermill": {
     "duration": 0.030433,
     "end_time": "2023-03-06T05:54:25.057732",
     "exception": false,
     "start_time": "2023-03-06T05:54:25.027299",
     "status": "completed"
    },
    "tags": []
   },
   "outputs": [],
   "source": [
    "X = csr_matrix(df.drop(['Sentence'], axis=1).values)\n",
    "y = df['Label'].values"
   ]
  },
  {
   "cell_type": "code",
   "execution_count": 4,
   "id": "6d2c976c",
   "metadata": {
    "execution": {
     "iopub.execute_input": "2023-03-06T05:54:25.065834Z",
     "iopub.status.busy": "2023-03-06T05:54:25.065369Z",
     "iopub.status.idle": "2023-03-06T05:54:25.071770Z",
     "shell.execute_reply": "2023-03-06T05:54:25.070291Z"
    },
    "papermill": {
     "duration": 0.013787,
     "end_time": "2023-03-06T05:54:25.074494",
     "exception": false,
     "start_time": "2023-03-06T05:54:25.060707",
     "status": "completed"
    },
    "tags": []
   },
   "outputs": [],
   "source": [
    "X = X.toarray()"
   ]
  },
  {
   "cell_type": "code",
   "execution_count": 5,
   "id": "ccc906f3",
   "metadata": {
    "execution": {
     "iopub.execute_input": "2023-03-06T05:54:25.082639Z",
     "iopub.status.busy": "2023-03-06T05:54:25.082155Z",
     "iopub.status.idle": "2023-03-06T05:54:25.089133Z",
     "shell.execute_reply": "2023-03-06T05:54:25.087832Z"
    },
    "papermill": {
     "duration": 0.01431,
     "end_time": "2023-03-06T05:54:25.091807",
     "exception": false,
     "start_time": "2023-03-06T05:54:25.077497",
     "status": "completed"
    },
    "tags": []
   },
   "outputs": [],
   "source": [
    "for c in range(X.shape[1]):\n",
    "    if isinstance(X[0,c], str):\n",
    "        lbl = LabelEncoder()\n",
    "        lbl.fit(list(X[:,c]))\n",
    "        X[:,c] = lbl.transform(X[:,c])"
   ]
  },
  {
   "cell_type": "code",
   "execution_count": 6,
   "id": "0cfe8ace",
   "metadata": {
    "execution": {
     "iopub.execute_input": "2023-03-06T05:54:25.099395Z",
     "iopub.status.busy": "2023-03-06T05:54:25.098919Z",
     "iopub.status.idle": "2023-03-06T05:54:25.106560Z",
     "shell.execute_reply": "2023-03-06T05:54:25.105280Z"
    },
    "papermill": {
     "duration": 0.014391,
     "end_time": "2023-03-06T05:54:25.109069",
     "exception": false,
     "start_time": "2023-03-06T05:54:25.094678",
     "status": "completed"
    },
    "tags": []
   },
   "outputs": [],
   "source": [
    "def get_models():\n",
    "    models = dict()\n",
    "    models['lr'] = make_pipeline(StandardScaler(), LogisticRegression())\n",
    "    models['knn'] = make_pipeline(StandardScaler(), KNeighborsClassifier())\n",
    "    models['cart'] = DecisionTreeClassifier()\n",
    "    models['svm'] = make_pipeline(StandardScaler(), SVC())\n",
    "    models['bayes'] = make_pipeline(StandardScaler(), GaussianNB())\n",
    "    return models"
   ]
  },
  {
   "cell_type": "code",
   "execution_count": 7,
   "id": "2f3bed9c",
   "metadata": {
    "execution": {
     "iopub.execute_input": "2023-03-06T05:54:25.117014Z",
     "iopub.status.busy": "2023-03-06T05:54:25.116557Z",
     "iopub.status.idle": "2023-03-06T05:54:25.122974Z",
     "shell.execute_reply": "2023-03-06T05:54:25.121763Z"
    },
    "papermill": {
     "duration": 0.013359,
     "end_time": "2023-03-06T05:54:25.125443",
     "exception": false,
     "start_time": "2023-03-06T05:54:25.112084",
     "status": "completed"
    },
    "tags": []
   },
   "outputs": [],
   "source": [
    "models = get_models()\n",
    "results, names = list(), list()"
   ]
  },
  {
   "cell_type": "code",
   "execution_count": null,
   "id": "3aabc0a3",
   "metadata": {
    "papermill": {
     "duration": 0.002463,
     "end_time": "2023-03-06T05:54:25.130783",
     "exception": false,
     "start_time": "2023-03-06T05:54:25.128320",
     "status": "completed"
    },
    "tags": []
   },
   "outputs": [],
   "source": []
  }
 ],
 "metadata": {
  "kernelspec": {
   "display_name": "Python 3",
   "language": "python",
   "name": "python3"
  },
  "language_info": {
   "codemirror_mode": {
    "name": "ipython",
    "version": 3
   },
   "file_extension": ".py",
   "mimetype": "text/x-python",
   "name": "python",
   "nbconvert_exporter": "python",
   "pygments_lexer": "ipython3",
   "version": "3.7.12"
  },
  "papermill": {
   "default_parameters": {},
   "duration": 13.22327,
   "end_time": "2023-03-06T05:54:25.958649",
   "environment_variables": {},
   "exception": null,
   "input_path": "__notebook__.ipynb",
   "output_path": "__notebook__.ipynb",
   "parameters": {},
   "start_time": "2023-03-06T05:54:12.735379",
   "version": "2.4.0"
  }
 },
 "nbformat": 4,
 "nbformat_minor": 5
}
