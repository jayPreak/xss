{
 "cells": [
  {
   "cell_type": "code",
   "execution_count": 1,
   "id": "cbe45ec4",
   "metadata": {
    "_cell_guid": "b1076dfc-b9ad-4769-8c92-a6c4dae69d19",
    "_uuid": "8f2839f25d086af736a60e9eeb907d3b93b6e0e5",
    "execution": {
     "iopub.execute_input": "2023-03-13T06:23:05.124173Z",
     "iopub.status.busy": "2023-03-13T06:23:05.123465Z",
     "iopub.status.idle": "2023-03-13T06:23:06.272144Z",
     "shell.execute_reply": "2023-03-13T06:23:06.271157Z"
    },
    "papermill": {
     "duration": 1.160332,
     "end_time": "2023-03-13T06:23:06.275012",
     "exception": false,
     "start_time": "2023-03-13T06:23:05.114680",
     "status": "completed"
    },
    "tags": []
   },
   "outputs": [],
   "source": [
    "import pandas as pd\n",
    "from sklearn.feature_extraction.text import CountVectorizer\n",
    "from sklearn.linear_model import LogisticRegression\n",
    "from sklearn.metrics import accuracy_score, confusion_matrix, roc_curve, roc_auc_score\n",
    "import matplotlib.pyplot as plt"
   ]
  },
  {
   "cell_type": "markdown",
   "id": "de79bf38",
   "metadata": {
    "papermill": {
     "duration": 0.005005,
     "end_time": "2023-03-13T06:23:06.285518",
     "exception": false,
     "start_time": "2023-03-13T06:23:06.280513",
     "status": "completed"
    },
    "tags": []
   },
   "source": [
    "To build machine learning models on this dataset, we can start by pre-processing the text data in the \"Sentence\" column to convert the HTML code into plain text. We can then use various machine learning algorithms, such as logistic regression, decision trees, or neural networks, to classify each instance as either a cross-site scripting example or not."
   ]
  },
  {
   "cell_type": "markdown",
   "id": "015467ad",
   "metadata": {
    "papermill": {
     "duration": 0.004822,
     "end_time": "2023-03-13T06:23:06.295443",
     "exception": false,
     "start_time": "2023-03-13T06:23:06.290621",
     "status": "completed"
    },
    "tags": []
   },
   "source": [
    "For evaluating the performance of the models, we can use metrics such as accuracy, precision, recall, and F1 score. Additionally, we can create visualizations such as confusion matrices and ROC curves to better understand how the models are performing and where they may be making errors."
   ]
  },
  {
   "cell_type": "markdown",
   "id": "4902f450",
   "metadata": {
    "papermill": {
     "duration": 0.004808,
     "end_time": "2023-03-13T06:23:06.305390",
     "exception": false,
     "start_time": "2023-03-13T06:23:06.300582",
     "status": "completed"
    },
    "tags": []
   },
   "source": [
    "**Loading the data**"
   ]
  },
  {
   "cell_type": "code",
   "execution_count": 2,
   "id": "05749310",
   "metadata": {
    "execution": {
     "iopub.execute_input": "2023-03-13T06:23:06.317676Z",
     "iopub.status.busy": "2023-03-13T06:23:06.317300Z",
     "iopub.status.idle": "2023-03-13T06:23:06.400033Z",
     "shell.execute_reply": "2023-03-13T06:23:06.398621Z"
    },
    "papermill": {
     "duration": 0.092081,
     "end_time": "2023-03-13T06:23:06.402643",
     "exception": false,
     "start_time": "2023-03-13T06:23:06.310562",
     "status": "completed"
    },
    "tags": []
   },
   "outputs": [
    {
     "name": "stdout",
     "output_type": "stream",
     "text": [
      "       Unnamed: 0                                           Sentence  Label\n",
      "0               0  <li><a href=\"/wiki/File:Socrates.png\" class=\"i...      0\n",
      "1               1               <tt onmouseover=\"alert(1)\">test</tt>      1\n",
      "2               2  \\t </span> <span class=\"reference-text\">Steeri...      0\n",
      "3               3  \\t </span> <span class=\"reference-text\"><cite ...      0\n",
      "4               4  \\t </span>. <a href=\"/wiki/Digital_object_iden...      0\n",
      "...           ...                                                ...    ...\n",
      "13681       13681             <img onpointerenter=alert(1)>XSS</img>      1\n",
      "13682       13682  <source onbeforepaste=\"alert(1)\" contenteditab...      1\n",
      "13683       13683  <div draggable=\"true\" contenteditable>drag me<...      1\n",
      "13684       13684  <li><cite id=\"CITEREFDomingos2015\" class=\"cita...      0\n",
      "13685       13685                                         \\t </span>      0\n",
      "\n",
      "[13686 rows x 3 columns]\n"
     ]
    }
   ],
   "source": [
    "data = pd.read_csv('/kaggle/input/cross-site-scripting-xss-dataset-for-deep-learning/XSS_dataset.csv')\n",
    "print(data)"
   ]
  },
  {
   "cell_type": "markdown",
   "id": "ab56a09f",
   "metadata": {
    "papermill": {
     "duration": 0.005141,
     "end_time": "2023-03-13T06:23:06.413343",
     "exception": false,
     "start_time": "2023-03-13T06:23:06.408202",
     "status": "completed"
    },
    "tags": []
   },
   "source": [
    "**Converting HTML code to plain text**"
   ]
  },
  {
   "cell_type": "code",
   "execution_count": 3,
   "id": "cd94d0ad",
   "metadata": {
    "execution": {
     "iopub.execute_input": "2023-03-13T06:23:06.425780Z",
     "iopub.status.busy": "2023-03-13T06:23:06.425367Z",
     "iopub.status.idle": "2023-03-13T06:23:06.492914Z",
     "shell.execute_reply": "2023-03-13T06:23:06.491401Z"
    },
    "papermill": {
     "duration": 0.076654,
     "end_time": "2023-03-13T06:23:06.495387",
     "exception": false,
     "start_time": "2023-03-13T06:23:06.418733",
     "status": "completed"
    },
    "tags": []
   },
   "outputs": [
    {
     "name": "stdout",
     "output_type": "stream",
     "text": [
      "       Unnamed: 0                                           Sentence  Label\n",
      "0               0                           Philosophy&#32;portal         0\n",
      "1               1                                               test      1\n",
      "2               2  \\t  Steering for the 1995 \"No Hands Across Ame...      0\n",
      "3               3  \\t  \"Miles Education | Future Of Finance | Blo...      0\n",
      "4               4  \\t . doi :10.1016/S0921-8890(05)80025-9 . Arch...      0\n",
      "...           ...                                                ...    ...\n",
      "13681       13681                                                XSS      1\n",
      "13682       13682                                               test      1\n",
      "13683       13683                                   drag medrop here      1\n",
      "13684       13684  Domingos, Pedro  (2015). The Master Algorithm:...      0\n",
      "13685       13685                                                \\t       0\n",
      "\n",
      "[13686 rows x 3 columns]\n"
     ]
    }
   ],
   "source": [
    "data['Sentence'] = data['Sentence'].replace('<[^<]+?>', '', regex=True)\n",
    "print(data)"
   ]
  },
  {
   "cell_type": "markdown",
   "id": "2ea210e1",
   "metadata": {
    "papermill": {
     "duration": 0.005216,
     "end_time": "2023-03-13T06:23:06.506061",
     "exception": false,
     "start_time": "2023-03-13T06:23:06.500845",
     "status": "completed"
    },
    "tags": []
   },
   "source": [
    "**Splitting the data into training and testing sets**"
   ]
  },
  {
   "cell_type": "code",
   "execution_count": 4,
   "id": "15b65345",
   "metadata": {
    "execution": {
     "iopub.execute_input": "2023-03-13T06:23:06.518741Z",
     "iopub.status.busy": "2023-03-13T06:23:06.518023Z",
     "iopub.status.idle": "2023-03-13T06:23:06.523676Z",
     "shell.execute_reply": "2023-03-13T06:23:06.522587Z"
    },
    "papermill": {
     "duration": 0.014789,
     "end_time": "2023-03-13T06:23:06.526169",
     "exception": false,
     "start_time": "2023-03-13T06:23:06.511380",
     "status": "completed"
    },
    "tags": []
   },
   "outputs": [],
   "source": [
    "train_data = data[:400]\n",
    "test_data = data[400:]"
   ]
  },
  {
   "cell_type": "markdown",
   "id": "ee6b4f19",
   "metadata": {
    "papermill": {
     "duration": 0.005578,
     "end_time": "2023-03-13T06:23:06.537449",
     "exception": false,
     "start_time": "2023-03-13T06:23:06.531871",
     "status": "completed"
    },
    "tags": []
   },
   "source": [
    "**Initializing the count vectorizer**"
   ]
  },
  {
   "cell_type": "code",
   "execution_count": 5,
   "id": "bf4023bb",
   "metadata": {
    "execution": {
     "iopub.execute_input": "2023-03-13T06:23:06.551269Z",
     "iopub.status.busy": "2023-03-13T06:23:06.550887Z",
     "iopub.status.idle": "2023-03-13T06:23:06.556177Z",
     "shell.execute_reply": "2023-03-13T06:23:06.555198Z"
    },
    "papermill": {
     "duration": 0.015568,
     "end_time": "2023-03-13T06:23:06.558535",
     "exception": false,
     "start_time": "2023-03-13T06:23:06.542967",
     "status": "completed"
    },
    "tags": []
   },
   "outputs": [],
   "source": [
    "vectorizer = CountVectorizer(stop_words='english')"
   ]
  },
  {
   "cell_type": "markdown",
   "id": "f8da81dc",
   "metadata": {
    "papermill": {
     "duration": 0.005102,
     "end_time": "2023-03-13T06:23:06.569121",
     "exception": false,
     "start_time": "2023-03-13T06:23:06.564019",
     "status": "completed"
    },
    "tags": []
   },
   "source": [
    "**Creating the feature matrix for the training data**"
   ]
  },
  {
   "cell_type": "code",
   "execution_count": 6,
   "id": "9a4052b8",
   "metadata": {
    "execution": {
     "iopub.execute_input": "2023-03-13T06:23:06.582272Z",
     "iopub.status.busy": "2023-03-13T06:23:06.581336Z",
     "iopub.status.idle": "2023-03-13T06:23:06.594481Z",
     "shell.execute_reply": "2023-03-13T06:23:06.593513Z"
    },
    "papermill": {
     "duration": 0.022542,
     "end_time": "2023-03-13T06:23:06.596963",
     "exception": false,
     "start_time": "2023-03-13T06:23:06.574421",
     "status": "completed"
    },
    "tags": []
   },
   "outputs": [],
   "source": [
    "train_features = vectorizer.fit_transform(train_data['Sentence'])"
   ]
  },
  {
   "cell_type": "markdown",
   "id": "d2b33cb6",
   "metadata": {
    "papermill": {
     "duration": 0.005152,
     "end_time": "2023-03-13T06:23:06.607881",
     "exception": false,
     "start_time": "2023-03-13T06:23:06.602729",
     "status": "completed"
    },
    "tags": []
   },
   "source": [
    "**Fitting a logistic regression model to the training data**"
   ]
  },
  {
   "cell_type": "code",
   "execution_count": 7,
   "id": "8d34ee14",
   "metadata": {
    "execution": {
     "iopub.execute_input": "2023-03-13T06:23:06.620906Z",
     "iopub.status.busy": "2023-03-13T06:23:06.620479Z",
     "iopub.status.idle": "2023-03-13T06:23:06.650011Z",
     "shell.execute_reply": "2023-03-13T06:23:06.648711Z"
    },
    "papermill": {
     "duration": 0.039042,
     "end_time": "2023-03-13T06:23:06.652382",
     "exception": false,
     "start_time": "2023-03-13T06:23:06.613340",
     "status": "completed"
    },
    "tags": []
   },
   "outputs": [
    {
     "data": {
      "text/plain": [
       "LogisticRegression()"
      ]
     },
     "execution_count": 7,
     "metadata": {},
     "output_type": "execute_result"
    }
   ],
   "source": [
    "model = LogisticRegression()\n",
    "model.fit(train_features, train_data['Label'])"
   ]
  },
  {
   "cell_type": "markdown",
   "id": "2afd4fdc",
   "metadata": {
    "papermill": {
     "duration": 0.005361,
     "end_time": "2023-03-13T06:23:06.663394",
     "exception": false,
     "start_time": "2023-03-13T06:23:06.658033",
     "status": "completed"
    },
    "tags": []
   },
   "source": [
    "**Creating the feature matrix for the testing data and Making predictions on the testing data**"
   ]
  },
  {
   "cell_type": "code",
   "execution_count": 8,
   "id": "14c9dc26",
   "metadata": {
    "execution": {
     "iopub.execute_input": "2023-03-13T06:23:06.676832Z",
     "iopub.status.busy": "2023-03-13T06:23:06.675693Z",
     "iopub.status.idle": "2023-03-13T06:23:06.765076Z",
     "shell.execute_reply": "2023-03-13T06:23:06.763850Z"
    },
    "papermill": {
     "duration": 0.099098,
     "end_time": "2023-03-13T06:23:06.767969",
     "exception": false,
     "start_time": "2023-03-13T06:23:06.668871",
     "status": "completed"
    },
    "tags": []
   },
   "outputs": [],
   "source": [
    "test_features = vectorizer.transform(test_data['Sentence'])\n",
    "preds = model.predict(test_features)"
   ]
  },
  {
   "cell_type": "markdown",
   "id": "d6b5fbef",
   "metadata": {
    "papermill": {
     "duration": 0.005483,
     "end_time": "2023-03-13T06:23:06.779612",
     "exception": false,
     "start_time": "2023-03-13T06:23:06.774129",
     "status": "completed"
    },
    "tags": []
   },
   "source": [
    "**Evaluating the model's accuracy**"
   ]
  },
  {
   "cell_type": "code",
   "execution_count": 9,
   "id": "81bbeb58",
   "metadata": {
    "execution": {
     "iopub.execute_input": "2023-03-13T06:23:06.792909Z",
     "iopub.status.busy": "2023-03-13T06:23:06.792460Z",
     "iopub.status.idle": "2023-03-13T06:23:06.801454Z",
     "shell.execute_reply": "2023-03-13T06:23:06.799792Z"
    },
    "papermill": {
     "duration": 0.018972,
     "end_time": "2023-03-13T06:23:06.804182",
     "exception": false,
     "start_time": "2023-03-13T06:23:06.785210",
     "status": "completed"
    },
    "tags": []
   },
   "outputs": [
    {
     "name": "stdout",
     "output_type": "stream",
     "text": [
      "Accuracy: 0.8825079030558483\n"
     ]
    }
   ],
   "source": [
    "accuracy = accuracy_score(test_data['Label'], preds)\n",
    "print(f\"Accuracy: {accuracy}\")"
   ]
  },
  {
   "cell_type": "markdown",
   "id": "44266247",
   "metadata": {
    "papermill": {
     "duration": 0.00533,
     "end_time": "2023-03-13T06:23:06.815436",
     "exception": false,
     "start_time": "2023-03-13T06:23:06.810106",
     "status": "completed"
    },
    "tags": []
   },
   "source": [
    "**Creating a confusion matrix**"
   ]
  },
  {
   "cell_type": "code",
   "execution_count": 10,
   "id": "a2fc5f08",
   "metadata": {
    "execution": {
     "iopub.execute_input": "2023-03-13T06:23:06.828859Z",
     "iopub.status.busy": "2023-03-13T06:23:06.827941Z",
     "iopub.status.idle": "2023-03-13T06:23:07.395334Z",
     "shell.execute_reply": "2023-03-13T06:23:07.394396Z"
    },
    "papermill": {
     "duration": 0.576823,
     "end_time": "2023-03-13T06:23:07.397746",
     "exception": false,
     "start_time": "2023-03-13T06:23:06.820923",
     "status": "completed"
    },
    "tags": []
   },
   "outputs": [
    {
     "name": "stdout",
     "output_type": "stream",
     "text": [
      "Confusion Matrix:\n",
      "[[6116   14]\n",
      " [1547 5609]]\n"
     ]
    },
    {
     "data": {
      "text/plain": [
       "<AxesSubplot:>"
      ]
     },
     "execution_count": 10,
     "metadata": {},
     "output_type": "execute_result"
    },
    {
     "data": {
      "image/png": "[encoded data removed]",
      "text/plain": [
       "<Figure size 640x480 with 2 Axes>"
      ]
     },
     "metadata": {},
     "output_type": "display_data"
    }
   ],
   "source": [
    "cm = confusion_matrix(test_data['Label'], preds)\n",
    "print(f\"Confusion Matrix:\\n{cm}\")\n",
    "import numpy as np\n",
    "import seaborn as sns\n",
    "# sns.heatmap(cm, annot=True)\n",
    "sns.heatmap(cm/np.sum(cm), annot=True, \n",
    "            fmt='.2%', cmap='Blues')"
   ]
  },
  {
   "cell_type": "markdown",
   "id": "86e97a23",
   "metadata": {
    "papermill": {
     "duration": 0.00574,
     "end_time": "2023-03-13T06:23:07.409676",
     "exception": false,
     "start_time": "2023-03-13T06:23:07.403936",
     "status": "completed"
    },
    "tags": []
   },
   "source": [
    "**Creating and Plotting an ROC curve**"
   ]
  },
  {
   "cell_type": "code",
   "execution_count": 11,
   "id": "f9108711",
   "metadata": {
    "execution": {
     "iopub.execute_input": "2023-03-13T06:23:07.423864Z",
     "iopub.status.busy": "2023-03-13T06:23:07.423158Z",
     "iopub.status.idle": "2023-03-13T06:23:07.656081Z",
     "shell.execute_reply": "2023-03-13T06:23:07.654878Z"
    },
    "papermill": {
     "duration": 0.243135,
     "end_time": "2023-03-13T06:23:07.658723",
     "exception": false,
     "start_time": "2023-03-13T06:23:07.415588",
     "status": "completed"
    },
    "tags": []
   },
   "outputs": [
    {
     "data": {
      "image/png": "[encoded data removed]",
      "text/plain": [
       "<Figure size 640x480 with 1 Axes>"
      ]
     },
     "metadata": {},
     "output_type": "display_data"
    }
   ],
   "source": [
    "fpr, tpr, thresholds = roc_curve(test_data['Label'], preds)\n",
    "auc = roc_auc_score(test_data['Label'], preds)\n",
    "\n",
    "plt.plot(fpr, tpr, label=f\"AUC={auc:.2f}\")\n",
    "plt.plot([0, 1], [0, 1], linestyle='--')\n",
    "plt.xlabel('False Positive Rate')\n",
    "plt.ylabel('True Positive Rate')\n",
    "plt.title('ROC Curve')\n",
    "plt.legend()\n",
    "plt.show()"
   ]
  },
  {
   "cell_type": "code",
   "execution_count": null,
   "id": "bd68a7bb",
   "metadata": {
    "papermill": {
     "duration": 0.006602,
     "end_time": "2023-03-13T06:23:07.672644",
     "exception": false,
     "start_time": "2023-03-13T06:23:07.666042",
     "status": "completed"
    },
    "tags": []
   },
   "outputs": [],
   "source": []
  }
 ],
 "metadata": {
  "kernelspec": {
   "display_name": "Python 3",
   "language": "python",
   "name": "python3"
  },
  "language_info": {
   "codemirror_mode": {
    "name": "ipython",
    "version": 3
   },
   "file_extension": ".py",
   "mimetype": "text/x-python",
   "name": "python",
   "nbconvert_exporter": "python",
   "pygments_lexer": "ipython3",
   "version": "3.7.12"
  },
  "papermill": {
   "default_parameters": {},
   "duration": 13.291478,
   "end_time": "2023-03-13T06:23:08.402417",
   "environment_variables": {},
   "exception": null,
   "input_path": "__notebook__.ipynb",
   "output_path": "__notebook__.ipynb",
   "parameters": {},
   "start_time": "2023-03-13T06:22:55.110939",
   "version": "2.4.0"
  }
 },
 "nbformat": 4,
 "nbformat_minor": 5
}
