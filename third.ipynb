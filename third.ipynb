{
 "cells": [
  {
   "cell_type": "code",
   "execution_count": 1,
   "id": "0aa36192",
   "metadata": {
    "_cell_guid": "b1076dfc-b9ad-4769-8c92-a6c4dae69d19",
    "_uuid": "8f2839f25d086af736a60e9eeb907d3b93b6e0e5",
    "execution": {
     "iopub.execute_input": "2023-03-13T05:57:42.335692Z",
     "iopub.status.busy": "2023-03-13T05:57:42.335144Z",
     "iopub.status.idle": "2023-03-13T05:57:43.818853Z",
     "shell.execute_reply": "2023-03-13T05:57:43.817340Z"
    },
    "papermill": {
     "duration": 1.493141,
     "end_time": "2023-03-13T05:57:43.822352",
     "exception": false,
     "start_time": "2023-03-13T05:57:42.329211",
     "status": "completed"
    },
    "tags": []
   },
   "outputs": [],
   "source": [
    "import pandas as pd\n",
    "from sklearn.feature_extraction.text import CountVectorizer\n",
    "from sklearn.linear_model import LogisticRegression\n",
    "from sklearn.metrics import accuracy_score, confusion_matrix, roc_curve, roc_auc_score\n",
    "import matplotlib.pyplot as plt"
   ]
  },
  {
   "cell_type": "markdown",
   "id": "6d263e21",
   "metadata": {
    "papermill": {
     "duration": 0.001922,
     "end_time": "2023-03-13T05:57:43.826957",
     "exception": false,
     "start_time": "2023-03-13T05:57:43.825035",
     "status": "completed"
    },
    "tags": []
   },
   "source": [
    "To build machine learning models on this dataset, we can start by pre-processing the text data in the \"Sentence\" column to convert the HTML code into plain text. We can then use various machine learning algorithms, such as logistic regression, decision trees, or neural networks, to classify each instance as either a cross-site scripting example or not."
   ]
  },
  {
   "cell_type": "markdown",
   "id": "547d34eb",
   "metadata": {
    "papermill": {
     "duration": 0.001694,
     "end_time": "2023-03-13T05:57:43.830691",
     "exception": false,
     "start_time": "2023-03-13T05:57:43.828997",
     "status": "completed"
    },
    "tags": []
   },
   "source": [
    "For evaluating the performance of the models, we can use metrics such as accuracy, precision, recall, and F1 score. Additionally, we can create visualizations such as confusion matrices and ROC curves to better understand how the models are performing and where they may be making errors."
   ]
  },
  {
   "cell_type": "code",
   "execution_count": null,
   "id": "2cc43299",
   "metadata": {
    "papermill": {
     "duration": 0.001665,
     "end_time": "2023-03-13T05:57:43.834244",
     "exception": false,
     "start_time": "2023-03-13T05:57:43.832579",
     "status": "completed"
    },
    "tags": []
   },
   "outputs": [],
   "source": []
  },
  {
   "cell_type": "code",
   "execution_count": null,
   "id": "5b94f8b6",
   "metadata": {
    "papermill": {
     "duration": 0.001604,
     "end_time": "2023-03-13T05:57:43.837687",
     "exception": false,
     "start_time": "2023-03-13T05:57:43.836083",
     "status": "completed"
    },
    "tags": []
   },
   "outputs": [],
   "source": []
  }
 ],
 "metadata": {
  "kernelspec": {
   "display_name": "Python 3",
   "language": "python",
   "name": "python3"
  },
  "language_info": {
   "codemirror_mode": {
    "name": "ipython",
    "version": 3
   },
   "file_extension": ".py",
   "mimetype": "text/x-python",
   "name": "python",
   "nbconvert_exporter": "python",
   "pygments_lexer": "ipython3",
   "version": "3.7.12"
  },
  "papermill": {
   "default_parameters": {},
   "duration": 14.39324,
   "end_time": "2023-03-13T05:57:44.966839",
   "environment_variables": {},
   "exception": null,
   "input_path": "__notebook__.ipynb",
   "output_path": "__notebook__.ipynb",
   "parameters": {},
   "start_time": "2023-03-13T05:57:30.573599",
   "version": "2.4.0"
  }
 },
 "nbformat": 4,
 "nbformat_minor": 5
}
