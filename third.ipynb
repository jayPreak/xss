{
 "cells": [
  {
   "cell_type": "code",
   "execution_count": 1,
   "id": "b60dda30",
   "metadata": {
    "_cell_guid": "b1076dfc-b9ad-4769-8c92-a6c4dae69d19",
    "_uuid": "8f2839f25d086af736a60e9eeb907d3b93b6e0e5",
    "execution": {
     "iopub.execute_input": "2023-03-13T06:02:32.358359Z",
     "iopub.status.busy": "2023-03-13T06:02:32.357931Z",
     "iopub.status.idle": "2023-03-13T06:02:33.739381Z",
     "shell.execute_reply": "2023-03-13T06:02:33.738230Z"
    },
    "papermill": {
     "duration": 1.390928,
     "end_time": "2023-03-13T06:02:33.742284",
     "exception": false,
     "start_time": "2023-03-13T06:02:32.351356",
     "status": "completed"
    },
    "tags": []
   },
   "outputs": [],
   "source": [
    "import pandas as pd\n",
    "from sklearn.feature_extraction.text import CountVectorizer\n",
    "from sklearn.linear_model import LogisticRegression\n",
    "from sklearn.metrics import accuracy_score, confusion_matrix, roc_curve, roc_auc_score\n",
    "import matplotlib.pyplot as plt"
   ]
  },
  {
   "cell_type": "markdown",
   "id": "b1da4bf0",
   "metadata": {
    "papermill": {
     "duration": 0.002557,
     "end_time": "2023-03-13T06:02:33.747974",
     "exception": false,
     "start_time": "2023-03-13T06:02:33.745417",
     "status": "completed"
    },
    "tags": []
   },
   "source": [
    "To build machine learning models on this dataset, we can start by pre-processing the text data in the \"Sentence\" column to convert the HTML code into plain text. We can then use various machine learning algorithms, such as logistic regression, decision trees, or neural networks, to classify each instance as either a cross-site scripting example or not."
   ]
  },
  {
   "cell_type": "markdown",
   "id": "38688349",
   "metadata": {
    "papermill": {
     "duration": 0.002484,
     "end_time": "2023-03-13T06:02:33.753153",
     "exception": false,
     "start_time": "2023-03-13T06:02:33.750669",
     "status": "completed"
    },
    "tags": []
   },
   "source": [
    "For evaluating the performance of the models, we can use metrics such as accuracy, precision, recall, and F1 score. Additionally, we can create visualizations such as confusion matrices and ROC curves to better understand how the models are performing and where they may be making errors."
   ]
  },
  {
   "cell_type": "markdown",
   "id": "5fdd01ef",
   "metadata": {
    "papermill": {
     "duration": 0.002523,
     "end_time": "2023-03-13T06:02:33.758413",
     "exception": false,
     "start_time": "2023-03-13T06:02:33.755890",
     "status": "completed"
    },
    "tags": []
   },
   "source": [
    "**Loading the data**"
   ]
  },
  {
   "cell_type": "code",
   "execution_count": 2,
   "id": "662c2928",
   "metadata": {
    "execution": {
     "iopub.execute_input": "2023-03-13T06:02:33.766632Z",
     "iopub.status.busy": "2023-03-13T06:02:33.765217Z",
     "iopub.status.idle": "2023-03-13T06:02:33.853993Z",
     "shell.execute_reply": "2023-03-13T06:02:33.852197Z"
    },
    "papermill": {
     "duration": 0.095725,
     "end_time": "2023-03-13T06:02:33.856822",
     "exception": false,
     "start_time": "2023-03-13T06:02:33.761097",
     "status": "completed"
    },
    "tags": []
   },
   "outputs": [
    {
     "name": "stdout",
     "output_type": "stream",
     "text": [
      "       Unnamed: 0                                           Sentence  Label\n",
      "0               0  <li><a href=\"/wiki/File:Socrates.png\" class=\"i...      0\n",
      "1               1               <tt onmouseover=\"alert(1)\">test</tt>      1\n",
      "2               2  \\t </span> <span class=\"reference-text\">Steeri...      0\n",
      "3               3  \\t </span> <span class=\"reference-text\"><cite ...      0\n",
      "4               4  \\t </span>. <a href=\"/wiki/Digital_object_iden...      0\n",
      "...           ...                                                ...    ...\n",
      "13681       13681             <img onpointerenter=alert(1)>XSS</img>      1\n",
      "13682       13682  <source onbeforepaste=\"alert(1)\" contenteditab...      1\n",
      "13683       13683  <div draggable=\"true\" contenteditable>drag me<...      1\n",
      "13684       13684  <li><cite id=\"CITEREFDomingos2015\" class=\"cita...      0\n",
      "13685       13685                                         \\t </span>      0\n",
      "\n",
      "[13686 rows x 3 columns]\n"
     ]
    }
   ],
   "source": [
    "data = pd.read_csv('/kaggle/input/cross-site-scripting-xss-dataset-for-deep-learning/XSS_dataset.csv')\n",
    "print(data)"
   ]
  },
  {
   "cell_type": "markdown",
   "id": "79a5e649",
   "metadata": {
    "papermill": {
     "duration": 0.002771,
     "end_time": "2023-03-13T06:02:33.862725",
     "exception": false,
     "start_time": "2023-03-13T06:02:33.859954",
     "status": "completed"
    },
    "tags": []
   },
   "source": [
    "**Converting HTML code to plain text**"
   ]
  },
  {
   "cell_type": "code",
   "execution_count": 3,
   "id": "cab2c50f",
   "metadata": {
    "execution": {
     "iopub.execute_input": "2023-03-13T06:02:33.870529Z",
     "iopub.status.busy": "2023-03-13T06:02:33.870097Z",
     "iopub.status.idle": "2023-03-13T06:02:33.939037Z",
     "shell.execute_reply": "2023-03-13T06:02:33.937655Z"
    },
    "papermill": {
     "duration": 0.076176,
     "end_time": "2023-03-13T06:02:33.941829",
     "exception": false,
     "start_time": "2023-03-13T06:02:33.865653",
     "status": "completed"
    },
    "tags": []
   },
   "outputs": [
    {
     "name": "stdout",
     "output_type": "stream",
     "text": [
      "       Unnamed: 0                                           Sentence  Label\n",
      "0               0                           Philosophy&#32;portal         0\n",
      "1               1                                               test      1\n",
      "2               2  \\t  Steering for the 1995 \"No Hands Across Ame...      0\n",
      "3               3  \\t  \"Miles Education | Future Of Finance | Blo...      0\n",
      "4               4  \\t . doi :10.1016/S0921-8890(05)80025-9 . Arch...      0\n",
      "...           ...                                                ...    ...\n",
      "13681       13681                                                XSS      1\n",
      "13682       13682                                               test      1\n",
      "13683       13683                                   drag medrop here      1\n",
      "13684       13684  Domingos, Pedro  (2015). The Master Algorithm:...      0\n",
      "13685       13685                                                \\t       0\n",
      "\n",
      "[13686 rows x 3 columns]\n"
     ]
    }
   ],
   "source": [
    "data['Sentence'] = data['Sentence'].replace('<[^<]+?>', '', regex=True)\n",
    "print(data)"
   ]
  },
  {
   "cell_type": "markdown",
   "id": "5d3202e7",
   "metadata": {
    "papermill": {
     "duration": 0.002896,
     "end_time": "2023-03-13T06:02:33.947975",
     "exception": false,
     "start_time": "2023-03-13T06:02:33.945079",
     "status": "completed"
    },
    "tags": []
   },
   "source": [
    "**Splitting the data into training and testing sets**"
   ]
  },
  {
   "cell_type": "code",
   "execution_count": 4,
   "id": "97f5f3fb",
   "metadata": {
    "execution": {
     "iopub.execute_input": "2023-03-13T06:02:33.956289Z",
     "iopub.status.busy": "2023-03-13T06:02:33.955887Z",
     "iopub.status.idle": "2023-03-13T06:02:33.961624Z",
     "shell.execute_reply": "2023-03-13T06:02:33.960187Z"
    },
    "papermill": {
     "duration": 0.013087,
     "end_time": "2023-03-13T06:02:33.964136",
     "exception": false,
     "start_time": "2023-03-13T06:02:33.951049",
     "status": "completed"
    },
    "tags": []
   },
   "outputs": [],
   "source": [
    "train_data = data[:400]\n",
    "test_data = data[400:]"
   ]
  },
  {
   "cell_type": "code",
   "execution_count": null,
   "id": "18722ae5",
   "metadata": {
    "papermill": {
     "duration": 0.002906,
     "end_time": "2023-03-13T06:02:33.970583",
     "exception": false,
     "start_time": "2023-03-13T06:02:33.967677",
     "status": "completed"
    },
    "tags": []
   },
   "outputs": [],
   "source": []
  }
 ],
 "metadata": {
  "kernelspec": {
   "display_name": "Python 3",
   "language": "python",
   "name": "python3"
  },
  "language_info": {
   "codemirror_mode": {
    "name": "ipython",
    "version": 3
   },
   "file_extension": ".py",
   "mimetype": "text/x-python",
   "name": "python",
   "nbconvert_exporter": "python",
   "pygments_lexer": "ipython3",
   "version": "3.7.12"
  },
  "papermill": {
   "default_parameters": {},
   "duration": 13.208552,
   "end_time": "2023-03-13T06:02:34.696193",
   "environment_variables": {},
   "exception": null,
   "input_path": "__notebook__.ipynb",
   "output_path": "__notebook__.ipynb",
   "parameters": {},
   "start_time": "2023-03-13T06:02:21.487641",
   "version": "2.4.0"
  }
 },
 "nbformat": 4,
 "nbformat_minor": 5
}
