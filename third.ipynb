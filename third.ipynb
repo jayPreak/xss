{
 "cells": [
  {
   "cell_type": "code",
   "execution_count": 1,
   "id": "bbb73ed1",
   "metadata": {
    "_cell_guid": "b1076dfc-b9ad-4769-8c92-a6c4dae69d19",
    "_uuid": "8f2839f25d086af736a60e9eeb907d3b93b6e0e5",
    "execution": {
     "iopub.execute_input": "2023-03-13T06:21:31.783573Z",
     "iopub.status.busy": "2023-03-13T06:21:31.782988Z",
     "iopub.status.idle": "2023-03-13T06:21:32.944481Z",
     "shell.execute_reply": "2023-03-13T06:21:32.943095Z"
    },
    "papermill": {
     "duration": 1.171182,
     "end_time": "2023-03-13T06:21:32.947745",
     "exception": false,
     "start_time": "2023-03-13T06:21:31.776563",
     "status": "completed"
    },
    "tags": []
   },
   "outputs": [],
   "source": [
    "import pandas as pd\n",
    "from sklearn.feature_extraction.text import CountVectorizer\n",
    "from sklearn.linear_model import LogisticRegression\n",
    "from sklearn.metrics import accuracy_score, confusion_matrix, roc_curve, roc_auc_score\n",
    "import matplotlib.pyplot as plt"
   ]
  },
  {
   "cell_type": "markdown",
   "id": "0bd28b82",
   "metadata": {
    "papermill": {
     "duration": 0.003682,
     "end_time": "2023-03-13T06:21:32.955746",
     "exception": false,
     "start_time": "2023-03-13T06:21:32.952064",
     "status": "completed"
    },
    "tags": []
   },
   "source": [
    "To build machine learning models on this dataset, we can start by pre-processing the text data in the \"Sentence\" column to convert the HTML code into plain text. We can then use various machine learning algorithms, such as logistic regression, decision trees, or neural networks, to classify each instance as either a cross-site scripting example or not."
   ]
  },
  {
   "cell_type": "markdown",
   "id": "af5bde3f",
   "metadata": {
    "papermill": {
     "duration": 0.003569,
     "end_time": "2023-03-13T06:21:32.963285",
     "exception": false,
     "start_time": "2023-03-13T06:21:32.959716",
     "status": "completed"
    },
    "tags": []
   },
   "source": [
    "For evaluating the performance of the models, we can use metrics such as accuracy, precision, recall, and F1 score. Additionally, we can create visualizations such as confusion matrices and ROC curves to better understand how the models are performing and where they may be making errors."
   ]
  },
  {
   "cell_type": "markdown",
   "id": "fbeb45a5",
   "metadata": {
    "papermill": {
     "duration": 0.003533,
     "end_time": "2023-03-13T06:21:32.970590",
     "exception": false,
     "start_time": "2023-03-13T06:21:32.967057",
     "status": "completed"
    },
    "tags": []
   },
   "source": [
    "**Loading the data**"
   ]
  },
  {
   "cell_type": "code",
   "execution_count": 2,
   "id": "ae5c068e",
   "metadata": {
    "execution": {
     "iopub.execute_input": "2023-03-13T06:21:32.980077Z",
     "iopub.status.busy": "2023-03-13T06:21:32.979692Z",
     "iopub.status.idle": "2023-03-13T06:21:33.064136Z",
     "shell.execute_reply": "2023-03-13T06:21:33.063223Z"
    },
    "papermill": {
     "duration": 0.092417,
     "end_time": "2023-03-13T06:21:33.066978",
     "exception": false,
     "start_time": "2023-03-13T06:21:32.974561",
     "status": "completed"
    },
    "tags": []
   },
   "outputs": [
    {
     "name": "stdout",
     "output_type": "stream",
     "text": [
      "       Unnamed: 0                                           Sentence  Label\n",
      "0               0  <li><a href=\"/wiki/File:Socrates.png\" class=\"i...      0\n",
      "1               1               <tt onmouseover=\"alert(1)\">test</tt>      1\n",
      "2               2  \\t </span> <span class=\"reference-text\">Steeri...      0\n",
      "3               3  \\t </span> <span class=\"reference-text\"><cite ...      0\n",
      "4               4  \\t </span>. <a href=\"/wiki/Digital_object_iden...      0\n",
      "...           ...                                                ...    ...\n",
      "13681       13681             <img onpointerenter=alert(1)>XSS</img>      1\n",
      "13682       13682  <source onbeforepaste=\"alert(1)\" contenteditab...      1\n",
      "13683       13683  <div draggable=\"true\" contenteditable>drag me<...      1\n",
      "13684       13684  <li><cite id=\"CITEREFDomingos2015\" class=\"cita...      0\n",
      "13685       13685                                         \\t </span>      0\n",
      "\n",
      "[13686 rows x 3 columns]\n"
     ]
    }
   ],
   "source": [
    "data = pd.read_csv('/kaggle/input/cross-site-scripting-xss-dataset-for-deep-learning/XSS_dataset.csv')\n",
    "print(data)"
   ]
  },
  {
   "cell_type": "markdown",
   "id": "5bc3a29e",
   "metadata": {
    "papermill": {
     "duration": 0.004375,
     "end_time": "2023-03-13T06:21:33.076269",
     "exception": false,
     "start_time": "2023-03-13T06:21:33.071894",
     "status": "completed"
    },
    "tags": []
   },
   "source": [
    "**Converting HTML code to plain text**"
   ]
  },
  {
   "cell_type": "code",
   "execution_count": 3,
   "id": "aa7595d5",
   "metadata": {
    "execution": {
     "iopub.execute_input": "2023-03-13T06:21:33.087324Z",
     "iopub.status.busy": "2023-03-13T06:21:33.085828Z",
     "iopub.status.idle": "2023-03-13T06:21:33.143221Z",
     "shell.execute_reply": "2023-03-13T06:21:33.142097Z"
    },
    "papermill": {
     "duration": 0.064966,
     "end_time": "2023-03-13T06:21:33.145403",
     "exception": false,
     "start_time": "2023-03-13T06:21:33.080437",
     "status": "completed"
    },
    "tags": []
   },
   "outputs": [
    {
     "name": "stdout",
     "output_type": "stream",
     "text": [
      "       Unnamed: 0                                           Sentence  Label\n",
      "0               0                           Philosophy&#32;portal         0\n",
      "1               1                                               test      1\n",
      "2               2  \\t  Steering for the 1995 \"No Hands Across Ame...      0\n",
      "3               3  \\t  \"Miles Education | Future Of Finance | Blo...      0\n",
      "4               4  \\t . doi :10.1016/S0921-8890(05)80025-9 . Arch...      0\n",
      "...           ...                                                ...    ...\n",
      "13681       13681                                                XSS      1\n",
      "13682       13682                                               test      1\n",
      "13683       13683                                   drag medrop here      1\n",
      "13684       13684  Domingos, Pedro  (2015). The Master Algorithm:...      0\n",
      "13685       13685                                                \\t       0\n",
      "\n",
      "[13686 rows x 3 columns]\n"
     ]
    }
   ],
   "source": [
    "data['Sentence'] = data['Sentence'].replace('<[^<]+?>', '', regex=True)\n",
    "print(data)"
   ]
  },
  {
   "cell_type": "markdown",
   "id": "fb57b992",
   "metadata": {
    "papermill": {
     "duration": 0.003745,
     "end_time": "2023-03-13T06:21:33.153806",
     "exception": false,
     "start_time": "2023-03-13T06:21:33.150061",
     "status": "completed"
    },
    "tags": []
   },
   "source": [
    "**Splitting the data into training and testing sets**"
   ]
  },
  {
   "cell_type": "code",
   "execution_count": 4,
   "id": "84d8eb38",
   "metadata": {
    "execution": {
     "iopub.execute_input": "2023-03-13T06:21:33.163687Z",
     "iopub.status.busy": "2023-03-13T06:21:33.163267Z",
     "iopub.status.idle": "2023-03-13T06:21:33.169423Z",
     "shell.execute_reply": "2023-03-13T06:21:33.168223Z"
    },
    "papermill": {
     "duration": 0.014775,
     "end_time": "2023-03-13T06:21:33.172686",
     "exception": false,
     "start_time": "2023-03-13T06:21:33.157911",
     "status": "completed"
    },
    "tags": []
   },
   "outputs": [],
   "source": [
    "train_data = data[:400]\n",
    "test_data = data[400:]"
   ]
  },
  {
   "cell_type": "markdown",
   "id": "05f3a206",
   "metadata": {
    "papermill": {
     "duration": 0.003683,
     "end_time": "2023-03-13T06:21:33.180658",
     "exception": false,
     "start_time": "2023-03-13T06:21:33.176975",
     "status": "completed"
    },
    "tags": []
   },
   "source": [
    "**Initializing the count vectorizer**"
   ]
  },
  {
   "cell_type": "code",
   "execution_count": 5,
   "id": "c9b003bf",
   "metadata": {
    "execution": {
     "iopub.execute_input": "2023-03-13T06:21:33.192001Z",
     "iopub.status.busy": "2023-03-13T06:21:33.191589Z",
     "iopub.status.idle": "2023-03-13T06:21:33.196090Z",
     "shell.execute_reply": "2023-03-13T06:21:33.195058Z"
    },
    "papermill": {
     "duration": 0.012883,
     "end_time": "2023-03-13T06:21:33.198412",
     "exception": false,
     "start_time": "2023-03-13T06:21:33.185529",
     "status": "completed"
    },
    "tags": []
   },
   "outputs": [],
   "source": [
    "vectorizer = CountVectorizer(stop_words='english')"
   ]
  },
  {
   "cell_type": "markdown",
   "id": "3043b70b",
   "metadata": {
    "papermill": {
     "duration": 0.003782,
     "end_time": "2023-03-13T06:21:33.206325",
     "exception": false,
     "start_time": "2023-03-13T06:21:33.202543",
     "status": "completed"
    },
    "tags": []
   },
   "source": [
    "**Creating the feature matrix for the training data**"
   ]
  },
  {
   "cell_type": "code",
   "execution_count": 6,
   "id": "2da613e1",
   "metadata": {
    "execution": {
     "iopub.execute_input": "2023-03-13T06:21:33.216131Z",
     "iopub.status.busy": "2023-03-13T06:21:33.215760Z",
     "iopub.status.idle": "2023-03-13T06:21:33.230066Z",
     "shell.execute_reply": "2023-03-13T06:21:33.228557Z"
    },
    "papermill": {
     "duration": 0.022608,
     "end_time": "2023-03-13T06:21:33.233037",
     "exception": false,
     "start_time": "2023-03-13T06:21:33.210429",
     "status": "completed"
    },
    "tags": []
   },
   "outputs": [],
   "source": [
    "train_features = vectorizer.fit_transform(train_data['Sentence'])"
   ]
  },
  {
   "cell_type": "markdown",
   "id": "a3381508",
   "metadata": {
    "papermill": {
     "duration": 0.003743,
     "end_time": "2023-03-13T06:21:33.241001",
     "exception": false,
     "start_time": "2023-03-13T06:21:33.237258",
     "status": "completed"
    },
    "tags": []
   },
   "source": [
    "**Fitting a logistic regression model to the training data**"
   ]
  },
  {
   "cell_type": "code",
   "execution_count": 7,
   "id": "afb7ae3c",
   "metadata": {
    "execution": {
     "iopub.execute_input": "2023-03-13T06:21:33.251202Z",
     "iopub.status.busy": "2023-03-13T06:21:33.250793Z",
     "iopub.status.idle": "2023-03-13T06:21:33.280048Z",
     "shell.execute_reply": "2023-03-13T06:21:33.278712Z"
    },
    "papermill": {
     "duration": 0.037372,
     "end_time": "2023-03-13T06:21:33.282636",
     "exception": false,
     "start_time": "2023-03-13T06:21:33.245264",
     "status": "completed"
    },
    "tags": []
   },
   "outputs": [
    {
     "data": {
      "text/plain": [
       "LogisticRegression()"
      ]
     },
     "execution_count": 7,
     "metadata": {},
     "output_type": "execute_result"
    }
   ],
   "source": [
    "model = LogisticRegression()\n",
    "model.fit(train_features, train_data['Label'])"
   ]
  },
  {
   "cell_type": "markdown",
   "id": "e05bab29",
   "metadata": {
    "papermill": {
     "duration": 0.003858,
     "end_time": "2023-03-13T06:21:33.290744",
     "exception": false,
     "start_time": "2023-03-13T06:21:33.286886",
     "status": "completed"
    },
    "tags": []
   },
   "source": [
    "**Creating the feature matrix for the testing data and Making predictions on the testing data**"
   ]
  },
  {
   "cell_type": "code",
   "execution_count": 8,
   "id": "df58c7e2",
   "metadata": {
    "execution": {
     "iopub.execute_input": "2023-03-13T06:21:33.300896Z",
     "iopub.status.busy": "2023-03-13T06:21:33.300548Z",
     "iopub.status.idle": "2023-03-13T06:21:33.378702Z",
     "shell.execute_reply": "2023-03-13T06:21:33.377094Z"
    },
    "papermill": {
     "duration": 0.086352,
     "end_time": "2023-03-13T06:21:33.381301",
     "exception": false,
     "start_time": "2023-03-13T06:21:33.294949",
     "status": "completed"
    },
    "tags": []
   },
   "outputs": [],
   "source": [
    "test_features = vectorizer.transform(test_data['Sentence'])\n",
    "preds = model.predict(test_features)"
   ]
  },
  {
   "cell_type": "code",
   "execution_count": null,
   "id": "ddef8dba",
   "metadata": {
    "papermill": {
     "duration": 0.00383,
     "end_time": "2023-03-13T06:21:33.389951",
     "exception": false,
     "start_time": "2023-03-13T06:21:33.386121",
     "status": "completed"
    },
    "tags": []
   },
   "outputs": [],
   "source": []
  }
 ],
 "metadata": {
  "kernelspec": {
   "display_name": "Python 3",
   "language": "python",
   "name": "python3"
  },
  "language_info": {
   "codemirror_mode": {
    "name": "ipython",
    "version": 3
   },
   "file_extension": ".py",
   "mimetype": "text/x-python",
   "name": "python",
   "nbconvert_exporter": "python",
   "pygments_lexer": "ipython3",
   "version": "3.7.12"
  },
  "papermill": {
   "default_parameters": {},
   "duration": 11.536193,
   "end_time": "2023-03-13T06:21:34.117890",
   "environment_variables": {},
   "exception": null,
   "input_path": "__notebook__.ipynb",
   "output_path": "__notebook__.ipynb",
   "parameters": {},
   "start_time": "2023-03-13T06:21:22.581697",
   "version": "2.4.0"
  }
 },
 "nbformat": 4,
 "nbformat_minor": 5
}
