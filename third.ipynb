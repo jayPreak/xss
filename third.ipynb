{
 "cells": [
  {
   "cell_type": "code",
   "execution_count": 1,
   "id": "fe98f8d8",
   "metadata": {
    "_cell_guid": "b1076dfc-b9ad-4769-8c92-a6c4dae69d19",
    "_uuid": "8f2839f25d086af736a60e9eeb907d3b93b6e0e5",
    "execution": {
     "iopub.execute_input": "2023-03-13T06:22:33.003569Z",
     "iopub.status.busy": "2023-03-13T06:22:33.002438Z",
     "iopub.status.idle": "2023-03-13T06:22:34.396103Z",
     "shell.execute_reply": "2023-03-13T06:22:34.394541Z"
    },
    "papermill": {
     "duration": 1.407122,
     "end_time": "2023-03-13T06:22:34.399705",
     "exception": false,
     "start_time": "2023-03-13T06:22:32.992583",
     "status": "completed"
    },
    "tags": []
   },
   "outputs": [],
   "source": [
    "import pandas as pd\n",
    "from sklearn.feature_extraction.text import CountVectorizer\n",
    "from sklearn.linear_model import LogisticRegression\n",
    "from sklearn.metrics import accuracy_score, confusion_matrix, roc_curve, roc_auc_score\n",
    "import matplotlib.pyplot as plt"
   ]
  },
  {
   "cell_type": "markdown",
   "id": "17e682eb",
   "metadata": {
    "papermill": {
     "duration": 0.005554,
     "end_time": "2023-03-13T06:22:34.412847",
     "exception": false,
     "start_time": "2023-03-13T06:22:34.407293",
     "status": "completed"
    },
    "tags": []
   },
   "source": [
    "To build machine learning models on this dataset, we can start by pre-processing the text data in the \"Sentence\" column to convert the HTML code into plain text. We can then use various machine learning algorithms, such as logistic regression, decision trees, or neural networks, to classify each instance as either a cross-site scripting example or not."
   ]
  },
  {
   "cell_type": "markdown",
   "id": "ec5f7b63",
   "metadata": {
    "papermill": {
     "duration": 0.005008,
     "end_time": "2023-03-13T06:22:34.423403",
     "exception": false,
     "start_time": "2023-03-13T06:22:34.418395",
     "status": "completed"
    },
    "tags": []
   },
   "source": [
    "For evaluating the performance of the models, we can use metrics such as accuracy, precision, recall, and F1 score. Additionally, we can create visualizations such as confusion matrices and ROC curves to better understand how the models are performing and where they may be making errors."
   ]
  },
  {
   "cell_type": "markdown",
   "id": "1085517f",
   "metadata": {
    "papermill": {
     "duration": 0.005025,
     "end_time": "2023-03-13T06:22:34.433883",
     "exception": false,
     "start_time": "2023-03-13T06:22:34.428858",
     "status": "completed"
    },
    "tags": []
   },
   "source": [
    "**Loading the data**"
   ]
  },
  {
   "cell_type": "code",
   "execution_count": 2,
   "id": "7c5918de",
   "metadata": {
    "execution": {
     "iopub.execute_input": "2023-03-13T06:22:34.447236Z",
     "iopub.status.busy": "2023-03-13T06:22:34.446746Z",
     "iopub.status.idle": "2023-03-13T06:22:34.536301Z",
     "shell.execute_reply": "2023-03-13T06:22:34.535053Z"
    },
    "papermill": {
     "duration": 0.100405,
     "end_time": "2023-03-13T06:22:34.539964",
     "exception": false,
     "start_time": "2023-03-13T06:22:34.439559",
     "status": "completed"
    },
    "tags": []
   },
   "outputs": [
    {
     "name": "stdout",
     "output_type": "stream",
     "text": [
      "       Unnamed: 0                                           Sentence  Label\n",
      "0               0  <li><a href=\"/wiki/File:Socrates.png\" class=\"i...      0\n",
      "1               1               <tt onmouseover=\"alert(1)\">test</tt>      1\n",
      "2               2  \\t </span> <span class=\"reference-text\">Steeri...      0\n",
      "3               3  \\t </span> <span class=\"reference-text\"><cite ...      0\n",
      "4               4  \\t </span>. <a href=\"/wiki/Digital_object_iden...      0\n",
      "...           ...                                                ...    ...\n",
      "13681       13681             <img onpointerenter=alert(1)>XSS</img>      1\n",
      "13682       13682  <source onbeforepaste=\"alert(1)\" contenteditab...      1\n",
      "13683       13683  <div draggable=\"true\" contenteditable>drag me<...      1\n",
      "13684       13684  <li><cite id=\"CITEREFDomingos2015\" class=\"cita...      0\n",
      "13685       13685                                         \\t </span>      0\n",
      "\n",
      "[13686 rows x 3 columns]\n"
     ]
    }
   ],
   "source": [
    "data = pd.read_csv('/kaggle/input/cross-site-scripting-xss-dataset-for-deep-learning/XSS_dataset.csv')\n",
    "print(data)"
   ]
  },
  {
   "cell_type": "markdown",
   "id": "7a8f1d28",
   "metadata": {
    "papermill": {
     "duration": 0.005261,
     "end_time": "2023-03-13T06:22:34.550988",
     "exception": false,
     "start_time": "2023-03-13T06:22:34.545727",
     "status": "completed"
    },
    "tags": []
   },
   "source": [
    "**Converting HTML code to plain text**"
   ]
  },
  {
   "cell_type": "code",
   "execution_count": 3,
   "id": "386585ed",
   "metadata": {
    "execution": {
     "iopub.execute_input": "2023-03-13T06:22:34.564491Z",
     "iopub.status.busy": "2023-03-13T06:22:34.563974Z",
     "iopub.status.idle": "2023-03-13T06:22:34.634458Z",
     "shell.execute_reply": "2023-03-13T06:22:34.632485Z"
    },
    "papermill": {
     "duration": 0.082358,
     "end_time": "2023-03-13T06:22:34.638852",
     "exception": false,
     "start_time": "2023-03-13T06:22:34.556494",
     "status": "completed"
    },
    "tags": []
   },
   "outputs": [
    {
     "name": "stdout",
     "output_type": "stream",
     "text": [
      "       Unnamed: 0                                           Sentence  Label\n",
      "0               0                           Philosophy&#32;portal         0\n",
      "1               1                                               test      1\n",
      "2               2  \\t  Steering for the 1995 \"No Hands Across Ame...      0\n",
      "3               3  \\t  \"Miles Education | Future Of Finance | Blo...      0\n",
      "4               4  \\t . doi :10.1016/S0921-8890(05)80025-9 . Arch...      0\n",
      "...           ...                                                ...    ...\n",
      "13681       13681                                                XSS      1\n",
      "13682       13682                                               test      1\n",
      "13683       13683                                   drag medrop here      1\n",
      "13684       13684  Domingos, Pedro  (2015). The Master Algorithm:...      0\n",
      "13685       13685                                                \\t       0\n",
      "\n",
      "[13686 rows x 3 columns]\n"
     ]
    }
   ],
   "source": [
    "data['Sentence'] = data['Sentence'].replace('<[^<]+?>', '', regex=True)\n",
    "print(data)"
   ]
  },
  {
   "cell_type": "markdown",
   "id": "86de1415",
   "metadata": {
    "papermill": {
     "duration": 0.0054,
     "end_time": "2023-03-13T06:22:34.650427",
     "exception": false,
     "start_time": "2023-03-13T06:22:34.645027",
     "status": "completed"
    },
    "tags": []
   },
   "source": [
    "**Splitting the data into training and testing sets**"
   ]
  },
  {
   "cell_type": "code",
   "execution_count": 4,
   "id": "8db6294d",
   "metadata": {
    "execution": {
     "iopub.execute_input": "2023-03-13T06:22:34.666040Z",
     "iopub.status.busy": "2023-03-13T06:22:34.664086Z",
     "iopub.status.idle": "2023-03-13T06:22:34.671885Z",
     "shell.execute_reply": "2023-03-13T06:22:34.670578Z"
    },
    "papermill": {
     "duration": 0.01779,
     "end_time": "2023-03-13T06:22:34.674691",
     "exception": false,
     "start_time": "2023-03-13T06:22:34.656901",
     "status": "completed"
    },
    "tags": []
   },
   "outputs": [],
   "source": [
    "train_data = data[:400]\n",
    "test_data = data[400:]"
   ]
  },
  {
   "cell_type": "markdown",
   "id": "87b59fb7",
   "metadata": {
    "papermill": {
     "duration": 0.005393,
     "end_time": "2023-03-13T06:22:34.685824",
     "exception": false,
     "start_time": "2023-03-13T06:22:34.680431",
     "status": "completed"
    },
    "tags": []
   },
   "source": [
    "**Initializing the count vectorizer**"
   ]
  },
  {
   "cell_type": "code",
   "execution_count": 5,
   "id": "fba9203e",
   "metadata": {
    "execution": {
     "iopub.execute_input": "2023-03-13T06:22:34.699716Z",
     "iopub.status.busy": "2023-03-13T06:22:34.698551Z",
     "iopub.status.idle": "2023-03-13T06:22:34.705342Z",
     "shell.execute_reply": "2023-03-13T06:22:34.703741Z"
    },
    "papermill": {
     "duration": 0.016958,
     "end_time": "2023-03-13T06:22:34.708282",
     "exception": false,
     "start_time": "2023-03-13T06:22:34.691324",
     "status": "completed"
    },
    "tags": []
   },
   "outputs": [],
   "source": [
    "vectorizer = CountVectorizer(stop_words='english')"
   ]
  },
  {
   "cell_type": "markdown",
   "id": "06330b2f",
   "metadata": {
    "papermill": {
     "duration": 0.005463,
     "end_time": "2023-03-13T06:22:34.719483",
     "exception": false,
     "start_time": "2023-03-13T06:22:34.714020",
     "status": "completed"
    },
    "tags": []
   },
   "source": [
    "**Creating the feature matrix for the training data**"
   ]
  },
  {
   "cell_type": "code",
   "execution_count": 6,
   "id": "6a1927d5",
   "metadata": {
    "execution": {
     "iopub.execute_input": "2023-03-13T06:22:34.733378Z",
     "iopub.status.busy": "2023-03-13T06:22:34.732468Z",
     "iopub.status.idle": "2023-03-13T06:22:34.747328Z",
     "shell.execute_reply": "2023-03-13T06:22:34.745954Z"
    },
    "papermill": {
     "duration": 0.025458,
     "end_time": "2023-03-13T06:22:34.750504",
     "exception": false,
     "start_time": "2023-03-13T06:22:34.725046",
     "status": "completed"
    },
    "tags": []
   },
   "outputs": [],
   "source": [
    "train_features = vectorizer.fit_transform(train_data['Sentence'])"
   ]
  },
  {
   "cell_type": "markdown",
   "id": "1f537572",
   "metadata": {
    "papermill": {
     "duration": 0.005342,
     "end_time": "2023-03-13T06:22:34.761749",
     "exception": false,
     "start_time": "2023-03-13T06:22:34.756407",
     "status": "completed"
    },
    "tags": []
   },
   "source": [
    "**Fitting a logistic regression model to the training data**"
   ]
  },
  {
   "cell_type": "code",
   "execution_count": 7,
   "id": "ffa2fccf",
   "metadata": {
    "execution": {
     "iopub.execute_input": "2023-03-13T06:22:34.776791Z",
     "iopub.status.busy": "2023-03-13T06:22:34.776289Z",
     "iopub.status.idle": "2023-03-13T06:22:34.808360Z",
     "shell.execute_reply": "2023-03-13T06:22:34.806655Z"
    },
    "papermill": {
     "duration": 0.044265,
     "end_time": "2023-03-13T06:22:34.811618",
     "exception": false,
     "start_time": "2023-03-13T06:22:34.767353",
     "status": "completed"
    },
    "tags": []
   },
   "outputs": [
    {
     "data": {
      "text/plain": [
       "LogisticRegression()"
      ]
     },
     "execution_count": 7,
     "metadata": {},
     "output_type": "execute_result"
    }
   ],
   "source": [
    "model = LogisticRegression()\n",
    "model.fit(train_features, train_data['Label'])"
   ]
  },
  {
   "cell_type": "markdown",
   "id": "819a5f09",
   "metadata": {
    "papermill": {
     "duration": 0.005587,
     "end_time": "2023-03-13T06:22:34.823250",
     "exception": false,
     "start_time": "2023-03-13T06:22:34.817663",
     "status": "completed"
    },
    "tags": []
   },
   "source": [
    "**Creating the feature matrix for the testing data and Making predictions on the testing data**"
   ]
  },
  {
   "cell_type": "code",
   "execution_count": 8,
   "id": "98d84693",
   "metadata": {
    "execution": {
     "iopub.execute_input": "2023-03-13T06:22:34.837558Z",
     "iopub.status.busy": "2023-03-13T06:22:34.837026Z",
     "iopub.status.idle": "2023-03-13T06:22:34.930030Z",
     "shell.execute_reply": "2023-03-13T06:22:34.928803Z"
    },
    "papermill": {
     "duration": 0.104286,
     "end_time": "2023-03-13T06:22:34.933267",
     "exception": false,
     "start_time": "2023-03-13T06:22:34.828981",
     "status": "completed"
    },
    "tags": []
   },
   "outputs": [],
   "source": [
    "test_features = vectorizer.transform(test_data['Sentence'])\n",
    "preds = model.predict(test_features)"
   ]
  },
  {
   "cell_type": "markdown",
   "id": "36ea312a",
   "metadata": {
    "papermill": {
     "duration": 0.005394,
     "end_time": "2023-03-13T06:22:34.944759",
     "exception": false,
     "start_time": "2023-03-13T06:22:34.939365",
     "status": "completed"
    },
    "tags": []
   },
   "source": [
    "**Evaluating the model's accuracy**"
   ]
  },
  {
   "cell_type": "code",
   "execution_count": 9,
   "id": "9be2079f",
   "metadata": {
    "execution": {
     "iopub.execute_input": "2023-03-13T06:22:34.958786Z",
     "iopub.status.busy": "2023-03-13T06:22:34.958204Z",
     "iopub.status.idle": "2023-03-13T06:22:34.967748Z",
     "shell.execute_reply": "2023-03-13T06:22:34.966607Z"
    },
    "papermill": {
     "duration": 0.021009,
     "end_time": "2023-03-13T06:22:34.971452",
     "exception": false,
     "start_time": "2023-03-13T06:22:34.950443",
     "status": "completed"
    },
    "tags": []
   },
   "outputs": [
    {
     "name": "stdout",
     "output_type": "stream",
     "text": [
      "Accuracy: 0.8825079030558483\n"
     ]
    }
   ],
   "source": [
    "accuracy = accuracy_score(test_data['Label'], preds)\n",
    "print(f\"Accuracy: {accuracy}\")"
   ]
  },
  {
   "cell_type": "markdown",
   "id": "ef9cf6f5",
   "metadata": {
    "papermill": {
     "duration": 0.005592,
     "end_time": "2023-03-13T06:22:34.983389",
     "exception": false,
     "start_time": "2023-03-13T06:22:34.977797",
     "status": "completed"
    },
    "tags": []
   },
   "source": [
    "**Create a confusion matrix**"
   ]
  },
  {
   "cell_type": "code",
   "execution_count": 10,
   "id": "dedb21dd",
   "metadata": {
    "execution": {
     "iopub.execute_input": "2023-03-13T06:22:34.997768Z",
     "iopub.status.busy": "2023-03-13T06:22:34.997256Z",
     "iopub.status.idle": "2023-03-13T06:22:35.636482Z",
     "shell.execute_reply": "2023-03-13T06:22:35.635363Z"
    },
    "papermill": {
     "duration": 0.650076,
     "end_time": "2023-03-13T06:22:35.639406",
     "exception": false,
     "start_time": "2023-03-13T06:22:34.989330",
     "status": "completed"
    },
    "tags": []
   },
   "outputs": [
    {
     "name": "stdout",
     "output_type": "stream",
     "text": [
      "Confusion Matrix:\n",
      "[[6116   14]\n",
      " [1547 5609]]\n"
     ]
    },
    {
     "data": {
      "text/plain": [
       "<AxesSubplot:>"
      ]
     },
     "execution_count": 10,
     "metadata": {},
     "output_type": "execute_result"
    },
    {
     "data": {
      "image/png": "[encoded data removed]",
      "text/plain": [
       "<Figure size 640x480 with 2 Axes>"
      ]
     },
     "metadata": {},
     "output_type": "display_data"
    }
   ],
   "source": [
    "cm = confusion_matrix(test_data['Label'], preds)\n",
    "print(f\"Confusion Matrix:\\n{cm}\")\n",
    "import numpy as np\n",
    "import seaborn as sns\n",
    "# sns.heatmap(cm, annot=True)\n",
    "sns.heatmap(cm/np.sum(cm), annot=True, \n",
    "            fmt='.2%', cmap='Blues')"
   ]
  },
  {
   "cell_type": "code",
   "execution_count": null,
   "id": "54c528a3",
   "metadata": {
    "papermill": {
     "duration": 0.005834,
     "end_time": "2023-03-13T06:22:35.651608",
     "exception": false,
     "start_time": "2023-03-13T06:22:35.645774",
     "status": "completed"
    },
    "tags": []
   },
   "outputs": [],
   "source": []
  }
 ],
 "metadata": {
  "kernelspec": {
   "display_name": "Python 3",
   "language": "python",
   "name": "python3"
  },
  "language_info": {
   "codemirror_mode": {
    "name": "ipython",
    "version": 3
   },
   "file_extension": ".py",
   "mimetype": "text/x-python",
   "name": "python",
   "nbconvert_exporter": "python",
   "pygments_lexer": "ipython3",
   "version": "3.7.12"
  },
  "papermill": {
   "default_parameters": {},
   "duration": 15.154527,
   "end_time": "2023-03-13T06:22:36.785090",
   "environment_variables": {},
   "exception": null,
   "input_path": "__notebook__.ipynb",
   "output_path": "__notebook__.ipynb",
   "parameters": {},
   "start_time": "2023-03-13T06:22:21.630563",
   "version": "2.4.0"
  }
 },
 "nbformat": 4,
 "nbformat_minor": 5
}
