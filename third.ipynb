{
 "cells": [
  {
   "cell_type": "code",
   "execution_count": 1,
   "id": "b5825be3",
   "metadata": {
    "_cell_guid": "b1076dfc-b9ad-4769-8c92-a6c4dae69d19",
    "_uuid": "8f2839f25d086af736a60e9eeb907d3b93b6e0e5",
    "execution": {
     "iopub.execute_input": "2023-03-13T05:44:07.561024Z",
     "iopub.status.busy": "2023-03-13T05:44:07.560246Z",
     "iopub.status.idle": "2023-03-13T05:44:08.730975Z",
     "shell.execute_reply": "2023-03-13T05:44:08.729772Z"
    },
    "papermill": {
     "duration": 1.178489,
     "end_time": "2023-03-13T05:44:08.733871",
     "exception": false,
     "start_time": "2023-03-13T05:44:07.555382",
     "status": "completed"
    },
    "tags": []
   },
   "outputs": [],
   "source": [
    "import pandas as pd\n",
    "from sklearn.feature_extraction.text import CountVectorizer\n",
    "from sklearn.linear_model import LogisticRegression\n",
    "from sklearn.metrics import accuracy_score, confusion_matrix, roc_curve, roc_auc_score\n",
    "import matplotlib.pyplot as plt"
   ]
  },
  {
   "cell_type": "markdown",
   "id": "f265dd86",
   "metadata": {
    "papermill": {
     "duration": 0.001482,
     "end_time": "2023-03-13T05:44:08.737518",
     "exception": false,
     "start_time": "2023-03-13T05:44:08.736036",
     "status": "completed"
    },
    "tags": []
   },
   "source": [
    "To build machine learning models on this dataset, we can start by pre-processing the text data in the \"Sentence\" column to convert the HTML code into plain text."
   ]
  },
  {
   "cell_type": "code",
   "execution_count": null,
   "id": "9ceadbe8",
   "metadata": {
    "papermill": {
     "duration": 0.001381,
     "end_time": "2023-03-13T05:44:08.740515",
     "exception": false,
     "start_time": "2023-03-13T05:44:08.739134",
     "status": "completed"
    },
    "tags": []
   },
   "outputs": [],
   "source": []
  },
  {
   "cell_type": "code",
   "execution_count": null,
   "id": "837360f1",
   "metadata": {
    "papermill": {
     "duration": 0.001372,
     "end_time": "2023-03-13T05:44:08.743487",
     "exception": false,
     "start_time": "2023-03-13T05:44:08.742115",
     "status": "completed"
    },
    "tags": []
   },
   "outputs": [],
   "source": []
  }
 ],
 "metadata": {
  "kernelspec": {
   "display_name": "Python 3",
   "language": "python",
   "name": "python3"
  },
  "language_info": {
   "codemirror_mode": {
    "name": "ipython",
    "version": 3
   },
   "file_extension": ".py",
   "mimetype": "text/x-python",
   "name": "python",
   "nbconvert_exporter": "python",
   "pygments_lexer": "ipython3",
   "version": "3.7.12"
  },
  "papermill": {
   "default_parameters": {},
   "duration": 11.808634,
   "end_time": "2023-03-13T05:44:09.466511",
   "environment_variables": {},
   "exception": null,
   "input_path": "__notebook__.ipynb",
   "output_path": "__notebook__.ipynb",
   "parameters": {},
   "start_time": "2023-03-13T05:43:57.657877",
   "version": "2.4.0"
  }
 },
 "nbformat": 4,
 "nbformat_minor": 5
}
