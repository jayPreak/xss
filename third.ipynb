{
 "cells": [
  {
   "cell_type": "code",
   "execution_count": 1,
   "id": "62cc9552",
   "metadata": {
    "_cell_guid": "b1076dfc-b9ad-4769-8c92-a6c4dae69d19",
    "_uuid": "8f2839f25d086af736a60e9eeb907d3b93b6e0e5",
    "execution": {
     "iopub.execute_input": "2023-03-28T06:13:31.438541Z",
     "iopub.status.busy": "2023-03-28T06:13:31.438053Z",
     "iopub.status.idle": "2023-03-28T06:13:32.680613Z",
     "shell.execute_reply": "2023-03-28T06:13:32.679151Z"
    },
    "papermill": {
     "duration": 1.254444,
     "end_time": "2023-03-28T06:13:32.683956",
     "exception": false,
     "start_time": "2023-03-28T06:13:31.429512",
     "status": "completed"
    },
    "tags": []
   },
   "outputs": [],
   "source": [
    "import pandas as pd\n",
    "from sklearn.feature_extraction.text import CountVectorizer\n",
    "from sklearn.linear_model import LogisticRegression\n",
    "from sklearn.metrics import accuracy_score, confusion_matrix, roc_curve, roc_auc_score\n",
    "import matplotlib.pyplot as plt"
   ]
  },
  {
   "cell_type": "markdown",
   "id": "154a67d8",
   "metadata": {
    "papermill": {
     "duration": 0.005336,
     "end_time": "2023-03-28T06:13:32.695056",
     "exception": false,
     "start_time": "2023-03-28T06:13:32.689720",
     "status": "completed"
    },
    "tags": []
   },
   "source": [
    "To build machine learning models on this dataset, we can start by pre-processing the text data in the \"Sentence\" column to convert the HTML code into plain text. We can then use various machine learning algorithms, such as logistic regression, decision trees, or neural networks, to classify each instance as either a cross-site scripting example or not."
   ]
  },
  {
   "cell_type": "markdown",
   "id": "12dd993a",
   "metadata": {
    "papermill": {
     "duration": 0.005114,
     "end_time": "2023-03-28T06:13:32.705669",
     "exception": false,
     "start_time": "2023-03-28T06:13:32.700555",
     "status": "completed"
    },
    "tags": []
   },
   "source": [
    "For evaluating the performance of the models, we can use metrics such as accuracy, precision, recall, and F1 score. Additionally, we can create visualizations such as confusion matrices and ROC curves to better understand how the models are performing and where they may be making errors."
   ]
  },
  {
   "cell_type": "markdown",
   "id": "0b82ed11",
   "metadata": {
    "papermill": {
     "duration": 0.005152,
     "end_time": "2023-03-28T06:13:32.716329",
     "exception": false,
     "start_time": "2023-03-28T06:13:32.711177",
     "status": "completed"
    },
    "tags": []
   },
   "source": [
    "**Loading the data**"
   ]
  },
  {
   "cell_type": "code",
   "execution_count": 2,
   "id": "5bd9e766",
   "metadata": {
    "execution": {
     "iopub.execute_input": "2023-03-28T06:13:32.729811Z",
     "iopub.status.busy": "2023-03-28T06:13:32.728991Z",
     "iopub.status.idle": "2023-03-28T06:13:32.829311Z",
     "shell.execute_reply": "2023-03-28T06:13:32.827726Z"
    },
    "papermill": {
     "duration": 0.112058,
     "end_time": "2023-03-28T06:13:32.833854",
     "exception": false,
     "start_time": "2023-03-28T06:13:32.721796",
     "status": "completed"
    },
    "tags": []
   },
   "outputs": [
    {
     "name": "stdout",
     "output_type": "stream",
     "text": [
      "       Unnamed: 0                                           Sentence  Label\n",
      "0               0  <li><a href=\"/wiki/File:Socrates.png\" class=\"i...      0\n",
      "1               1               <tt onmouseover=\"alert(1)\">test</tt>      1\n",
      "2               2  \\t </span> <span class=\"reference-text\">Steeri...      0\n",
      "3               3  \\t </span> <span class=\"reference-text\"><cite ...      0\n",
      "4               4  \\t </span>. <a href=\"/wiki/Digital_object_iden...      0\n",
      "...           ...                                                ...    ...\n",
      "13681       13681             <img onpointerenter=alert(1)>XSS</img>      1\n",
      "13682       13682  <source onbeforepaste=\"alert(1)\" contenteditab...      1\n",
      "13683       13683  <div draggable=\"true\" contenteditable>drag me<...      1\n",
      "13684       13684  <li><cite id=\"CITEREFDomingos2015\" class=\"cita...      0\n",
      "13685       13685                                         \\t </span>      0\n",
      "\n",
      "[13686 rows x 3 columns]\n"
     ]
    }
   ],
   "source": [
    "data = pd.read_csv('/kaggle/input/cross-site-scripting-xss-dataset-for-deep-learning/XSS_dataset.csv')\n",
    "print(data)"
   ]
  },
  {
   "cell_type": "markdown",
   "id": "09be13cb",
   "metadata": {
    "papermill": {
     "duration": 0.005207,
     "end_time": "2023-03-28T06:13:32.844989",
     "exception": false,
     "start_time": "2023-03-28T06:13:32.839782",
     "status": "completed"
    },
    "tags": []
   },
   "source": [
    "**Converting HTML code to plain text**"
   ]
  },
  {
   "cell_type": "code",
   "execution_count": 3,
   "id": "5f1f135e",
   "metadata": {
    "execution": {
     "iopub.execute_input": "2023-03-28T06:13:32.858282Z",
     "iopub.status.busy": "2023-03-28T06:13:32.857531Z",
     "iopub.status.idle": "2023-03-28T06:13:32.925934Z",
     "shell.execute_reply": "2023-03-28T06:13:32.924362Z"
    },
    "papermill": {
     "duration": 0.078255,
     "end_time": "2023-03-28T06:13:32.928755",
     "exception": false,
     "start_time": "2023-03-28T06:13:32.850500",
     "status": "completed"
    },
    "tags": []
   },
   "outputs": [
    {
     "name": "stdout",
     "output_type": "stream",
     "text": [
      "       Unnamed: 0                                           Sentence  Label\n",
      "0               0                           Philosophy&#32;portal         0\n",
      "1               1                                               test      1\n",
      "2               2  \\t  Steering for the 1995 \"No Hands Across Ame...      0\n",
      "3               3  \\t  \"Miles Education | Future Of Finance | Blo...      0\n",
      "4               4  \\t . doi :10.1016/S0921-8890(05)80025-9 . Arch...      0\n",
      "...           ...                                                ...    ...\n",
      "13681       13681                                                XSS      1\n",
      "13682       13682                                               test      1\n",
      "13683       13683                                   drag medrop here      1\n",
      "13684       13684  Domingos, Pedro  (2015). The Master Algorithm:...      0\n",
      "13685       13685                                                \\t       0\n",
      "\n",
      "[13686 rows x 3 columns]\n"
     ]
    }
   ],
   "source": [
    "data['Sentence'] = data['Sentence'].replace('<[^<]+?>', '', regex=True)\n",
    "print(data)"
   ]
  },
  {
   "cell_type": "markdown",
   "id": "676fa9d8",
   "metadata": {
    "papermill": {
     "duration": 0.00551,
     "end_time": "2023-03-28T06:13:32.940305",
     "exception": false,
     "start_time": "2023-03-28T06:13:32.934795",
     "status": "completed"
    },
    "tags": []
   },
   "source": [
    "**Splitting the data into training and testing sets**"
   ]
  },
  {
   "cell_type": "code",
   "execution_count": 4,
   "id": "f6bc657f",
   "metadata": {
    "execution": {
     "iopub.execute_input": "2023-03-28T06:13:32.953884Z",
     "iopub.status.busy": "2023-03-28T06:13:32.953405Z",
     "iopub.status.idle": "2023-03-28T06:13:32.959692Z",
     "shell.execute_reply": "2023-03-28T06:13:32.958434Z"
    },
    "papermill": {
     "duration": 0.015938,
     "end_time": "2023-03-28T06:13:32.962121",
     "exception": false,
     "start_time": "2023-03-28T06:13:32.946183",
     "status": "completed"
    },
    "tags": []
   },
   "outputs": [],
   "source": [
    "train_data = data[:int(len(data)*0.8)]\n",
    "test_data = data[int(len(data)*0.8):]"
   ]
  },
  {
   "cell_type": "markdown",
   "id": "dca8dfa8",
   "metadata": {
    "papermill": {
     "duration": 0.005284,
     "end_time": "2023-03-28T06:13:32.973165",
     "exception": false,
     "start_time": "2023-03-28T06:13:32.967881",
     "status": "completed"
    },
    "tags": []
   },
   "source": [
    "**Initializing the count vectorizer**"
   ]
  },
  {
   "cell_type": "code",
   "execution_count": 5,
   "id": "6b390a66",
   "metadata": {
    "execution": {
     "iopub.execute_input": "2023-03-28T06:13:32.987442Z",
     "iopub.status.busy": "2023-03-28T06:13:32.986962Z",
     "iopub.status.idle": "2023-03-28T06:13:32.992668Z",
     "shell.execute_reply": "2023-03-28T06:13:32.991236Z"
    },
    "papermill": {
     "duration": 0.016325,
     "end_time": "2023-03-28T06:13:32.995168",
     "exception": false,
     "start_time": "2023-03-28T06:13:32.978843",
     "status": "completed"
    },
    "tags": []
   },
   "outputs": [],
   "source": [
    "vectorizer = CountVectorizer(stop_words='english')"
   ]
  },
  {
   "cell_type": "markdown",
   "id": "7472f9d5",
   "metadata": {
    "papermill": {
     "duration": 0.005284,
     "end_time": "2023-03-28T06:13:33.006237",
     "exception": false,
     "start_time": "2023-03-28T06:13:33.000953",
     "status": "completed"
    },
    "tags": []
   },
   "source": [
    "**Creating the feature matrix for the training data**"
   ]
  },
  {
   "cell_type": "code",
   "execution_count": 6,
   "id": "1a09b8f2",
   "metadata": {
    "execution": {
     "iopub.execute_input": "2023-03-28T06:13:33.019335Z",
     "iopub.status.busy": "2023-03-28T06:13:33.018862Z",
     "iopub.status.idle": "2023-03-28T06:13:33.112734Z",
     "shell.execute_reply": "2023-03-28T06:13:33.111171Z"
    },
    "papermill": {
     "duration": 0.104051,
     "end_time": "2023-03-28T06:13:33.115861",
     "exception": false,
     "start_time": "2023-03-28T06:13:33.011810",
     "status": "completed"
    },
    "tags": []
   },
   "outputs": [],
   "source": [
    "train_features = vectorizer.fit_transform(train_data['Sentence'])"
   ]
  },
  {
   "cell_type": "markdown",
   "id": "d39daac0",
   "metadata": {
    "papermill": {
     "duration": 0.005501,
     "end_time": "2023-03-28T06:13:33.127250",
     "exception": false,
     "start_time": "2023-03-28T06:13:33.121749",
     "status": "completed"
    },
    "tags": []
   },
   "source": [
    "**Fitting a logistic regression model to the training data**"
   ]
  },
  {
   "cell_type": "code",
   "execution_count": 7,
   "id": "e8b532c1",
   "metadata": {
    "execution": {
     "iopub.execute_input": "2023-03-28T06:13:33.140980Z",
     "iopub.status.busy": "2023-03-28T06:13:33.140510Z",
     "iopub.status.idle": "2023-03-28T06:13:33.273086Z",
     "shell.execute_reply": "2023-03-28T06:13:33.271813Z"
    },
    "papermill": {
     "duration": 0.143229,
     "end_time": "2023-03-28T06:13:33.276143",
     "exception": false,
     "start_time": "2023-03-28T06:13:33.132914",
     "status": "completed"
    },
    "tags": []
   },
   "outputs": [
    {
     "data": {
      "text/plain": [
       "LogisticRegression()"
      ]
     },
     "execution_count": 7,
     "metadata": {},
     "output_type": "execute_result"
    }
   ],
   "source": [
    "model = LogisticRegression()\n",
    "model.fit(train_features, train_data['Label'])"
   ]
  },
  {
   "cell_type": "markdown",
   "id": "d674303d",
   "metadata": {
    "papermill": {
     "duration": 0.005703,
     "end_time": "2023-03-28T06:13:33.288278",
     "exception": false,
     "start_time": "2023-03-28T06:13:33.282575",
     "status": "completed"
    },
    "tags": []
   },
   "source": [
    "**Creating the feature matrix for the testing data and Making predictions on the testing data**"
   ]
  },
  {
   "cell_type": "code",
   "execution_count": 8,
   "id": "a04b69a3",
   "metadata": {
    "execution": {
     "iopub.execute_input": "2023-03-28T06:13:33.303207Z",
     "iopub.status.busy": "2023-03-28T06:13:33.301613Z",
     "iopub.status.idle": "2023-03-28T06:13:33.330153Z",
     "shell.execute_reply": "2023-03-28T06:13:33.328644Z"
    },
    "papermill": {
     "duration": 0.039132,
     "end_time": "2023-03-28T06:13:33.333488",
     "exception": false,
     "start_time": "2023-03-28T06:13:33.294356",
     "status": "completed"
    },
    "tags": []
   },
   "outputs": [],
   "source": [
    "test_features = vectorizer.transform(test_data['Sentence'])\n",
    "preds = model.predict(test_features)"
   ]
  },
  {
   "cell_type": "markdown",
   "id": "dde138b3",
   "metadata": {
    "papermill": {
     "duration": 0.00598,
     "end_time": "2023-03-28T06:13:33.346771",
     "exception": false,
     "start_time": "2023-03-28T06:13:33.340791",
     "status": "completed"
    },
    "tags": []
   },
   "source": [
    "**Evaluating the model's accuracy**"
   ]
  },
  {
   "cell_type": "code",
   "execution_count": 9,
   "id": "cbae4acc",
   "metadata": {
    "execution": {
     "iopub.execute_input": "2023-03-28T06:13:33.361298Z",
     "iopub.status.busy": "2023-03-28T06:13:33.360830Z",
     "iopub.status.idle": "2023-03-28T06:13:33.369900Z",
     "shell.execute_reply": "2023-03-28T06:13:33.368410Z"
    },
    "papermill": {
     "duration": 0.019462,
     "end_time": "2023-03-28T06:13:33.372707",
     "exception": false,
     "start_time": "2023-03-28T06:13:33.353245",
     "status": "completed"
    },
    "tags": []
   },
   "outputs": [
    {
     "name": "stdout",
     "output_type": "stream",
     "text": [
      "Accuracy: 0.8900657414170927\n"
     ]
    }
   ],
   "source": [
    "accuracy = accuracy_score(test_data['Label'], preds)\n",
    "print(f\"Accuracy: {accuracy}\")"
   ]
  },
  {
   "cell_type": "markdown",
   "id": "c895dd1d",
   "metadata": {
    "papermill": {
     "duration": 0.005674,
     "end_time": "2023-03-28T06:13:33.384584",
     "exception": false,
     "start_time": "2023-03-28T06:13:33.378910",
     "status": "completed"
    },
    "tags": []
   },
   "source": [
    "**Creating a confusion matrix**"
   ]
  },
  {
   "cell_type": "code",
   "execution_count": 10,
   "id": "548db313",
   "metadata": {
    "execution": {
     "iopub.execute_input": "2023-03-28T06:13:33.399231Z",
     "iopub.status.busy": "2023-03-28T06:13:33.398805Z",
     "iopub.status.idle": "2023-03-28T06:13:34.032744Z",
     "shell.execute_reply": "2023-03-28T06:13:34.031793Z"
    },
    "papermill": {
     "duration": 0.644959,
     "end_time": "2023-03-28T06:13:34.035474",
     "exception": false,
     "start_time": "2023-03-28T06:13:33.390515",
     "status": "completed"
    },
    "tags": []
   },
   "outputs": [
    {
     "name": "stdout",
     "output_type": "stream",
     "text": [
      "Confusion Matrix:\n",
      "[[1268    3]\n",
      " [ 298 1169]]\n"
     ]
    },
    {
     "data": {
      "text/plain": [
       "<AxesSubplot:>"
      ]
     },
     "execution_count": 10,
     "metadata": {},
     "output_type": "execute_result"
    },
    {
     "data": {
      "image/png": "[encoded data removed]",
      "text/plain": [
       "<Figure size 640x480 with 2 Axes>"
      ]
     },
     "metadata": {},
     "output_type": "display_data"
    }
   ],
   "source": [
    "cm = confusion_matrix(test_data['Label'], preds)\n",
    "print(f\"Confusion Matrix:\\n{cm}\")\n",
    "import numpy as np\n",
    "import seaborn as sns\n",
    "# sns.heatmap(cm, annot=True)\n",
    "sns.heatmap(cm/np.sum(cm), annot=True, \n",
    "            fmt='.2%', cmap='Blues')"
   ]
  },
  {
   "cell_type": "markdown",
   "id": "e4b19693",
   "metadata": {
    "papermill": {
     "duration": 0.006485,
     "end_time": "2023-03-28T06:13:34.048674",
     "exception": false,
     "start_time": "2023-03-28T06:13:34.042189",
     "status": "completed"
    },
    "tags": []
   },
   "source": [
    "**Creating and Plotting an ROC curve**"
   ]
  },
  {
   "cell_type": "code",
   "execution_count": 11,
   "id": "68298b75",
   "metadata": {
    "execution": {
     "iopub.execute_input": "2023-03-28T06:13:34.064498Z",
     "iopub.status.busy": "2023-03-28T06:13:34.063099Z",
     "iopub.status.idle": "2023-03-28T06:13:34.305747Z",
     "shell.execute_reply": "2023-03-28T06:13:34.304383Z"
    },
    "papermill": {
     "duration": 0.253363,
     "end_time": "2023-03-28T06:13:34.308521",
     "exception": false,
     "start_time": "2023-03-28T06:13:34.055158",
     "status": "completed"
    },
    "tags": []
   },
   "outputs": [
    {
     "data": {
      "image/png": "[encoded data removed]",
      "text/plain": [
       "<Figure size 640x480 with 1 Axes>"
      ]
     },
     "metadata": {},
     "output_type": "display_data"
    }
   ],
   "source": [
    "fpr, tpr, thresholds = roc_curve(test_data['Label'], preds)\n",
    "auc = roc_auc_score(test_data['Label'], preds)\n",
    "\n",
    "plt.plot(fpr, tpr, label=f\"AUC={auc:.2f}\")\n",
    "plt.plot([0, 1], [0, 1], linestyle='--')\n",
    "plt.xlabel('False Positive Rate')\n",
    "plt.ylabel('True Positive Rate')\n",
    "plt.title('ROC Curve')\n",
    "plt.legend()\n",
    "plt.show()"
   ]
  },
  {
   "cell_type": "code",
   "execution_count": null,
   "id": "48d8a0d1",
   "metadata": {
    "papermill": {
     "duration": 0.006605,
     "end_time": "2023-03-28T06:13:34.322587",
     "exception": false,
     "start_time": "2023-03-28T06:13:34.315982",
     "status": "completed"
    },
    "tags": []
   },
   "outputs": [],
   "source": []
  }
 ],
 "metadata": {
  "kernelspec": {
   "display_name": "Python 3",
   "language": "python",
   "name": "python3"
  },
  "language_info": {
   "codemirror_mode": {
    "name": "ipython",
    "version": 3
   },
   "file_extension": ".py",
   "mimetype": "text/x-python",
   "name": "python",
   "nbconvert_exporter": "python",
   "pygments_lexer": "ipython3",
   "version": "3.7.12"
  },
  "papermill": {
   "default_parameters": {},
   "duration": 15.852351,
   "end_time": "2023-03-28T06:13:35.154811",
   "environment_variables": {},
   "exception": null,
   "input_path": "__notebook__.ipynb",
   "output_path": "__notebook__.ipynb",
   "parameters": {},
   "start_time": "2023-03-28T06:13:19.302460",
   "version": "2.4.0"
  }
 },
 "nbformat": 4,
 "nbformat_minor": 5
}
