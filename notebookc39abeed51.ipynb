{
 "cells": [
  {
   "cell_type": "code",
   "execution_count": 1,
   "id": "db151eec",
   "metadata": {
    "_cell_guid": "b1076dfc-b9ad-4769-8c92-a6c4dae69d19",
    "_uuid": "8f2839f25d086af736a60e9eeb907d3b93b6e0e5",
    "execution": {
     "iopub.execute_input": "2023-03-06T05:22:39.037783Z",
     "iopub.status.busy": "2023-03-06T05:22:39.037282Z",
     "iopub.status.idle": "2023-03-06T05:22:40.486583Z",
     "shell.execute_reply": "2023-03-06T05:22:40.485057Z"
    },
    "papermill": {
     "duration": 1.456541,
     "end_time": "2023-03-06T05:22:40.489281",
     "exception": false,
     "start_time": "2023-03-06T05:22:39.032740",
     "status": "completed"
    },
    "tags": []
   },
   "outputs": [],
   "source": [
    "import pandas as pd\n",
    "import numpy as np\n",
    "from sklearn.preprocessing import LabelEncoder\n",
    "from sklearn.model_selection import cross_val_score, RepeatedStratifiedKFold\n",
    "from sklearn.linear_model import LogisticRegression\n",
    "from sklearn.neighbors import KNeighborsClassifier\n",
    "from sklearn.tree import DecisionTreeClassifier\n",
    "from sklearn.svm import SVC\n",
    "from sklearn.naive_bayes import GaussianNB\n",
    "from sklearn.pipeline import make_pipeline\n",
    "from sklearn.feature_extraction.text import CountVectorizer, TfidfVectorizer\n",
    "from matplotlib import pyplot as plt\n",
    "%matplotlib inline"
   ]
  },
  {
   "cell_type": "code",
   "execution_count": 2,
   "id": "da7aada4",
   "metadata": {
    "execution": {
     "iopub.execute_input": "2023-03-06T05:22:40.495034Z",
     "iopub.status.busy": "2023-03-06T05:22:40.494412Z",
     "iopub.status.idle": "2023-03-06T05:22:40.566257Z",
     "shell.execute_reply": "2023-03-06T05:22:40.564990Z"
    },
    "papermill": {
     "duration": 0.077534,
     "end_time": "2023-03-06T05:22:40.568883",
     "exception": false,
     "start_time": "2023-03-06T05:22:40.491349",
     "status": "completed"
    },
    "tags": []
   },
   "outputs": [],
   "source": [
    "df = pd.read_csv(\"/kaggle/input/cross-site-scripting-xss-dataset-for-deep-learning/XSS_dataset.csv\")"
   ]
  },
  {
   "cell_type": "code",
   "execution_count": null,
   "id": "77c0eff0",
   "metadata": {
    "papermill": {
     "duration": 0.001325,
     "end_time": "2023-03-06T05:22:40.572022",
     "exception": false,
     "start_time": "2023-03-06T05:22:40.570697",
     "status": "completed"
    },
    "tags": []
   },
   "outputs": [],
   "source": []
  }
 ],
 "metadata": {
  "kernelspec": {
   "display_name": "Python 3",
   "language": "python",
   "name": "python3"
  },
  "language_info": {
   "codemirror_mode": {
    "name": "ipython",
    "version": 3
   },
   "file_extension": ".py",
   "mimetype": "text/x-python",
   "name": "python",
   "nbconvert_exporter": "python",
   "pygments_lexer": "ipython3",
   "version": "3.7.12"
  },
  "papermill": {
   "default_parameters": {},
   "duration": 11.920689,
   "end_time": "2023-03-06T05:22:41.399094",
   "environment_variables": {},
   "exception": null,
   "input_path": "__notebook__.ipynb",
   "output_path": "__notebook__.ipynb",
   "parameters": {},
   "start_time": "2023-03-06T05:22:29.478405",
   "version": "2.4.0"
  }
 },
 "nbformat": 4,
 "nbformat_minor": 5
}
