{
 "cells": [
  {
   "cell_type": "code",
   "execution_count": 1,
   "id": "b28d6dcc",
   "metadata": {
    "_cell_guid": "b1076dfc-b9ad-4769-8c92-a6c4dae69d19",
    "_uuid": "8f2839f25d086af736a60e9eeb907d3b93b6e0e5",
    "execution": {
     "iopub.execute_input": "2023-03-06T05:25:10.853434Z",
     "iopub.status.busy": "2023-03-06T05:25:10.852415Z",
     "iopub.status.idle": "2023-03-06T05:25:12.253627Z",
     "shell.execute_reply": "2023-03-06T05:25:12.252620Z"
    },
    "papermill": {
     "duration": 1.410718,
     "end_time": "2023-03-06T05:25:12.257018",
     "exception": false,
     "start_time": "2023-03-06T05:25:10.846300",
     "status": "completed"
    },
    "tags": []
   },
   "outputs": [],
   "source": [
    "import pandas as pd\n",
    "import numpy as np\n",
    "from sklearn.preprocessing import LabelEncoder\n",
    "from sklearn.model_selection import cross_val_score, RepeatedStratifiedKFold\n",
    "from sklearn.linear_model import LogisticRegression\n",
    "from sklearn.neighbors import KNeighborsClassifier\n",
    "from sklearn.tree import DecisionTreeClassifier\n",
    "from sklearn.svm import SVC\n",
    "from sklearn.naive_bayes import GaussianNB\n",
    "from sklearn.pipeline import make_pipeline\n",
    "from sklearn.feature_extraction.text import CountVectorizer, TfidfVectorizer\n",
    "from matplotlib import pyplot as plt\n",
    "%matplotlib inline"
   ]
  },
  {
   "cell_type": "markdown",
   "id": "00671b7e",
   "metadata": {
    "papermill": {
     "duration": 0.002818,
     "end_time": "2023-03-06T05:25:12.263208",
     "exception": false,
     "start_time": "2023-03-06T05:25:12.260390",
     "status": "completed"
    },
    "tags": []
   },
   "source": []
  },
  {
   "cell_type": "code",
   "execution_count": 2,
   "id": "32f29852",
   "metadata": {
    "execution": {
     "iopub.execute_input": "2023-03-06T05:25:12.271047Z",
     "iopub.status.busy": "2023-03-06T05:25:12.270633Z",
     "iopub.status.idle": "2023-03-06T05:25:12.432577Z",
     "shell.execute_reply": "2023-03-06T05:25:12.431264Z"
    },
    "papermill": {
     "duration": 0.169178,
     "end_time": "2023-03-06T05:25:12.435412",
     "exception": false,
     "start_time": "2023-03-06T05:25:12.266234",
     "status": "completed"
    },
    "tags": []
   },
   "outputs": [],
   "source": [
    "df = pd.read_csv(\"/kaggle/input/cross-site-scripting-xss-dataset-for-deep-learning/XSS_dataset.csv\")"
   ]
  },
  {
   "cell_type": "markdown",
   "id": "4e0234ce",
   "metadata": {
    "papermill": {
     "duration": 0.002939,
     "end_time": "2023-03-06T05:25:12.441647",
     "exception": false,
     "start_time": "2023-03-06T05:25:12.438708",
     "status": "completed"
    },
    "tags": []
   },
   "source": []
  },
  {
   "cell_type": "code",
   "execution_count": 3,
   "id": "c39e34cb",
   "metadata": {
    "execution": {
     "iopub.execute_input": "2023-03-06T05:25:12.449625Z",
     "iopub.status.busy": "2023-03-06T05:25:12.449187Z",
     "iopub.status.idle": "2023-03-06T05:25:12.467281Z",
     "shell.execute_reply": "2023-03-06T05:25:12.466394Z"
    },
    "papermill": {
     "duration": 0.025065,
     "end_time": "2023-03-06T05:25:12.469700",
     "exception": false,
     "start_time": "2023-03-06T05:25:12.444635",
     "status": "completed"
    },
    "tags": []
   },
   "outputs": [],
   "source": [
    "df = df.dropna()"
   ]
  },
  {
   "cell_type": "code",
   "execution_count": 4,
   "id": "8a35a496",
   "metadata": {
    "execution": {
     "iopub.execute_input": "2023-03-06T05:25:12.477788Z",
     "iopub.status.busy": "2023-03-06T05:25:12.477336Z",
     "iopub.status.idle": "2023-03-06T05:25:12.487709Z",
     "shell.execute_reply": "2023-03-06T05:25:12.486492Z"
    },
    "papermill": {
     "duration": 0.017181,
     "end_time": "2023-03-06T05:25:12.490082",
     "exception": false,
     "start_time": "2023-03-06T05:25:12.472901",
     "status": "completed"
    },
    "tags": []
   },
   "outputs": [],
   "source": [
    "X = df['Sentence']\n",
    "y = df['Label']"
   ]
  },
  {
   "cell_type": "code",
   "execution_count": 5,
   "id": "807a1290",
   "metadata": {
    "execution": {
     "iopub.execute_input": "2023-03-06T05:25:12.498148Z",
     "iopub.status.busy": "2023-03-06T05:25:12.497766Z",
     "iopub.status.idle": "2023-03-06T05:25:12.732978Z",
     "shell.execute_reply": "2023-03-06T05:25:12.731492Z"
    },
    "papermill": {
     "duration": 0.242733,
     "end_time": "2023-03-06T05:25:12.735987",
     "exception": false,
     "start_time": "2023-03-06T05:25:12.493254",
     "status": "completed"
    },
    "tags": []
   },
   "outputs": [],
   "source": [
    "vectorizer = CountVectorizer() # you can also try TfidfVectorizer()\n",
    "X = vectorizer.fit_transform(X)"
   ]
  },
  {
   "cell_type": "code",
   "execution_count": 6,
   "id": "e0d697f4",
   "metadata": {
    "execution": {
     "iopub.execute_input": "2023-03-06T05:25:12.744222Z",
     "iopub.status.busy": "2023-03-06T05:25:12.743788Z",
     "iopub.status.idle": "2023-03-06T05:25:12.749945Z",
     "shell.execute_reply": "2023-03-06T05:25:12.748689Z"
    },
    "papermill": {
     "duration": 0.013149,
     "end_time": "2023-03-06T05:25:12.752462",
     "exception": false,
     "start_time": "2023-03-06T05:25:12.739313",
     "status": "completed"
    },
    "tags": []
   },
   "outputs": [],
   "source": [
    "lbl = LabelEncoder()\n",
    "y = lbl.fit_transform(y)"
   ]
  },
  {
   "cell_type": "code",
   "execution_count": 7,
   "id": "8dddd076",
   "metadata": {
    "execution": {
     "iopub.execute_input": "2023-03-06T05:25:12.760764Z",
     "iopub.status.busy": "2023-03-06T05:25:12.760301Z",
     "iopub.status.idle": "2023-03-06T05:25:12.766867Z",
     "shell.execute_reply": "2023-03-06T05:25:12.765602Z"
    },
    "papermill": {
     "duration": 0.013466,
     "end_time": "2023-03-06T05:25:12.769291",
     "exception": false,
     "start_time": "2023-03-06T05:25:12.755825",
     "status": "completed"
    },
    "tags": []
   },
   "outputs": [],
   "source": [
    "def get_models():\n",
    "    models = dict()\n",
    "    models['lr'] = make_pipeline(LogisticRegression())\n",
    "    models['knn'] = make_pipeline(KNeighborsClassifier())\n",
    "    models['cart'] = DecisionTreeClassifier()\n",
    "    models['svm'] = make_pipeline(SVC())\n",
    "    models['bayes'] = make_pipeline(GaussianNB())\n",
    "    return models"
   ]
  },
  {
   "cell_type": "code",
   "execution_count": null,
   "id": "c6e1952c",
   "metadata": {
    "papermill": {
     "duration": 0.002847,
     "end_time": "2023-03-06T05:25:12.775546",
     "exception": false,
     "start_time": "2023-03-06T05:25:12.772699",
     "status": "completed"
    },
    "tags": []
   },
   "outputs": [],
   "source": []
  }
 ],
 "metadata": {
  "kernelspec": {
   "display_name": "Python 3",
   "language": "python",
   "name": "python3"
  },
  "language_info": {
   "codemirror_mode": {
    "name": "ipython",
    "version": 3
   },
   "file_extension": ".py",
   "mimetype": "text/x-python",
   "name": "python",
   "nbconvert_exporter": "python",
   "pygments_lexer": "ipython3",
   "version": "3.7.12"
  },
  "papermill": {
   "default_parameters": {},
   "duration": 13.192577,
   "end_time": "2023-03-06T05:25:13.500798",
   "environment_variables": {},
   "exception": null,
   "input_path": "__notebook__.ipynb",
   "output_path": "__notebook__.ipynb",
   "parameters": {},
   "start_time": "2023-03-06T05:25:00.308221",
   "version": "2.4.0"
  }
 },
 "nbformat": 4,
 "nbformat_minor": 5
}
