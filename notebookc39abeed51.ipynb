{
 "cells": [
  {
   "cell_type": "code",
   "execution_count": 1,
   "id": "6d09a9fa",
   "metadata": {
    "_cell_guid": "b1076dfc-b9ad-4769-8c92-a6c4dae69d19",
    "_uuid": "8f2839f25d086af736a60e9eeb907d3b93b6e0e5",
    "execution": {
     "iopub.execute_input": "2023-03-06T05:23:41.099430Z",
     "iopub.status.busy": "2023-03-06T05:23:41.097946Z",
     "iopub.status.idle": "2023-03-06T05:23:42.489440Z",
     "shell.execute_reply": "2023-03-06T05:23:42.488531Z"
    },
    "papermill": {
     "duration": 1.399765,
     "end_time": "2023-03-06T05:23:42.492160",
     "exception": false,
     "start_time": "2023-03-06T05:23:41.092395",
     "status": "completed"
    },
    "tags": []
   },
   "outputs": [],
   "source": [
    "import pandas as pd\n",
    "import numpy as np\n",
    "from sklearn.preprocessing import LabelEncoder\n",
    "from sklearn.model_selection import cross_val_score, RepeatedStratifiedKFold\n",
    "from sklearn.linear_model import LogisticRegression\n",
    "from sklearn.neighbors import KNeighborsClassifier\n",
    "from sklearn.tree import DecisionTreeClassifier\n",
    "from sklearn.svm import SVC\n",
    "from sklearn.naive_bayes import GaussianNB\n",
    "from sklearn.pipeline import make_pipeline\n",
    "from sklearn.feature_extraction.text import CountVectorizer, TfidfVectorizer\n",
    "from matplotlib import pyplot as plt\n",
    "%matplotlib inline"
   ]
  },
  {
   "cell_type": "markdown",
   "id": "934e0360",
   "metadata": {
    "papermill": {
     "duration": 0.002179,
     "end_time": "2023-03-06T05:23:42.497139",
     "exception": false,
     "start_time": "2023-03-06T05:23:42.494960",
     "status": "completed"
    },
    "tags": []
   },
   "source": []
  },
  {
   "cell_type": "code",
   "execution_count": 2,
   "id": "58b78d40",
   "metadata": {
    "execution": {
     "iopub.execute_input": "2023-03-06T05:23:42.504646Z",
     "iopub.status.busy": "2023-03-06T05:23:42.503564Z",
     "iopub.status.idle": "2023-03-06T05:23:42.602363Z",
     "shell.execute_reply": "2023-03-06T05:23:42.601052Z"
    },
    "papermill": {
     "duration": 0.105956,
     "end_time": "2023-03-06T05:23:42.605463",
     "exception": false,
     "start_time": "2023-03-06T05:23:42.499507",
     "status": "completed"
    },
    "tags": []
   },
   "outputs": [],
   "source": [
    "df = pd.read_csv(\"/kaggle/input/cross-site-scripting-xss-dataset-for-deep-learning/XSS_dataset.csv\")"
   ]
  },
  {
   "cell_type": "markdown",
   "id": "827d6ff3",
   "metadata": {
    "papermill": {
     "duration": 0.00228,
     "end_time": "2023-03-06T05:23:42.610503",
     "exception": false,
     "start_time": "2023-03-06T05:23:42.608223",
     "status": "completed"
    },
    "tags": []
   },
   "source": []
  },
  {
   "cell_type": "code",
   "execution_count": 3,
   "id": "804b03aa",
   "metadata": {
    "execution": {
     "iopub.execute_input": "2023-03-06T05:23:42.617617Z",
     "iopub.status.busy": "2023-03-06T05:23:42.617188Z",
     "iopub.status.idle": "2023-03-06T05:23:42.634572Z",
     "shell.execute_reply": "2023-03-06T05:23:42.633276Z"
    },
    "papermill": {
     "duration": 0.024626,
     "end_time": "2023-03-06T05:23:42.637599",
     "exception": false,
     "start_time": "2023-03-06T05:23:42.612973",
     "status": "completed"
    },
    "tags": []
   },
   "outputs": [],
   "source": [
    "df = df.dropna()"
   ]
  },
  {
   "cell_type": "code",
   "execution_count": 4,
   "id": "5abc1f63",
   "metadata": {
    "execution": {
     "iopub.execute_input": "2023-03-06T05:23:42.645255Z",
     "iopub.status.busy": "2023-03-06T05:23:42.644201Z",
     "iopub.status.idle": "2023-03-06T05:23:42.655315Z",
     "shell.execute_reply": "2023-03-06T05:23:42.653902Z"
    },
    "papermill": {
     "duration": 0.017627,
     "end_time": "2023-03-06T05:23:42.657913",
     "exception": false,
     "start_time": "2023-03-06T05:23:42.640286",
     "status": "completed"
    },
    "tags": []
   },
   "outputs": [],
   "source": [
    "X = df['Sentence']\n",
    "y = df['Label']"
   ]
  },
  {
   "cell_type": "code",
   "execution_count": null,
   "id": "697d1439",
   "metadata": {
    "papermill": {
     "duration": 0.002324,
     "end_time": "2023-03-06T05:23:42.662855",
     "exception": false,
     "start_time": "2023-03-06T05:23:42.660531",
     "status": "completed"
    },
    "tags": []
   },
   "outputs": [],
   "source": []
  }
 ],
 "metadata": {
  "kernelspec": {
   "display_name": "Python 3",
   "language": "python",
   "name": "python3"
  },
  "language_info": {
   "codemirror_mode": {
    "name": "ipython",
    "version": 3
   },
   "file_extension": ".py",
   "mimetype": "text/x-python",
   "name": "python",
   "nbconvert_exporter": "python",
   "pygments_lexer": "ipython3",
   "version": "3.7.12"
  },
  "papermill": {
   "default_parameters": {},
   "duration": 12.489095,
   "end_time": "2023-03-06T05:23:43.489393",
   "environment_variables": {},
   "exception": null,
   "input_path": "__notebook__.ipynb",
   "output_path": "__notebook__.ipynb",
   "parameters": {},
   "start_time": "2023-03-06T05:23:31.000298",
   "version": "2.4.0"
  }
 },
 "nbformat": 4,
 "nbformat_minor": 5
}
