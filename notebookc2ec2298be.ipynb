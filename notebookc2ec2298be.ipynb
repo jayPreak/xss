{
 "cells": [
  {
   "cell_type": "code",
   "execution_count": 1,
   "id": "c3b31223",
   "metadata": {
    "_cell_guid": "b1076dfc-b9ad-4769-8c92-a6c4dae69d19",
    "_uuid": "8f2839f25d086af736a60e9eeb907d3b93b6e0e5",
    "execution": {
     "iopub.execute_input": "2023-03-02T09:14:28.403203Z",
     "iopub.status.busy": "2023-03-02T09:14:28.402645Z",
     "iopub.status.idle": "2023-03-02T09:14:28.417842Z",
     "shell.execute_reply": "2023-03-02T09:14:28.416805Z"
    },
    "papermill": {
     "duration": 0.023925,
     "end_time": "2023-03-02T09:14:28.421230",
     "exception": false,
     "start_time": "2023-03-02T09:14:28.397305",
     "status": "completed"
    },
    "tags": []
   },
   "outputs": [
    {
     "name": "stdout",
     "output_type": "stream",
     "text": [
      "yahallo\n"
     ]
    }
   ],
   "source": [
    "print(\"yahallo\")"
   ]
  },
  {
   "cell_type": "code",
   "execution_count": null,
   "id": "04866dac",
   "metadata": {
    "execution": {
     "iopub.execute_input": "2023-03-02T09:10:35.180695Z",
     "iopub.status.busy": "2023-03-02T09:10:35.180277Z",
     "iopub.status.idle": "2023-03-02T09:10:35.189022Z",
     "shell.execute_reply": "2023-03-02T09:10:35.187297Z",
     "shell.execute_reply.started": "2023-03-02T09:10:35.180658Z"
    },
    "papermill": {
     "duration": 0.001756,
     "end_time": "2023-03-02T09:14:28.425928",
     "exception": false,
     "start_time": "2023-03-02T09:14:28.424172",
     "status": "completed"
    },
    "tags": []
   },
   "outputs": [],
   "source": [
    "\n"
   ]
  },
  {
   "cell_type": "code",
   "execution_count": null,
   "id": "cce2986a",
   "metadata": {
    "papermill": {
     "duration": 0.001706,
     "end_time": "2023-03-02T09:14:28.429645",
     "exception": false,
     "start_time": "2023-03-02T09:14:28.427939",
     "status": "completed"
    },
    "tags": []
   },
   "outputs": [],
   "source": []
  }
 ],
 "metadata": {
  "kernelspec": {
   "display_name": "Python 3",
   "language": "python",
   "name": "python3"
  },
  "language_info": {
   "codemirror_mode": {
    "name": "ipython",
    "version": 3
   },
   "file_extension": ".py",
   "mimetype": "text/x-python",
   "name": "python",
   "nbconvert_exporter": "python",
   "pygments_lexer": "ipython3",
   "version": "3.7.12"
  },
  "papermill": {
   "default_parameters": {},
   "duration": 13.751972,
   "end_time": "2023-03-02T09:14:31.130639",
   "environment_variables": {},
   "exception": null,
   "input_path": "__notebook__.ipynb",
   "output_path": "__notebook__.ipynb",
   "parameters": {},
   "start_time": "2023-03-02T09:14:17.378667",
   "version": "2.4.0"
  }
 },
 "nbformat": 4,
 "nbformat_minor": 5
}
