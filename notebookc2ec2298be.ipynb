{
 "cells": [
  {
   "cell_type": "code",
   "execution_count": 1,
   "id": "8068b718",
   "metadata": {
    "_cell_guid": "e0f5de8f-8dac-41d4-8918-d67de3001494",
    "_uuid": "316a2fdf-9636-43ec-9175-fa2a757b9a2f",
    "collapsed": false,
    "execution": {
     "iopub.execute_input": "2023-03-02T11:27:26.398046Z",
     "iopub.status.busy": "2023-03-02T11:27:26.396925Z",
     "iopub.status.idle": "2023-03-02T11:27:26.409061Z",
     "shell.execute_reply": "2023-03-02T11:27:26.407346Z"
    },
    "jupyter": {
     "outputs_hidden": false
    },
    "papermill": {
     "duration": 0.020234,
     "end_time": "2023-03-02T11:27:26.411515",
     "exception": false,
     "start_time": "2023-03-02T11:27:26.391281",
     "status": "completed"
    },
    "tags": []
   },
   "outputs": [
    {
     "name": "stdout",
     "output_type": "stream",
     "text": [
      "yahallo\n"
     ]
    }
   ],
   "source": [
    "print(\"yahallo\")"
   ]
  },
  {
   "cell_type": "code",
   "execution_count": 2,
   "id": "729a400f",
   "metadata": {
    "_cell_guid": "8c82b4d1-1b6d-4637-adc2-353c31c307f9",
    "_uuid": "1adff7c3-6e7a-42c1-9e5a-1420c307e819",
    "collapsed": false,
    "execution": {
     "iopub.execute_input": "2023-03-02T11:27:26.419230Z",
     "iopub.status.busy": "2023-03-02T11:27:26.418553Z",
     "iopub.status.idle": "2023-03-02T11:27:38.484553Z",
     "shell.execute_reply": "2023-03-02T11:27:38.483191Z"
    },
    "jupyter": {
     "outputs_hidden": false
    },
    "papermill": {
     "duration": 12.073031,
     "end_time": "2023-03-02T11:27:38.487603",
     "exception": false,
     "start_time": "2023-03-02T11:27:26.414572",
     "status": "completed"
    },
    "tags": []
   },
   "outputs": [
    {
     "name": "stdout",
     "output_type": "stream",
     "text": [
      "Requirement already satisfied: openpyxl in /opt/conda/lib/python3.7/site-packages (3.1.1)\r\n",
      "Requirement already satisfied: et-xmlfile in /opt/conda/lib/python3.7/site-packages (from openpyxl) (1.1.0)\r\n",
      "\u001b[33mWARNING: Running pip as the 'root' user can result in broken permissions and conflicting behaviour with the system package manager. It is recommended to use a virtual environment instead: https://pip.pypa.io/warnings/venv\u001b[0m\u001b[33m\r\n",
      "\u001b[0m"
     ]
    }
   ],
   "source": [
    "!pip install openpyxl"
   ]
  },
  {
   "cell_type": "code",
   "execution_count": 3,
   "id": "1343e3de",
   "metadata": {
    "_cell_guid": "6389db80-7a6d-4017-ae66-b55cb9428697",
    "_uuid": "87d15818-dc4d-43fa-9eac-a592adfe9959",
    "collapsed": false,
    "execution": {
     "iopub.execute_input": "2023-03-02T11:27:38.495730Z",
     "iopub.status.busy": "2023-03-02T11:27:38.495224Z",
     "iopub.status.idle": "2023-03-02T11:27:38.501181Z",
     "shell.execute_reply": "2023-03-02T11:27:38.499937Z"
    },
    "jupyter": {
     "outputs_hidden": false
    },
    "papermill": {
     "duration": 0.012949,
     "end_time": "2023-03-02T11:27:38.503668",
     "exception": false,
     "start_time": "2023-03-02T11:27:38.490719",
     "status": "completed"
    },
    "tags": []
   },
   "outputs": [],
   "source": [
    "import pandas as pd\n",
    "import numpy as np"
   ]
  },
  {
   "cell_type": "code",
   "execution_count": 4,
   "id": "a1ca0073",
   "metadata": {
    "execution": {
     "iopub.execute_input": "2023-03-02T11:27:38.511527Z",
     "iopub.status.busy": "2023-03-02T11:27:38.511159Z",
     "iopub.status.idle": "2023-03-02T11:27:39.145328Z",
     "shell.execute_reply": "2023-03-02T11:27:39.144137Z"
    },
    "papermill": {
     "duration": 0.641517,
     "end_time": "2023-03-02T11:27:39.148199",
     "exception": false,
     "start_time": "2023-03-02T11:27:38.506682",
     "status": "completed"
    },
    "tags": []
   },
   "outputs": [
    {
     "data": {
      "text/html": [
       "<div>\n",
       "<style scoped>\n",
       "    .dataframe tbody tr th:only-of-type {\n",
       "        vertical-align: middle;\n",
       "    }\n",
       "\n",
       "    .dataframe tbody tr th {\n",
       "        vertical-align: top;\n",
       "    }\n",
       "\n",
       "    .dataframe thead th {\n",
       "        text-align: right;\n",
       "    }\n",
       "</style>\n",
       "<table border=\"1\" class=\"dataframe\">\n",
       "  <thead>\n",
       "    <tr style=\"text-align: right;\">\n",
       "      <th></th>\n",
       "      <th>App Names</th>\n",
       "      <th>Permissions</th>\n",
       "      <th>API Name</th>\n",
       "      <th>Website Name</th>\n",
       "      <th>IP</th>\n",
       "      <th>Location</th>\n",
       "      <th>Label</th>\n",
       "    </tr>\n",
       "  </thead>\n",
       "  <tbody>\n",
       "    <tr>\n",
       "      <th>0</th>\n",
       "      <td>XSSDetector</td>\n",
       "      <td>INTERNET,READ_CONTACTS,ACCESS_FINE_LOCATION,AC...</td>\n",
       "      <td>getDeviceId</td>\n",
       "      <td>http://www.5riversmarketing.com/</td>\n",
       "      <td>104.243.40.3</td>\n",
       "      <td>USA - Florida</td>\n",
       "      <td>Yes</td>\n",
       "    </tr>\n",
       "    <tr>\n",
       "      <th>1</th>\n",
       "      <td>Attackers 2</td>\n",
       "      <td>INTERNET,READ_CONTACTS,ACCESS_FINE_LOCATION,AC...</td>\n",
       "      <td>getSimSerialNumber</td>\n",
       "      <td>http://www.5riversmarketing.com/</td>\n",
       "      <td>104.243.40.3</td>\n",
       "      <td>USA - Florida</td>\n",
       "      <td>Yes</td>\n",
       "    </tr>\n",
       "    <tr>\n",
       "      <th>2</th>\n",
       "      <td>Attackers 3</td>\n",
       "      <td>INTERNET,ACCESS_FINE_LOCATION,ACCESS_COARSE_LO...</td>\n",
       "      <td>Not Sensitive</td>\n",
       "      <td>http://www.5riversmarketing.com/</td>\n",
       "      <td>104.243.40.3</td>\n",
       "      <td>USA - Florida</td>\n",
       "      <td>No</td>\n",
       "    </tr>\n",
       "    <tr>\n",
       "      <th>3</th>\n",
       "      <td>Attackers 4</td>\n",
       "      <td>INTERNET,READ_PHONE_STATE,SEND_SMS</td>\n",
       "      <td>Not Sensitive</td>\n",
       "      <td>http://demo2.5riversmarketing.com/</td>\n",
       "      <td>104.243.40.3</td>\n",
       "      <td>USA - Florida</td>\n",
       "      <td>No</td>\n",
       "    </tr>\n",
       "    <tr>\n",
       "      <th>4</th>\n",
       "      <td>Attackers 5</td>\n",
       "      <td>INTERNET,READ_CONTACTS,READ_PHONE_STATE</td>\n",
       "      <td>Not Sensitive</td>\n",
       "      <td>http://www.5riversmarketing.com/</td>\n",
       "      <td>104.243.40.3</td>\n",
       "      <td>USA - Florida</td>\n",
       "      <td>No</td>\n",
       "    </tr>\n",
       "  </tbody>\n",
       "</table>\n",
       "</div>"
      ],
      "text/plain": [
       "     App Names                                        Permissions  \\\n",
       "0  XSSDetector  INTERNET,READ_CONTACTS,ACCESS_FINE_LOCATION,AC...   \n",
       "1  Attackers 2  INTERNET,READ_CONTACTS,ACCESS_FINE_LOCATION,AC...   \n",
       "2  Attackers 3  INTERNET,ACCESS_FINE_LOCATION,ACCESS_COARSE_LO...   \n",
       "3  Attackers 4                 INTERNET,READ_PHONE_STATE,SEND_SMS   \n",
       "4  Attackers 5            INTERNET,READ_CONTACTS,READ_PHONE_STATE   \n",
       "\n",
       "             API Name                        Website Name            IP  \\\n",
       "0         getDeviceId    http://www.5riversmarketing.com/  104.243.40.3   \n",
       "1  getSimSerialNumber    http://www.5riversmarketing.com/  104.243.40.3   \n",
       "2       Not Sensitive    http://www.5riversmarketing.com/  104.243.40.3   \n",
       "3       Not Sensitive  http://demo2.5riversmarketing.com/  104.243.40.3   \n",
       "4       Not Sensitive    http://www.5riversmarketing.com/  104.243.40.3   \n",
       "\n",
       "        Location Label  \n",
       "0  USA - Florida   Yes  \n",
       "1  USA - Florida   Yes  \n",
       "2  USA - Florida    No  \n",
       "3  USA - Florida    No  \n",
       "4  USA - Florida    No  "
      ]
     },
     "execution_count": 4,
     "metadata": {},
     "output_type": "execute_result"
    }
   ],
   "source": [
    "df = pd.read_excel(\"../input/xss-attacks-dataset/XSS Attack Dataset with 461 entries.xlsx\")\n",
    "df.head()"
   ]
  },
  {
   "cell_type": "code",
   "execution_count": 5,
   "id": "abea7f97",
   "metadata": {
    "execution": {
     "iopub.execute_input": "2023-03-02T11:27:39.156877Z",
     "iopub.status.busy": "2023-03-02T11:27:39.156249Z",
     "iopub.status.idle": "2023-03-02T11:27:39.175006Z",
     "shell.execute_reply": "2023-03-02T11:27:39.173481Z"
    },
    "papermill": {
     "duration": 0.0268,
     "end_time": "2023-03-02T11:27:39.178506",
     "exception": false,
     "start_time": "2023-03-02T11:27:39.151706",
     "status": "completed"
    },
    "tags": []
   },
   "outputs": [
    {
     "name": "stdout",
     "output_type": "stream",
     "text": [
      "Unique values in App Names: 460\n",
      "Unique values in Permissions: 27\n",
      "Unique values in API Name: 39\n",
      "Unique values in Website Name: 446\n",
      "Unique values in IP: 447\n",
      "Unique values in Location: 163\n",
      "Unique values in Label: 2\n"
     ]
    }
   ],
   "source": [
    "print(\"Unique values in App Names:\", len(pd.unique(df['App Names'])))\n",
    "print(\"Unique values in Permissions:\", len(pd.unique(df['Permissions'])))\n",
    "print(\"Unique values in API Name:\", len(pd.unique(df['API Name'])))\n",
    "print(\"Unique values in Website Name:\", len(pd.unique(df['Website Name'])))\n",
    "print(\"Unique values in IP:\", len(pd.unique(df['IP'])))\n",
    "print(\"Unique values in Location:\", len(pd.unique(df['Location'])))\n",
    "print(\"Unique values in Label:\", len(pd.unique(df['Label'])))"
   ]
  },
  {
   "cell_type": "code",
   "execution_count": 6,
   "id": "b98b1a43",
   "metadata": {
    "execution": {
     "iopub.execute_input": "2023-03-02T11:27:39.187563Z",
     "iopub.status.busy": "2023-03-02T11:27:39.187166Z",
     "iopub.status.idle": "2023-03-02T11:27:40.133243Z",
     "shell.execute_reply": "2023-03-02T11:27:40.131751Z"
    },
    "papermill": {
     "duration": 0.953734,
     "end_time": "2023-03-02T11:27:40.135939",
     "exception": false,
     "start_time": "2023-03-02T11:27:39.182205",
     "status": "completed"
    },
    "tags": []
   },
   "outputs": [
    {
     "data": {
      "text/html": [
       "<div>\n",
       "<style scoped>\n",
       "    .dataframe tbody tr th:only-of-type {\n",
       "        vertical-align: middle;\n",
       "    }\n",
       "\n",
       "    .dataframe tbody tr th {\n",
       "        vertical-align: top;\n",
       "    }\n",
       "\n",
       "    .dataframe thead th {\n",
       "        text-align: right;\n",
       "    }\n",
       "</style>\n",
       "<table border=\"1\" class=\"dataframe\">\n",
       "  <thead>\n",
       "    <tr style=\"text-align: right;\">\n",
       "      <th></th>\n",
       "      <th>App Names</th>\n",
       "      <th>Permissions</th>\n",
       "      <th>API Name</th>\n",
       "      <th>Website Name</th>\n",
       "      <th>IP</th>\n",
       "      <th>Location</th>\n",
       "      <th>Label</th>\n",
       "    </tr>\n",
       "  </thead>\n",
       "  <tbody>\n",
       "    <tr>\n",
       "      <th>0</th>\n",
       "      <td>435</td>\n",
       "      <td>12</td>\n",
       "      <td>16</td>\n",
       "      <td>3</td>\n",
       "      <td>21</td>\n",
       "      <td>148</td>\n",
       "      <td>1</td>\n",
       "    </tr>\n",
       "    <tr>\n",
       "      <th>1</th>\n",
       "      <td>48</td>\n",
       "      <td>12</td>\n",
       "      <td>27</td>\n",
       "      <td>3</td>\n",
       "      <td>21</td>\n",
       "      <td>148</td>\n",
       "      <td>1</td>\n",
       "    </tr>\n",
       "    <tr>\n",
       "      <th>2</th>\n",
       "      <td>49</td>\n",
       "      <td>9</td>\n",
       "      <td>2</td>\n",
       "      <td>3</td>\n",
       "      <td>21</td>\n",
       "      <td>148</td>\n",
       "      <td>0</td>\n",
       "    </tr>\n",
       "    <tr>\n",
       "      <th>3</th>\n",
       "      <td>50</td>\n",
       "      <td>16</td>\n",
       "      <td>2</td>\n",
       "      <td>0</td>\n",
       "      <td>21</td>\n",
       "      <td>148</td>\n",
       "      <td>0</td>\n",
       "    </tr>\n",
       "    <tr>\n",
       "      <th>4</th>\n",
       "      <td>51</td>\n",
       "      <td>13</td>\n",
       "      <td>2</td>\n",
       "      <td>3</td>\n",
       "      <td>21</td>\n",
       "      <td>148</td>\n",
       "      <td>0</td>\n",
       "    </tr>\n",
       "  </tbody>\n",
       "</table>\n",
       "</div>"
      ],
      "text/plain": [
       "   App Names  Permissions  API Name  Website Name  IP  Location  Label\n",
       "0        435           12        16             3  21       148      1\n",
       "1         48           12        27             3  21       148      1\n",
       "2         49            9         2             3  21       148      0\n",
       "3         50           16         2             0  21       148      0\n",
       "4         51           13         2             3  21       148      0"
      ]
     },
     "execution_count": 6,
     "metadata": {},
     "output_type": "execute_result"
    }
   ],
   "source": [
    "from sklearn.preprocessing import LabelEncoder\n",
    "\n",
    "for c in df.columns:\n",
    "    if df[c].dtype=='object': \n",
    "        lbl = LabelEncoder()\n",
    "        lbl.fit(list(df[c].values))\n",
    "        df[c] = lbl.transform(df[c].values)\n",
    "        \n",
    "df.head()  "
   ]
  },
  {
   "cell_type": "code",
   "execution_count": null,
   "id": "2bb34850",
   "metadata": {
    "papermill": {
     "duration": 0.003302,
     "end_time": "2023-03-02T11:27:40.142957",
     "exception": false,
     "start_time": "2023-03-02T11:27:40.139655",
     "status": "completed"
    },
    "tags": []
   },
   "outputs": [],
   "source": []
  }
 ],
 "metadata": {
  "kernelspec": {
   "display_name": "Python 3",
   "language": "python",
   "name": "python3"
  },
  "language_info": {
   "codemirror_mode": {
    "name": "ipython",
    "version": 3
   },
   "file_extension": ".py",
   "mimetype": "text/x-python",
   "name": "python",
   "nbconvert_exporter": "python",
   "pygments_lexer": "ipython3",
   "version": "3.7.12"
  },
  "papermill": {
   "default_parameters": {},
   "duration": 25.062379,
   "end_time": "2023-03-02T11:27:40.970434",
   "environment_variables": {},
   "exception": null,
   "input_path": "__notebook__.ipynb",
   "output_path": "__notebook__.ipynb",
   "parameters": {},
   "start_time": "2023-03-02T11:27:15.908055",
   "version": "2.4.0"
  }
 },
 "nbformat": 4,
 "nbformat_minor": 5
}
