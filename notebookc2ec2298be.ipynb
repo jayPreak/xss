{
 "cells": [
  {
   "cell_type": "code",
   "execution_count": 1,
   "id": "9ad2a52c",
   "metadata": {
    "_cell_guid": "e0f5de8f-8dac-41d4-8918-d67de3001494",
    "_uuid": "316a2fdf-9636-43ec-9175-fa2a757b9a2f",
    "collapsed": false,
    "execution": {
     "iopub.execute_input": "2023-03-02T11:25:51.287002Z",
     "iopub.status.busy": "2023-03-02T11:25:51.286284Z",
     "iopub.status.idle": "2023-03-02T11:25:51.296968Z",
     "shell.execute_reply": "2023-03-02T11:25:51.295959Z"
    },
    "jupyter": {
     "outputs_hidden": false
    },
    "papermill": {
     "duration": 0.018419,
     "end_time": "2023-03-02T11:25:51.299351",
     "exception": false,
     "start_time": "2023-03-02T11:25:51.280932",
     "status": "completed"
    },
    "tags": []
   },
   "outputs": [
    {
     "name": "stdout",
     "output_type": "stream",
     "text": [
      "yahallo\n"
     ]
    }
   ],
   "source": [
    "print(\"yahallo\")"
   ]
  },
  {
   "cell_type": "code",
   "execution_count": 2,
   "id": "58074d8b",
   "metadata": {
    "_cell_guid": "8c82b4d1-1b6d-4637-adc2-353c31c307f9",
    "_uuid": "1adff7c3-6e7a-42c1-9e5a-1420c307e819",
    "collapsed": false,
    "execution": {
     "iopub.execute_input": "2023-03-02T11:25:51.307174Z",
     "iopub.status.busy": "2023-03-02T11:25:51.306377Z",
     "iopub.status.idle": "2023-03-02T11:26:03.462658Z",
     "shell.execute_reply": "2023-03-02T11:26:03.461308Z"
    },
    "jupyter": {
     "outputs_hidden": false
    },
    "papermill": {
     "duration": 12.162725,
     "end_time": "2023-03-02T11:26:03.465383",
     "exception": false,
     "start_time": "2023-03-02T11:25:51.302658",
     "status": "completed"
    },
    "tags": []
   },
   "outputs": [
    {
     "name": "stdout",
     "output_type": "stream",
     "text": [
      "Requirement already satisfied: openpyxl in /opt/conda/lib/python3.7/site-packages (3.1.1)\r\n",
      "Requirement already satisfied: et-xmlfile in /opt/conda/lib/python3.7/site-packages (from openpyxl) (1.1.0)\r\n",
      "\u001b[33mWARNING: Running pip as the 'root' user can result in broken permissions and conflicting behaviour with the system package manager. It is recommended to use a virtual environment instead: https://pip.pypa.io/warnings/venv\u001b[0m\u001b[33m\r\n",
      "\u001b[0m"
     ]
    }
   ],
   "source": [
    "!pip install openpyxl"
   ]
  },
  {
   "cell_type": "code",
   "execution_count": 3,
   "id": "ffe03062",
   "metadata": {
    "_cell_guid": "6389db80-7a6d-4017-ae66-b55cb9428697",
    "_uuid": "87d15818-dc4d-43fa-9eac-a592adfe9959",
    "collapsed": false,
    "execution": {
     "iopub.execute_input": "2023-03-02T11:26:03.472730Z",
     "iopub.status.busy": "2023-03-02T11:26:03.472312Z",
     "iopub.status.idle": "2023-03-02T11:26:03.477752Z",
     "shell.execute_reply": "2023-03-02T11:26:03.476497Z"
    },
    "jupyter": {
     "outputs_hidden": false
    },
    "papermill": {
     "duration": 0.012422,
     "end_time": "2023-03-02T11:26:03.480388",
     "exception": false,
     "start_time": "2023-03-02T11:26:03.467966",
     "status": "completed"
    },
    "tags": []
   },
   "outputs": [],
   "source": [
    "import pandas as pd\n",
    "import numpy as np"
   ]
  },
  {
   "cell_type": "code",
   "execution_count": null,
   "id": "da29ba06",
   "metadata": {
    "papermill": {
     "duration": 0.00215,
     "end_time": "2023-03-02T11:26:03.485082",
     "exception": false,
     "start_time": "2023-03-02T11:26:03.482932",
     "status": "completed"
    },
    "tags": []
   },
   "outputs": [],
   "source": []
  }
 ],
 "metadata": {
  "kernelspec": {
   "display_name": "Python 3",
   "language": "python",
   "name": "python3"
  },
  "language_info": {
   "codemirror_mode": {
    "name": "ipython",
    "version": 3
   },
   "file_extension": ".py",
   "mimetype": "text/x-python",
   "name": "python",
   "nbconvert_exporter": "python",
   "pygments_lexer": "ipython3",
   "version": "3.7.12"
  },
  "papermill": {
   "default_parameters": {},
   "duration": 23.896157,
   "end_time": "2023-03-02T11:26:04.211554",
   "environment_variables": {},
   "exception": null,
   "input_path": "__notebook__.ipynb",
   "output_path": "__notebook__.ipynb",
   "parameters": {},
   "start_time": "2023-03-02T11:25:40.315397",
   "version": "2.4.0"
  }
 },
 "nbformat": 4,
 "nbformat_minor": 5
}
