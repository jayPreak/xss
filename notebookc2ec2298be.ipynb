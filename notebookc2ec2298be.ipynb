{
 "cells": [
  {
   "cell_type": "code",
   "execution_count": 1,
   "id": "5bf6a894",
   "metadata": {
    "_cell_guid": "e0f5de8f-8dac-41d4-8918-d67de3001494",
    "_uuid": "316a2fdf-9636-43ec-9175-fa2a757b9a2f",
    "collapsed": false,
    "execution": {
     "iopub.execute_input": "2023-03-02T11:26:30.020051Z",
     "iopub.status.busy": "2023-03-02T11:26:30.019397Z",
     "iopub.status.idle": "2023-03-02T11:26:30.035542Z",
     "shell.execute_reply": "2023-03-02T11:26:30.033903Z"
    },
    "jupyter": {
     "outputs_hidden": false
    },
    "papermill": {
     "duration": 0.025571,
     "end_time": "2023-03-02T11:26:30.038723",
     "exception": false,
     "start_time": "2023-03-02T11:26:30.013152",
     "status": "completed"
    },
    "tags": []
   },
   "outputs": [
    {
     "name": "stdout",
     "output_type": "stream",
     "text": [
      "yahallo\n"
     ]
    }
   ],
   "source": [
    "print(\"yahallo\")"
   ]
  },
  {
   "cell_type": "code",
   "execution_count": 2,
   "id": "cee253aa",
   "metadata": {
    "_cell_guid": "8c82b4d1-1b6d-4637-adc2-353c31c307f9",
    "_uuid": "1adff7c3-6e7a-42c1-9e5a-1420c307e819",
    "collapsed": false,
    "execution": {
     "iopub.execute_input": "2023-03-02T11:26:30.047174Z",
     "iopub.status.busy": "2023-03-02T11:26:30.045801Z",
     "iopub.status.idle": "2023-03-02T11:26:42.668322Z",
     "shell.execute_reply": "2023-03-02T11:26:42.666852Z"
    },
    "jupyter": {
     "outputs_hidden": false
    },
    "papermill": {
     "duration": 12.629646,
     "end_time": "2023-03-02T11:26:42.671407",
     "exception": false,
     "start_time": "2023-03-02T11:26:30.041761",
     "status": "completed"
    },
    "tags": []
   },
   "outputs": [
    {
     "name": "stdout",
     "output_type": "stream",
     "text": [
      "Requirement already satisfied: openpyxl in /opt/conda/lib/python3.7/site-packages (3.1.1)\r\n",
      "Requirement already satisfied: et-xmlfile in /opt/conda/lib/python3.7/site-packages (from openpyxl) (1.1.0)\r\n",
      "\u001b[33mWARNING: Running pip as the 'root' user can result in broken permissions and conflicting behaviour with the system package manager. It is recommended to use a virtual environment instead: https://pip.pypa.io/warnings/venv\u001b[0m\u001b[33m\r\n",
      "\u001b[0m"
     ]
    }
   ],
   "source": [
    "!pip install openpyxl"
   ]
  },
  {
   "cell_type": "code",
   "execution_count": 3,
   "id": "ecc1d0ef",
   "metadata": {
    "_cell_guid": "6389db80-7a6d-4017-ae66-b55cb9428697",
    "_uuid": "87d15818-dc4d-43fa-9eac-a592adfe9959",
    "collapsed": false,
    "execution": {
     "iopub.execute_input": "2023-03-02T11:26:42.679694Z",
     "iopub.status.busy": "2023-03-02T11:26:42.679217Z",
     "iopub.status.idle": "2023-03-02T11:26:42.685307Z",
     "shell.execute_reply": "2023-03-02T11:26:42.683915Z"
    },
    "jupyter": {
     "outputs_hidden": false
    },
    "papermill": {
     "duration": 0.013985,
     "end_time": "2023-03-02T11:26:42.688248",
     "exception": false,
     "start_time": "2023-03-02T11:26:42.674263",
     "status": "completed"
    },
    "tags": []
   },
   "outputs": [],
   "source": [
    "import pandas as pd\n",
    "import numpy as np"
   ]
  },
  {
   "cell_type": "code",
   "execution_count": 4,
   "id": "d285e715",
   "metadata": {
    "execution": {
     "iopub.execute_input": "2023-03-02T11:26:42.695830Z",
     "iopub.status.busy": "2023-03-02T11:26:42.695394Z",
     "iopub.status.idle": "2023-03-02T11:26:43.432494Z",
     "shell.execute_reply": "2023-03-02T11:26:43.430907Z"
    },
    "papermill": {
     "duration": 0.7443,
     "end_time": "2023-03-02T11:26:43.435415",
     "exception": false,
     "start_time": "2023-03-02T11:26:42.691115",
     "status": "completed"
    },
    "tags": []
   },
   "outputs": [
    {
     "data": {
      "text/html": [
       "<div>\n",
       "<style scoped>\n",
       "    .dataframe tbody tr th:only-of-type {\n",
       "        vertical-align: middle;\n",
       "    }\n",
       "\n",
       "    .dataframe tbody tr th {\n",
       "        vertical-align: top;\n",
       "    }\n",
       "\n",
       "    .dataframe thead th {\n",
       "        text-align: right;\n",
       "    }\n",
       "</style>\n",
       "<table border=\"1\" class=\"dataframe\">\n",
       "  <thead>\n",
       "    <tr style=\"text-align: right;\">\n",
       "      <th></th>\n",
       "      <th>App Names</th>\n",
       "      <th>Permissions</th>\n",
       "      <th>API Name</th>\n",
       "      <th>Website Name</th>\n",
       "      <th>IP</th>\n",
       "      <th>Location</th>\n",
       "      <th>Label</th>\n",
       "    </tr>\n",
       "  </thead>\n",
       "  <tbody>\n",
       "    <tr>\n",
       "      <th>0</th>\n",
       "      <td>XSSDetector</td>\n",
       "      <td>INTERNET,READ_CONTACTS,ACCESS_FINE_LOCATION,AC...</td>\n",
       "      <td>getDeviceId</td>\n",
       "      <td>http://www.5riversmarketing.com/</td>\n",
       "      <td>104.243.40.3</td>\n",
       "      <td>USA - Florida</td>\n",
       "      <td>Yes</td>\n",
       "    </tr>\n",
       "    <tr>\n",
       "      <th>1</th>\n",
       "      <td>Attackers 2</td>\n",
       "      <td>INTERNET,READ_CONTACTS,ACCESS_FINE_LOCATION,AC...</td>\n",
       "      <td>getSimSerialNumber</td>\n",
       "      <td>http://www.5riversmarketing.com/</td>\n",
       "      <td>104.243.40.3</td>\n",
       "      <td>USA - Florida</td>\n",
       "      <td>Yes</td>\n",
       "    </tr>\n",
       "    <tr>\n",
       "      <th>2</th>\n",
       "      <td>Attackers 3</td>\n",
       "      <td>INTERNET,ACCESS_FINE_LOCATION,ACCESS_COARSE_LO...</td>\n",
       "      <td>Not Sensitive</td>\n",
       "      <td>http://www.5riversmarketing.com/</td>\n",
       "      <td>104.243.40.3</td>\n",
       "      <td>USA - Florida</td>\n",
       "      <td>No</td>\n",
       "    </tr>\n",
       "    <tr>\n",
       "      <th>3</th>\n",
       "      <td>Attackers 4</td>\n",
       "      <td>INTERNET,READ_PHONE_STATE,SEND_SMS</td>\n",
       "      <td>Not Sensitive</td>\n",
       "      <td>http://demo2.5riversmarketing.com/</td>\n",
       "      <td>104.243.40.3</td>\n",
       "      <td>USA - Florida</td>\n",
       "      <td>No</td>\n",
       "    </tr>\n",
       "    <tr>\n",
       "      <th>4</th>\n",
       "      <td>Attackers 5</td>\n",
       "      <td>INTERNET,READ_CONTACTS,READ_PHONE_STATE</td>\n",
       "      <td>Not Sensitive</td>\n",
       "      <td>http://www.5riversmarketing.com/</td>\n",
       "      <td>104.243.40.3</td>\n",
       "      <td>USA - Florida</td>\n",
       "      <td>No</td>\n",
       "    </tr>\n",
       "  </tbody>\n",
       "</table>\n",
       "</div>"
      ],
      "text/plain": [
       "     App Names                                        Permissions  \\\n",
       "0  XSSDetector  INTERNET,READ_CONTACTS,ACCESS_FINE_LOCATION,AC...   \n",
       "1  Attackers 2  INTERNET,READ_CONTACTS,ACCESS_FINE_LOCATION,AC...   \n",
       "2  Attackers 3  INTERNET,ACCESS_FINE_LOCATION,ACCESS_COARSE_LO...   \n",
       "3  Attackers 4                 INTERNET,READ_PHONE_STATE,SEND_SMS   \n",
       "4  Attackers 5            INTERNET,READ_CONTACTS,READ_PHONE_STATE   \n",
       "\n",
       "             API Name                        Website Name            IP  \\\n",
       "0         getDeviceId    http://www.5riversmarketing.com/  104.243.40.3   \n",
       "1  getSimSerialNumber    http://www.5riversmarketing.com/  104.243.40.3   \n",
       "2       Not Sensitive    http://www.5riversmarketing.com/  104.243.40.3   \n",
       "3       Not Sensitive  http://demo2.5riversmarketing.com/  104.243.40.3   \n",
       "4       Not Sensitive    http://www.5riversmarketing.com/  104.243.40.3   \n",
       "\n",
       "        Location Label  \n",
       "0  USA - Florida   Yes  \n",
       "1  USA - Florida   Yes  \n",
       "2  USA - Florida    No  \n",
       "3  USA - Florida    No  \n",
       "4  USA - Florida    No  "
      ]
     },
     "execution_count": 4,
     "metadata": {},
     "output_type": "execute_result"
    }
   ],
   "source": [
    "df = pd.read_excel(\"../input/xss-attacks-dataset/XSS Attack Dataset with 461 entries.xlsx\")\n",
    "df.head()"
   ]
  },
  {
   "cell_type": "code",
   "execution_count": null,
   "id": "6bf681ee",
   "metadata": {
    "papermill": {
     "duration": 0.002712,
     "end_time": "2023-03-02T11:26:43.441355",
     "exception": false,
     "start_time": "2023-03-02T11:26:43.438643",
     "status": "completed"
    },
    "tags": []
   },
   "outputs": [],
   "source": []
  }
 ],
 "metadata": {
  "kernelspec": {
   "display_name": "Python 3",
   "language": "python",
   "name": "python3"
  },
  "language_info": {
   "codemirror_mode": {
    "name": "ipython",
    "version": 3
   },
   "file_extension": ".py",
   "mimetype": "text/x-python",
   "name": "python",
   "nbconvert_exporter": "python",
   "pygments_lexer": "ipython3",
   "version": "3.7.12"
  },
  "papermill": {
   "default_parameters": {},
   "duration": 26.251217,
   "end_time": "2023-03-02T11:26:44.169518",
   "environment_variables": {},
   "exception": null,
   "input_path": "__notebook__.ipynb",
   "output_path": "__notebook__.ipynb",
   "parameters": {},
   "start_time": "2023-03-02T11:26:17.918301",
   "version": "2.4.0"
  }
 },
 "nbformat": 4,
 "nbformat_minor": 5
}
